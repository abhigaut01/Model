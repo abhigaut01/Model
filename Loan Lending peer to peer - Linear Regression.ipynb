{
 "cells": [
  {
   "cell_type": "markdown",
   "metadata": {},
   "source": [
    "## This model is about peer to peer lending loan and after applying linear regression, we can calculate Interest Rate for lending loan."
   ]
  },
  {
   "cell_type": "markdown",
   "metadata": {},
   "source": [
    "### Import Libraries"
   ]
  },
  {
   "cell_type": "code",
   "execution_count": 117,
   "metadata": {},
   "outputs": [],
   "source": [
    "import numpy as np\n",
    "import pandas as pd\n",
    "import matplotlib.pyplot as plt\n",
    "import scipy.stats as stats\n",
    "%matplotlib inline\n",
    "from sklearn.model_selection import train_test_split\n",
    "from sklearn.feature_selection import RFE, SelectKBest, f_regression\n",
    "import sklearn.metrics as metrics\n",
    "from sklearn.linear_model import LinearRegression   #Linear Regression using sklearn\n",
    "import statsmodels.formula.api as smf               #linear regression using stats model\n",
    "import pandas_profiling as pp   #By default this package is not part of anaconda, need to install using pip or other way\n",
    "#pandas_profiling is used to create data audit report"
   ]
  },
  {
   "cell_type": "markdown",
   "metadata": {},
   "source": [
    "### Read .csv File"
   ]
  },
  {
   "cell_type": "code",
   "execution_count": 118,
   "metadata": {},
   "outputs": [],
   "source": [
    "loan = pd.read_csv(\"C:/Users/abgautam/Documents/Abhishek/LoansData.csv\")"
   ]
  },
  {
   "cell_type": "code",
   "execution_count": 119,
   "metadata": {},
   "outputs": [
    {
     "data": {
      "text/html": [
       "<div>\n",
       "<style scoped>\n",
       "    .dataframe tbody tr th:only-of-type {\n",
       "        vertical-align: middle;\n",
       "    }\n",
       "\n",
       "    .dataframe tbody tr th {\n",
       "        vertical-align: top;\n",
       "    }\n",
       "\n",
       "    .dataframe thead th {\n",
       "        text-align: right;\n",
       "    }\n",
       "</style>\n",
       "<table border=\"1\" class=\"dataframe\">\n",
       "  <thead>\n",
       "    <tr style=\"text-align: right;\">\n",
       "      <th></th>\n",
       "      <th>LoanID</th>\n",
       "      <th>Amount.Requested</th>\n",
       "      <th>Amount.Funded.By.Investors</th>\n",
       "      <th>Interest.Rate</th>\n",
       "      <th>Loan.Length</th>\n",
       "      <th>Loan.Purpose</th>\n",
       "      <th>Debt.To.Income.Ratio</th>\n",
       "      <th>State</th>\n",
       "      <th>Home.Ownership</th>\n",
       "      <th>Monthly.Income</th>\n",
       "      <th>FICO.Range</th>\n",
       "      <th>Open.CREDIT.Lines</th>\n",
       "      <th>Revolving.CREDIT.Balance</th>\n",
       "      <th>Inquiries.in.the.Last.6.Months</th>\n",
       "      <th>Employment.Length</th>\n",
       "    </tr>\n",
       "  </thead>\n",
       "  <tbody>\n",
       "    <tr>\n",
       "      <td>0</td>\n",
       "      <td>1</td>\n",
       "      <td>20000.0</td>\n",
       "      <td>20000.0</td>\n",
       "      <td>8.90%</td>\n",
       "      <td>36 months</td>\n",
       "      <td>debt_consolidation</td>\n",
       "      <td>14.90%</td>\n",
       "      <td>SC</td>\n",
       "      <td>MORTGAGE</td>\n",
       "      <td>6541.67</td>\n",
       "      <td>735-739</td>\n",
       "      <td>14.0</td>\n",
       "      <td>14272.0</td>\n",
       "      <td>2.0</td>\n",
       "      <td>&lt; 1 year</td>\n",
       "    </tr>\n",
       "    <tr>\n",
       "      <td>1</td>\n",
       "      <td>2</td>\n",
       "      <td>19200.0</td>\n",
       "      <td>19200.0</td>\n",
       "      <td>12.12%</td>\n",
       "      <td>36 months</td>\n",
       "      <td>debt_consolidation</td>\n",
       "      <td>28.36%</td>\n",
       "      <td>TX</td>\n",
       "      <td>MORTGAGE</td>\n",
       "      <td>4583.33</td>\n",
       "      <td>715-719</td>\n",
       "      <td>12.0</td>\n",
       "      <td>11140.0</td>\n",
       "      <td>1.0</td>\n",
       "      <td>2 years</td>\n",
       "    </tr>\n",
       "    <tr>\n",
       "      <td>2</td>\n",
       "      <td>3</td>\n",
       "      <td>35000.0</td>\n",
       "      <td>35000.0</td>\n",
       "      <td>21.98%</td>\n",
       "      <td>60 months</td>\n",
       "      <td>debt_consolidation</td>\n",
       "      <td>23.81%</td>\n",
       "      <td>CA</td>\n",
       "      <td>MORTGAGE</td>\n",
       "      <td>11500.00</td>\n",
       "      <td>690-694</td>\n",
       "      <td>14.0</td>\n",
       "      <td>21977.0</td>\n",
       "      <td>1.0</td>\n",
       "      <td>2 years</td>\n",
       "    </tr>\n",
       "  </tbody>\n",
       "</table>\n",
       "</div>"
      ],
      "text/plain": [
       "   LoanID  Amount.Requested  Amount.Funded.By.Investors Interest.Rate  \\\n",
       "0       1           20000.0                     20000.0         8.90%   \n",
       "1       2           19200.0                     19200.0        12.12%   \n",
       "2       3           35000.0                     35000.0        21.98%   \n",
       "\n",
       "  Loan.Length        Loan.Purpose Debt.To.Income.Ratio State Home.Ownership  \\\n",
       "0   36 months  debt_consolidation               14.90%    SC       MORTGAGE   \n",
       "1   36 months  debt_consolidation               28.36%    TX       MORTGAGE   \n",
       "2   60 months  debt_consolidation               23.81%    CA       MORTGAGE   \n",
       "\n",
       "   Monthly.Income FICO.Range  Open.CREDIT.Lines  Revolving.CREDIT.Balance  \\\n",
       "0         6541.67    735-739               14.0                   14272.0   \n",
       "1         4583.33    715-719               12.0                   11140.0   \n",
       "2        11500.00    690-694               14.0                   21977.0   \n",
       "\n",
       "   Inquiries.in.the.Last.6.Months Employment.Length  \n",
       "0                             2.0          < 1 year  \n",
       "1                             1.0           2 years  \n",
       "2                             1.0           2 years  "
      ]
     },
     "execution_count": 119,
     "metadata": {},
     "output_type": "execute_result"
    }
   ],
   "source": [
    "loan.head(3)"
   ]
  },
  {
   "cell_type": "code",
   "execution_count": 120,
   "metadata": {},
   "outputs": [
    {
     "data": {
      "text/plain": [
       "Index(['LoanID', 'Amount.Requested', 'Amount.Funded.By.Investors',\n",
       "       'Interest.Rate', 'Loan.Length', 'Loan.Purpose', 'Debt.To.Income.Ratio',\n",
       "       'State', 'Home.Ownership', 'Monthly.Income', 'FICO.Range',\n",
       "       'Open.CREDIT.Lines', 'Revolving.CREDIT.Balance',\n",
       "       'Inquiries.in.the.Last.6.Months', 'Employment.Length'],\n",
       "      dtype='object')"
      ]
     },
     "execution_count": 120,
     "metadata": {},
     "output_type": "execute_result"
    }
   ],
   "source": [
    "loan.columns"
   ]
  },
  {
   "cell_type": "code",
   "execution_count": 121,
   "metadata": {},
   "outputs": [
    {
     "name": "stdout",
     "output_type": "stream",
     "text": [
      "<class 'pandas.core.frame.DataFrame'>\n",
      "RangeIndex: 2500 entries, 0 to 2499\n",
      "Data columns (total 15 columns):\n",
      "LoanID                            2500 non-null int64\n",
      "Amount.Requested                  2499 non-null float64\n",
      "Amount.Funded.By.Investors        2499 non-null float64\n",
      "Interest.Rate                     2498 non-null object\n",
      "Loan.Length                       2500 non-null object\n",
      "Loan.Purpose                      2500 non-null object\n",
      "Debt.To.Income.Ratio              2499 non-null object\n",
      "State                             2500 non-null object\n",
      "Home.Ownership                    2499 non-null object\n",
      "Monthly.Income                    2499 non-null float64\n",
      "FICO.Range                        2498 non-null object\n",
      "Open.CREDIT.Lines                 2497 non-null float64\n",
      "Revolving.CREDIT.Balance          2497 non-null float64\n",
      "Inquiries.in.the.Last.6.Months    2497 non-null float64\n",
      "Employment.Length                 2423 non-null object\n",
      "dtypes: float64(6), int64(1), object(8)\n",
      "memory usage: 293.1+ KB\n"
     ]
    }
   ],
   "source": [
    "loan.info()"
   ]
  },
  {
   "cell_type": "markdown",
   "metadata": {},
   "source": [
    "#### Data Type Conversion (.astype, to_numeric)"
   ]
  },
  {
   "cell_type": "code",
   "execution_count": 122,
   "metadata": {},
   "outputs": [],
   "source": [
    "loan['Interest.Rate'] = loan['Interest.Rate'].apply (lambda x: float(str(x).replace('%','')))"
   ]
  },
  {
   "cell_type": "code",
   "execution_count": 123,
   "metadata": {},
   "outputs": [],
   "source": [
    "loan['Debt.To.Income.Ratio'] = loan['Debt.To.Income.Ratio'].apply(lambda x: float(str(x).replace('%','')))"
   ]
  },
  {
   "cell_type": "code",
   "execution_count": 124,
   "metadata": {},
   "outputs": [
    {
     "data": {
      "text/html": [
       "<div>\n",
       "<style scoped>\n",
       "    .dataframe tbody tr th:only-of-type {\n",
       "        vertical-align: middle;\n",
       "    }\n",
       "\n",
       "    .dataframe tbody tr th {\n",
       "        vertical-align: top;\n",
       "    }\n",
       "\n",
       "    .dataframe thead th {\n",
       "        text-align: right;\n",
       "    }\n",
       "</style>\n",
       "<table border=\"1\" class=\"dataframe\">\n",
       "  <thead>\n",
       "    <tr style=\"text-align: right;\">\n",
       "      <th></th>\n",
       "      <th>LoanID</th>\n",
       "      <th>Amount.Requested</th>\n",
       "      <th>Amount.Funded.By.Investors</th>\n",
       "      <th>Interest.Rate</th>\n",
       "      <th>Loan.Length</th>\n",
       "      <th>Loan.Purpose</th>\n",
       "      <th>Debt.To.Income.Ratio</th>\n",
       "      <th>State</th>\n",
       "      <th>Home.Ownership</th>\n",
       "      <th>Monthly.Income</th>\n",
       "      <th>FICO.Range</th>\n",
       "      <th>Open.CREDIT.Lines</th>\n",
       "      <th>Revolving.CREDIT.Balance</th>\n",
       "      <th>Inquiries.in.the.Last.6.Months</th>\n",
       "      <th>Employment.Length</th>\n",
       "    </tr>\n",
       "  </thead>\n",
       "  <tbody>\n",
       "    <tr>\n",
       "      <td>0</td>\n",
       "      <td>1</td>\n",
       "      <td>20000.0</td>\n",
       "      <td>20000.0</td>\n",
       "      <td>8.90</td>\n",
       "      <td>36 months</td>\n",
       "      <td>debt_consolidation</td>\n",
       "      <td>14.90</td>\n",
       "      <td>SC</td>\n",
       "      <td>MORTGAGE</td>\n",
       "      <td>6541.67</td>\n",
       "      <td>735-739</td>\n",
       "      <td>14.0</td>\n",
       "      <td>14272.0</td>\n",
       "      <td>2.0</td>\n",
       "      <td>&lt; 1 year</td>\n",
       "    </tr>\n",
       "    <tr>\n",
       "      <td>1</td>\n",
       "      <td>2</td>\n",
       "      <td>19200.0</td>\n",
       "      <td>19200.0</td>\n",
       "      <td>12.12</td>\n",
       "      <td>36 months</td>\n",
       "      <td>debt_consolidation</td>\n",
       "      <td>28.36</td>\n",
       "      <td>TX</td>\n",
       "      <td>MORTGAGE</td>\n",
       "      <td>4583.33</td>\n",
       "      <td>715-719</td>\n",
       "      <td>12.0</td>\n",
       "      <td>11140.0</td>\n",
       "      <td>1.0</td>\n",
       "      <td>2 years</td>\n",
       "    </tr>\n",
       "    <tr>\n",
       "      <td>2</td>\n",
       "      <td>3</td>\n",
       "      <td>35000.0</td>\n",
       "      <td>35000.0</td>\n",
       "      <td>21.98</td>\n",
       "      <td>60 months</td>\n",
       "      <td>debt_consolidation</td>\n",
       "      <td>23.81</td>\n",
       "      <td>CA</td>\n",
       "      <td>MORTGAGE</td>\n",
       "      <td>11500.00</td>\n",
       "      <td>690-694</td>\n",
       "      <td>14.0</td>\n",
       "      <td>21977.0</td>\n",
       "      <td>1.0</td>\n",
       "      <td>2 years</td>\n",
       "    </tr>\n",
       "    <tr>\n",
       "      <td>3</td>\n",
       "      <td>4</td>\n",
       "      <td>10000.0</td>\n",
       "      <td>9975.0</td>\n",
       "      <td>9.99</td>\n",
       "      <td>36 months</td>\n",
       "      <td>debt_consolidation</td>\n",
       "      <td>14.30</td>\n",
       "      <td>KS</td>\n",
       "      <td>MORTGAGE</td>\n",
       "      <td>3833.33</td>\n",
       "      <td>695-699</td>\n",
       "      <td>10.0</td>\n",
       "      <td>9346.0</td>\n",
       "      <td>0.0</td>\n",
       "      <td>5 years</td>\n",
       "    </tr>\n",
       "    <tr>\n",
       "      <td>4</td>\n",
       "      <td>5</td>\n",
       "      <td>12000.0</td>\n",
       "      <td>12000.0</td>\n",
       "      <td>11.71</td>\n",
       "      <td>36 months</td>\n",
       "      <td>credit_card</td>\n",
       "      <td>18.78</td>\n",
       "      <td>NJ</td>\n",
       "      <td>RENT</td>\n",
       "      <td>3195.00</td>\n",
       "      <td>695-699</td>\n",
       "      <td>11.0</td>\n",
       "      <td>14469.0</td>\n",
       "      <td>0.0</td>\n",
       "      <td>9 years</td>\n",
       "    </tr>\n",
       "  </tbody>\n",
       "</table>\n",
       "</div>"
      ],
      "text/plain": [
       "   LoanID  Amount.Requested  Amount.Funded.By.Investors  Interest.Rate  \\\n",
       "0       1           20000.0                     20000.0           8.90   \n",
       "1       2           19200.0                     19200.0          12.12   \n",
       "2       3           35000.0                     35000.0          21.98   \n",
       "3       4           10000.0                      9975.0           9.99   \n",
       "4       5           12000.0                     12000.0          11.71   \n",
       "\n",
       "  Loan.Length        Loan.Purpose  Debt.To.Income.Ratio State Home.Ownership  \\\n",
       "0   36 months  debt_consolidation                 14.90    SC       MORTGAGE   \n",
       "1   36 months  debt_consolidation                 28.36    TX       MORTGAGE   \n",
       "2   60 months  debt_consolidation                 23.81    CA       MORTGAGE   \n",
       "3   36 months  debt_consolidation                 14.30    KS       MORTGAGE   \n",
       "4   36 months         credit_card                 18.78    NJ           RENT   \n",
       "\n",
       "   Monthly.Income FICO.Range  Open.CREDIT.Lines  Revolving.CREDIT.Balance  \\\n",
       "0         6541.67    735-739               14.0                   14272.0   \n",
       "1         4583.33    715-719               12.0                   11140.0   \n",
       "2        11500.00    690-694               14.0                   21977.0   \n",
       "3         3833.33    695-699               10.0                    9346.0   \n",
       "4         3195.00    695-699               11.0                   14469.0   \n",
       "\n",
       "   Inquiries.in.the.Last.6.Months Employment.Length  \n",
       "0                             2.0          < 1 year  \n",
       "1                             1.0           2 years  \n",
       "2                             1.0           2 years  \n",
       "3                             0.0           5 years  \n",
       "4                             0.0           9 years  "
      ]
     },
     "execution_count": 124,
     "metadata": {},
     "output_type": "execute_result"
    }
   ],
   "source": [
    "loan.head()"
   ]
  },
  {
   "cell_type": "code",
   "execution_count": 125,
   "metadata": {},
   "outputs": [],
   "source": [
    "loan['Employment.Length'] = loan['Employment.Length'].apply(lambda x: str(x).replace('<',''))\n",
    "loan['Employment.Length'] = loan['Employment.Length'].apply(lambda x: str(x).replace('+',''))\n",
    "loan['Employment.Length'] = loan['Employment.Length'].apply(lambda x: str(x).replace(' years',''))\n",
    "loan['Employment.Length'] = loan['Employment.Length'].apply(lambda x: float(str(x).replace(' year','')))"
   ]
  },
  {
   "cell_type": "code",
   "execution_count": 126,
   "metadata": {},
   "outputs": [],
   "source": [
    "loan['Loan.Length'] = loan['Loan.Length'].apply(lambda x: float(str(x).replace(' months','')))"
   ]
  },
  {
   "cell_type": "code",
   "execution_count": 127,
   "metadata": {},
   "outputs": [
    {
     "data": {
      "text/html": [
       "<div>\n",
       "<style scoped>\n",
       "    .dataframe tbody tr th:only-of-type {\n",
       "        vertical-align: middle;\n",
       "    }\n",
       "\n",
       "    .dataframe tbody tr th {\n",
       "        vertical-align: top;\n",
       "    }\n",
       "\n",
       "    .dataframe thead th {\n",
       "        text-align: right;\n",
       "    }\n",
       "</style>\n",
       "<table border=\"1\" class=\"dataframe\">\n",
       "  <thead>\n",
       "    <tr style=\"text-align: right;\">\n",
       "      <th></th>\n",
       "      <th>LoanID</th>\n",
       "      <th>Amount.Requested</th>\n",
       "      <th>Amount.Funded.By.Investors</th>\n",
       "      <th>Interest.Rate</th>\n",
       "      <th>Loan.Length</th>\n",
       "      <th>Loan.Purpose</th>\n",
       "      <th>Debt.To.Income.Ratio</th>\n",
       "      <th>State</th>\n",
       "      <th>Home.Ownership</th>\n",
       "      <th>Monthly.Income</th>\n",
       "      <th>FICO.Range</th>\n",
       "      <th>Open.CREDIT.Lines</th>\n",
       "      <th>Revolving.CREDIT.Balance</th>\n",
       "      <th>Inquiries.in.the.Last.6.Months</th>\n",
       "      <th>Employment.Length</th>\n",
       "    </tr>\n",
       "  </thead>\n",
       "  <tbody>\n",
       "    <tr>\n",
       "      <td>0</td>\n",
       "      <td>1</td>\n",
       "      <td>20000.0</td>\n",
       "      <td>20000.0</td>\n",
       "      <td>8.90</td>\n",
       "      <td>36.0</td>\n",
       "      <td>debt_consolidation</td>\n",
       "      <td>14.90</td>\n",
       "      <td>SC</td>\n",
       "      <td>MORTGAGE</td>\n",
       "      <td>6541.67</td>\n",
       "      <td>735-739</td>\n",
       "      <td>14.0</td>\n",
       "      <td>14272.0</td>\n",
       "      <td>2.0</td>\n",
       "      <td>1.0</td>\n",
       "    </tr>\n",
       "    <tr>\n",
       "      <td>1</td>\n",
       "      <td>2</td>\n",
       "      <td>19200.0</td>\n",
       "      <td>19200.0</td>\n",
       "      <td>12.12</td>\n",
       "      <td>36.0</td>\n",
       "      <td>debt_consolidation</td>\n",
       "      <td>28.36</td>\n",
       "      <td>TX</td>\n",
       "      <td>MORTGAGE</td>\n",
       "      <td>4583.33</td>\n",
       "      <td>715-719</td>\n",
       "      <td>12.0</td>\n",
       "      <td>11140.0</td>\n",
       "      <td>1.0</td>\n",
       "      <td>2.0</td>\n",
       "    </tr>\n",
       "  </tbody>\n",
       "</table>\n",
       "</div>"
      ],
      "text/plain": [
       "   LoanID  Amount.Requested  Amount.Funded.By.Investors  Interest.Rate  \\\n",
       "0       1           20000.0                     20000.0           8.90   \n",
       "1       2           19200.0                     19200.0          12.12   \n",
       "\n",
       "   Loan.Length        Loan.Purpose  Debt.To.Income.Ratio State Home.Ownership  \\\n",
       "0         36.0  debt_consolidation                 14.90    SC       MORTGAGE   \n",
       "1         36.0  debt_consolidation                 28.36    TX       MORTGAGE   \n",
       "\n",
       "   Monthly.Income FICO.Range  Open.CREDIT.Lines  Revolving.CREDIT.Balance  \\\n",
       "0         6541.67    735-739               14.0                   14272.0   \n",
       "1         4583.33    715-719               12.0                   11140.0   \n",
       "\n",
       "   Inquiries.in.the.Last.6.Months  Employment.Length  \n",
       "0                             2.0                1.0  \n",
       "1                             1.0                2.0  "
      ]
     },
     "execution_count": 127,
     "metadata": {},
     "output_type": "execute_result"
    }
   ],
   "source": [
    "loan.head(2)"
   ]
  },
  {
   "cell_type": "code",
   "execution_count": 128,
   "metadata": {},
   "outputs": [
    {
     "name": "stdout",
     "output_type": "stream",
     "text": [
      "<class 'pandas.core.frame.DataFrame'>\n",
      "RangeIndex: 2500 entries, 0 to 2499\n",
      "Data columns (total 15 columns):\n",
      "LoanID                            2500 non-null int64\n",
      "Amount.Requested                  2499 non-null float64\n",
      "Amount.Funded.By.Investors        2499 non-null float64\n",
      "Interest.Rate                     2498 non-null float64\n",
      "Loan.Length                       2500 non-null float64\n",
      "Loan.Purpose                      2500 non-null object\n",
      "Debt.To.Income.Ratio              2499 non-null float64\n",
      "State                             2500 non-null object\n",
      "Home.Ownership                    2499 non-null object\n",
      "Monthly.Income                    2499 non-null float64\n",
      "FICO.Range                        2498 non-null object\n",
      "Open.CREDIT.Lines                 2497 non-null float64\n",
      "Revolving.CREDIT.Balance          2497 non-null float64\n",
      "Inquiries.in.the.Last.6.Months    2497 non-null float64\n",
      "Employment.Length                 2423 non-null float64\n",
      "dtypes: float64(10), int64(1), object(4)\n",
      "memory usage: 293.1+ KB\n"
     ]
    }
   ],
   "source": [
    "loan.info()"
   ]
  },
  {
   "cell_type": "code",
   "execution_count": 129,
   "metadata": {},
   "outputs": [],
   "source": [
    "#Splitting Fico range to two columns and then taking average\n",
    "loan[['Fico_low','Fico_high']] = loan['FICO.Range'].str.split('-',expand=True)\n",
    "loan['Fico_avg'] = (loan.Fico_low.astype('float') + loan.Fico_high.astype('float'))/2"
   ]
  },
  {
   "cell_type": "code",
   "execution_count": 130,
   "metadata": {},
   "outputs": [],
   "source": [
    "loan = loan.drop(['FICO.Range','Fico_low','Fico_high','LoanID','Amount.Funded.By.Investors'], axis=1)"
   ]
  },
  {
   "cell_type": "code",
   "execution_count": 131,
   "metadata": {},
   "outputs": [
    {
     "data": {
      "text/html": [
       "<div>\n",
       "<style scoped>\n",
       "    .dataframe tbody tr th:only-of-type {\n",
       "        vertical-align: middle;\n",
       "    }\n",
       "\n",
       "    .dataframe tbody tr th {\n",
       "        vertical-align: top;\n",
       "    }\n",
       "\n",
       "    .dataframe thead th {\n",
       "        text-align: right;\n",
       "    }\n",
       "</style>\n",
       "<table border=\"1\" class=\"dataframe\">\n",
       "  <thead>\n",
       "    <tr style=\"text-align: right;\">\n",
       "      <th></th>\n",
       "      <th>Amount.Requested</th>\n",
       "      <th>Interest.Rate</th>\n",
       "      <th>Loan.Length</th>\n",
       "      <th>Loan.Purpose</th>\n",
       "      <th>Debt.To.Income.Ratio</th>\n",
       "      <th>State</th>\n",
       "      <th>Home.Ownership</th>\n",
       "      <th>Monthly.Income</th>\n",
       "      <th>Open.CREDIT.Lines</th>\n",
       "      <th>Revolving.CREDIT.Balance</th>\n",
       "      <th>Inquiries.in.the.Last.6.Months</th>\n",
       "      <th>Employment.Length</th>\n",
       "      <th>Fico_avg</th>\n",
       "    </tr>\n",
       "  </thead>\n",
       "  <tbody>\n",
       "    <tr>\n",
       "      <td>0</td>\n",
       "      <td>20000.0</td>\n",
       "      <td>8.90</td>\n",
       "      <td>36.0</td>\n",
       "      <td>debt_consolidation</td>\n",
       "      <td>14.90</td>\n",
       "      <td>SC</td>\n",
       "      <td>MORTGAGE</td>\n",
       "      <td>6541.67</td>\n",
       "      <td>14.0</td>\n",
       "      <td>14272.0</td>\n",
       "      <td>2.0</td>\n",
       "      <td>1.0</td>\n",
       "      <td>737.0</td>\n",
       "    </tr>\n",
       "    <tr>\n",
       "      <td>1</td>\n",
       "      <td>19200.0</td>\n",
       "      <td>12.12</td>\n",
       "      <td>36.0</td>\n",
       "      <td>debt_consolidation</td>\n",
       "      <td>28.36</td>\n",
       "      <td>TX</td>\n",
       "      <td>MORTGAGE</td>\n",
       "      <td>4583.33</td>\n",
       "      <td>12.0</td>\n",
       "      <td>11140.0</td>\n",
       "      <td>1.0</td>\n",
       "      <td>2.0</td>\n",
       "      <td>717.0</td>\n",
       "    </tr>\n",
       "  </tbody>\n",
       "</table>\n",
       "</div>"
      ],
      "text/plain": [
       "   Amount.Requested  Interest.Rate  Loan.Length        Loan.Purpose  \\\n",
       "0           20000.0           8.90         36.0  debt_consolidation   \n",
       "1           19200.0          12.12         36.0  debt_consolidation   \n",
       "\n",
       "   Debt.To.Income.Ratio State Home.Ownership  Monthly.Income  \\\n",
       "0                 14.90    SC       MORTGAGE         6541.67   \n",
       "1                 28.36    TX       MORTGAGE         4583.33   \n",
       "\n",
       "   Open.CREDIT.Lines  Revolving.CREDIT.Balance  \\\n",
       "0               14.0                   14272.0   \n",
       "1               12.0                   11140.0   \n",
       "\n",
       "   Inquiries.in.the.Last.6.Months  Employment.Length  Fico_avg  \n",
       "0                             2.0                1.0     737.0  \n",
       "1                             1.0                2.0     717.0  "
      ]
     },
     "execution_count": 131,
     "metadata": {},
     "output_type": "execute_result"
    }
   ],
   "source": [
    "loan.head(2)"
   ]
  },
  {
   "cell_type": "code",
   "execution_count": 132,
   "metadata": {},
   "outputs": [
    {
     "data": {
      "text/plain": [
       "14"
      ]
     },
     "execution_count": 132,
     "metadata": {},
     "output_type": "execute_result"
    }
   ],
   "source": [
    "loan['Loan.Purpose'].nunique()"
   ]
  },
  {
   "cell_type": "code",
   "execution_count": 133,
   "metadata": {},
   "outputs": [
    {
     "data": {
      "text/plain": [
       "5"
      ]
     },
     "execution_count": 133,
     "metadata": {},
     "output_type": "execute_result"
    }
   ],
   "source": [
    "loan['Home.Ownership'].nunique()"
   ]
  },
  {
   "cell_type": "code",
   "execution_count": 134,
   "metadata": {},
   "outputs": [
    {
     "data": {
      "text/plain": [
       "46"
      ]
     },
     "execution_count": 134,
     "metadata": {},
     "output_type": "execute_result"
    }
   ],
   "source": [
    "loan['State'].nunique()"
   ]
  },
  {
   "cell_type": "code",
   "execution_count": 135,
   "metadata": {},
   "outputs": [],
   "source": [
    "#If categorical variable is >20, we cn ignore them for time being or in starting\n",
    "#State has 46 categories, we are dropping state\n",
    "loan = loan.drop(['State'], axis=1)"
   ]
  },
  {
   "cell_type": "code",
   "execution_count": 136,
   "metadata": {},
   "outputs": [
    {
     "name": "stdout",
     "output_type": "stream",
     "text": [
      "<class 'pandas.core.frame.DataFrame'>\n",
      "RangeIndex: 2500 entries, 0 to 2499\n",
      "Data columns (total 12 columns):\n",
      "Amount.Requested                  2499 non-null float64\n",
      "Interest.Rate                     2498 non-null float64\n",
      "Loan.Length                       2500 non-null float64\n",
      "Loan.Purpose                      2500 non-null object\n",
      "Debt.To.Income.Ratio              2499 non-null float64\n",
      "Home.Ownership                    2499 non-null object\n",
      "Monthly.Income                    2499 non-null float64\n",
      "Open.CREDIT.Lines                 2497 non-null float64\n",
      "Revolving.CREDIT.Balance          2497 non-null float64\n",
      "Inquiries.in.the.Last.6.Months    2497 non-null float64\n",
      "Employment.Length                 2423 non-null float64\n",
      "Fico_avg                          2498 non-null float64\n",
      "dtypes: float64(10), object(2)\n",
      "memory usage: 234.5+ KB\n"
     ]
    }
   ],
   "source": [
    "loan.info()"
   ]
  },
  {
   "cell_type": "code",
   "execution_count": 137,
   "metadata": {},
   "outputs": [],
   "source": [
    "#Replacing .with _ in column names\n",
    "loan.columns = [x.strip().replace('.','_') for x in loan.columns]"
   ]
  },
  {
   "cell_type": "code",
   "execution_count": 138,
   "metadata": {},
   "outputs": [
    {
     "data": {
      "text/plain": [
       "Index(['Amount_Requested', 'Interest_Rate', 'Loan_Length', 'Loan_Purpose',\n",
       "       'Debt_To_Income_Ratio', 'Home_Ownership', 'Monthly_Income',\n",
       "       'Open_CREDIT_Lines', 'Revolving_CREDIT_Balance',\n",
       "       'Inquiries_in_the_Last_6_Months', 'Employment_Length', 'Fico_avg'],\n",
       "      dtype='object')"
      ]
     },
     "execution_count": 138,
     "metadata": {},
     "output_type": "execute_result"
    }
   ],
   "source": [
    "loan.columns"
   ]
  },
  {
   "cell_type": "code",
   "execution_count": 139,
   "metadata": {},
   "outputs": [
    {
     "data": {
      "text/html": [
       "<div>\n",
       "<style scoped>\n",
       "    .dataframe tbody tr th:only-of-type {\n",
       "        vertical-align: middle;\n",
       "    }\n",
       "\n",
       "    .dataframe tbody tr th {\n",
       "        vertical-align: top;\n",
       "    }\n",
       "\n",
       "    .dataframe thead th {\n",
       "        text-align: right;\n",
       "    }\n",
       "</style>\n",
       "<table border=\"1\" class=\"dataframe\">\n",
       "  <thead>\n",
       "    <tr style=\"text-align: right;\">\n",
       "      <th></th>\n",
       "      <th>Amount_Requested</th>\n",
       "      <th>Interest_Rate</th>\n",
       "      <th>Loan_Length</th>\n",
       "      <th>Loan_Purpose</th>\n",
       "      <th>Debt_To_Income_Ratio</th>\n",
       "      <th>Home_Ownership</th>\n",
       "      <th>Monthly_Income</th>\n",
       "      <th>Open_CREDIT_Lines</th>\n",
       "      <th>Revolving_CREDIT_Balance</th>\n",
       "      <th>Inquiries_in_the_Last_6_Months</th>\n",
       "      <th>Employment_Length</th>\n",
       "      <th>Fico_avg</th>\n",
       "    </tr>\n",
       "  </thead>\n",
       "  <tbody>\n",
       "    <tr>\n",
       "      <td>0</td>\n",
       "      <td>20000.0</td>\n",
       "      <td>8.90</td>\n",
       "      <td>36.0</td>\n",
       "      <td>debt_consolidation</td>\n",
       "      <td>14.90</td>\n",
       "      <td>MORTGAGE</td>\n",
       "      <td>6541.67</td>\n",
       "      <td>14.0</td>\n",
       "      <td>14272.0</td>\n",
       "      <td>2.0</td>\n",
       "      <td>1.0</td>\n",
       "      <td>737.0</td>\n",
       "    </tr>\n",
       "    <tr>\n",
       "      <td>1</td>\n",
       "      <td>19200.0</td>\n",
       "      <td>12.12</td>\n",
       "      <td>36.0</td>\n",
       "      <td>debt_consolidation</td>\n",
       "      <td>28.36</td>\n",
       "      <td>MORTGAGE</td>\n",
       "      <td>4583.33</td>\n",
       "      <td>12.0</td>\n",
       "      <td>11140.0</td>\n",
       "      <td>1.0</td>\n",
       "      <td>2.0</td>\n",
       "      <td>717.0</td>\n",
       "    </tr>\n",
       "    <tr>\n",
       "      <td>2</td>\n",
       "      <td>35000.0</td>\n",
       "      <td>21.98</td>\n",
       "      <td>60.0</td>\n",
       "      <td>debt_consolidation</td>\n",
       "      <td>23.81</td>\n",
       "      <td>MORTGAGE</td>\n",
       "      <td>11500.00</td>\n",
       "      <td>14.0</td>\n",
       "      <td>21977.0</td>\n",
       "      <td>1.0</td>\n",
       "      <td>2.0</td>\n",
       "      <td>692.0</td>\n",
       "    </tr>\n",
       "    <tr>\n",
       "      <td>3</td>\n",
       "      <td>10000.0</td>\n",
       "      <td>9.99</td>\n",
       "      <td>36.0</td>\n",
       "      <td>debt_consolidation</td>\n",
       "      <td>14.30</td>\n",
       "      <td>MORTGAGE</td>\n",
       "      <td>3833.33</td>\n",
       "      <td>10.0</td>\n",
       "      <td>9346.0</td>\n",
       "      <td>0.0</td>\n",
       "      <td>5.0</td>\n",
       "      <td>697.0</td>\n",
       "    </tr>\n",
       "    <tr>\n",
       "      <td>4</td>\n",
       "      <td>12000.0</td>\n",
       "      <td>11.71</td>\n",
       "      <td>36.0</td>\n",
       "      <td>credit_card</td>\n",
       "      <td>18.78</td>\n",
       "      <td>RENT</td>\n",
       "      <td>3195.00</td>\n",
       "      <td>11.0</td>\n",
       "      <td>14469.0</td>\n",
       "      <td>0.0</td>\n",
       "      <td>9.0</td>\n",
       "      <td>697.0</td>\n",
       "    </tr>\n",
       "  </tbody>\n",
       "</table>\n",
       "</div>"
      ],
      "text/plain": [
       "   Amount_Requested  Interest_Rate  Loan_Length        Loan_Purpose  \\\n",
       "0           20000.0           8.90         36.0  debt_consolidation   \n",
       "1           19200.0          12.12         36.0  debt_consolidation   \n",
       "2           35000.0          21.98         60.0  debt_consolidation   \n",
       "3           10000.0           9.99         36.0  debt_consolidation   \n",
       "4           12000.0          11.71         36.0         credit_card   \n",
       "\n",
       "   Debt_To_Income_Ratio Home_Ownership  Monthly_Income  Open_CREDIT_Lines  \\\n",
       "0                 14.90       MORTGAGE         6541.67               14.0   \n",
       "1                 28.36       MORTGAGE         4583.33               12.0   \n",
       "2                 23.81       MORTGAGE        11500.00               14.0   \n",
       "3                 14.30       MORTGAGE         3833.33               10.0   \n",
       "4                 18.78           RENT         3195.00               11.0   \n",
       "\n",
       "   Revolving_CREDIT_Balance  Inquiries_in_the_Last_6_Months  \\\n",
       "0                   14272.0                             2.0   \n",
       "1                   11140.0                             1.0   \n",
       "2                   21977.0                             1.0   \n",
       "3                    9346.0                             0.0   \n",
       "4                   14469.0                             0.0   \n",
       "\n",
       "   Employment_Length  Fico_avg  \n",
       "0                1.0     737.0  \n",
       "1                2.0     717.0  \n",
       "2                2.0     692.0  \n",
       "3                5.0     697.0  \n",
       "4                9.0     697.0  "
      ]
     },
     "execution_count": 139,
     "metadata": {},
     "output_type": "execute_result"
    }
   ],
   "source": [
    "loan.head()"
   ]
  },
  {
   "cell_type": "markdown",
   "metadata": {},
   "source": [
    "### Assigning categorical columns to one variable and numerical columns to another variable"
   ]
  },
  {
   "cell_type": "code",
   "execution_count": 140,
   "metadata": {},
   "outputs": [],
   "source": [
    "cat_vars=['Loan_Purpose','Home_Ownership']\n",
    "num_vars=['Amount_Requested','Interest_Rate','Loan_Length','Debt_To_Income_Ratio','Monthly_Income'\n",
    "          ,'Open_CREDIT_Lines','Revolving_CREDIT_Balance','Inquiries_in_the_Last_6_Months'\n",
    "          ,'Employment_Length','Fico_avg']"
   ]
  },
  {
   "cell_type": "code",
   "execution_count": 141,
   "metadata": {},
   "outputs": [],
   "source": [
    "data_cat = loan[cat_vars]\n",
    "data_num = loan[num_vars]"
   ]
  },
  {
   "cell_type": "code",
   "execution_count": 142,
   "metadata": {},
   "outputs": [
    {
     "data": {
      "text/html": [
       "<div>\n",
       "<style scoped>\n",
       "    .dataframe tbody tr th:only-of-type {\n",
       "        vertical-align: middle;\n",
       "    }\n",
       "\n",
       "    .dataframe tbody tr th {\n",
       "        vertical-align: top;\n",
       "    }\n",
       "\n",
       "    .dataframe thead th {\n",
       "        text-align: right;\n",
       "    }\n",
       "</style>\n",
       "<table border=\"1\" class=\"dataframe\">\n",
       "  <thead>\n",
       "    <tr style=\"text-align: right;\">\n",
       "      <th></th>\n",
       "      <th>Loan_Purpose</th>\n",
       "      <th>Home_Ownership</th>\n",
       "    </tr>\n",
       "  </thead>\n",
       "  <tbody>\n",
       "    <tr>\n",
       "      <td>0</td>\n",
       "      <td>debt_consolidation</td>\n",
       "      <td>MORTGAGE</td>\n",
       "    </tr>\n",
       "    <tr>\n",
       "      <td>1</td>\n",
       "      <td>debt_consolidation</td>\n",
       "      <td>MORTGAGE</td>\n",
       "    </tr>\n",
       "  </tbody>\n",
       "</table>\n",
       "</div>"
      ],
      "text/plain": [
       "         Loan_Purpose Home_Ownership\n",
       "0  debt_consolidation       MORTGAGE\n",
       "1  debt_consolidation       MORTGAGE"
      ]
     },
     "execution_count": 142,
     "metadata": {},
     "output_type": "execute_result"
    }
   ],
   "source": [
    "data_cat.head(2)"
   ]
  },
  {
   "cell_type": "code",
   "execution_count": 143,
   "metadata": {},
   "outputs": [
    {
     "data": {
      "text/html": [
       "<div>\n",
       "<style scoped>\n",
       "    .dataframe tbody tr th:only-of-type {\n",
       "        vertical-align: middle;\n",
       "    }\n",
       "\n",
       "    .dataframe tbody tr th {\n",
       "        vertical-align: top;\n",
       "    }\n",
       "\n",
       "    .dataframe thead th {\n",
       "        text-align: right;\n",
       "    }\n",
       "</style>\n",
       "<table border=\"1\" class=\"dataframe\">\n",
       "  <thead>\n",
       "    <tr style=\"text-align: right;\">\n",
       "      <th></th>\n",
       "      <th>Amount_Requested</th>\n",
       "      <th>Interest_Rate</th>\n",
       "      <th>Loan_Length</th>\n",
       "      <th>Debt_To_Income_Ratio</th>\n",
       "      <th>Monthly_Income</th>\n",
       "      <th>Open_CREDIT_Lines</th>\n",
       "      <th>Revolving_CREDIT_Balance</th>\n",
       "      <th>Inquiries_in_the_Last_6_Months</th>\n",
       "      <th>Employment_Length</th>\n",
       "      <th>Fico_avg</th>\n",
       "    </tr>\n",
       "  </thead>\n",
       "  <tbody>\n",
       "    <tr>\n",
       "      <td>0</td>\n",
       "      <td>20000.0</td>\n",
       "      <td>8.90</td>\n",
       "      <td>36.0</td>\n",
       "      <td>14.90</td>\n",
       "      <td>6541.67</td>\n",
       "      <td>14.0</td>\n",
       "      <td>14272.0</td>\n",
       "      <td>2.0</td>\n",
       "      <td>1.0</td>\n",
       "      <td>737.0</td>\n",
       "    </tr>\n",
       "    <tr>\n",
       "      <td>1</td>\n",
       "      <td>19200.0</td>\n",
       "      <td>12.12</td>\n",
       "      <td>36.0</td>\n",
       "      <td>28.36</td>\n",
       "      <td>4583.33</td>\n",
       "      <td>12.0</td>\n",
       "      <td>11140.0</td>\n",
       "      <td>1.0</td>\n",
       "      <td>2.0</td>\n",
       "      <td>717.0</td>\n",
       "    </tr>\n",
       "  </tbody>\n",
       "</table>\n",
       "</div>"
      ],
      "text/plain": [
       "   Amount_Requested  Interest_Rate  Loan_Length  Debt_To_Income_Ratio  \\\n",
       "0           20000.0           8.90         36.0                 14.90   \n",
       "1           19200.0          12.12         36.0                 28.36   \n",
       "\n",
       "   Monthly_Income  Open_CREDIT_Lines  Revolving_CREDIT_Balance  \\\n",
       "0         6541.67               14.0                   14272.0   \n",
       "1         4583.33               12.0                   11140.0   \n",
       "\n",
       "   Inquiries_in_the_Last_6_Months  Employment_Length  Fico_avg  \n",
       "0                             2.0                1.0     737.0  \n",
       "1                             1.0                2.0     717.0  "
      ]
     },
     "execution_count": 143,
     "metadata": {},
     "output_type": "execute_result"
    }
   ],
   "source": [
    "data_num.head(2)"
   ]
  },
  {
   "cell_type": "code",
   "execution_count": 144,
   "metadata": {},
   "outputs": [
    {
     "data": {
      "text/plain": [
       "1500.0"
      ]
     },
     "execution_count": 144,
     "metadata": {},
     "output_type": "execute_result"
    }
   ],
   "source": [
    "#Checking P1(LC)\n",
    "data_num.Amount_Requested.quantile(0.01)"
   ]
  },
  {
   "cell_type": "code",
   "execution_count": 145,
   "metadata": {},
   "outputs": [
    {
     "data": {
      "text/plain": [
       "35000.0"
      ]
     },
     "execution_count": 145,
     "metadata": {},
     "output_type": "execute_result"
    }
   ],
   "source": [
    "#Checking P99(UC)\n",
    "data_num.Amount_Requested.quantile(0.99)"
   ]
  },
  {
   "cell_type": "code",
   "execution_count": 146,
   "metadata": {},
   "outputs": [
    {
     "data": {
      "text/html": [
       "<div>\n",
       "<style scoped>\n",
       "    .dataframe tbody tr th:only-of-type {\n",
       "        vertical-align: middle;\n",
       "    }\n",
       "\n",
       "    .dataframe tbody tr th {\n",
       "        vertical-align: top;\n",
       "    }\n",
       "\n",
       "    .dataframe thead th {\n",
       "        text-align: right;\n",
       "    }\n",
       "</style>\n",
       "<table border=\"1\" class=\"dataframe\">\n",
       "  <thead>\n",
       "    <tr style=\"text-align: right;\">\n",
       "      <th></th>\n",
       "      <th>Amount_Requested</th>\n",
       "      <th>Interest_Rate</th>\n",
       "      <th>Loan_Length</th>\n",
       "      <th>Debt_To_Income_Ratio</th>\n",
       "      <th>Monthly_Income</th>\n",
       "      <th>Open_CREDIT_Lines</th>\n",
       "      <th>Revolving_CREDIT_Balance</th>\n",
       "      <th>Inquiries_in_the_Last_6_Months</th>\n",
       "      <th>Employment_Length</th>\n",
       "      <th>Fico_avg</th>\n",
       "    </tr>\n",
       "  </thead>\n",
       "  <tbody>\n",
       "    <tr>\n",
       "      <td>59</td>\n",
       "      <td>1000.0</td>\n",
       "      <td>8.59</td>\n",
       "      <td>36.0</td>\n",
       "      <td>10.69</td>\n",
       "      <td>4583.33</td>\n",
       "      <td>22.0</td>\n",
       "      <td>17069.0</td>\n",
       "      <td>1.0</td>\n",
       "      <td>1.0</td>\n",
       "      <td>757.0</td>\n",
       "    </tr>\n",
       "    <tr>\n",
       "      <td>130</td>\n",
       "      <td>1400.0</td>\n",
       "      <td>9.76</td>\n",
       "      <td>36.0</td>\n",
       "      <td>27.14</td>\n",
       "      <td>4683.33</td>\n",
       "      <td>6.0</td>\n",
       "      <td>6466.0</td>\n",
       "      <td>0.0</td>\n",
       "      <td>2.0</td>\n",
       "      <td>732.0</td>\n",
       "    </tr>\n",
       "    <tr>\n",
       "      <td>178</td>\n",
       "      <td>1200.0</td>\n",
       "      <td>7.62</td>\n",
       "      <td>36.0</td>\n",
       "      <td>8.69</td>\n",
       "      <td>3833.33</td>\n",
       "      <td>14.0</td>\n",
       "      <td>350.0</td>\n",
       "      <td>1.0</td>\n",
       "      <td>7.0</td>\n",
       "      <td>732.0</td>\n",
       "    </tr>\n",
       "    <tr>\n",
       "      <td>280</td>\n",
       "      <td>1200.0</td>\n",
       "      <td>15.80</td>\n",
       "      <td>36.0</td>\n",
       "      <td>27.14</td>\n",
       "      <td>2166.67</td>\n",
       "      <td>9.0</td>\n",
       "      <td>9076.0</td>\n",
       "      <td>1.0</td>\n",
       "      <td>3.0</td>\n",
       "      <td>667.0</td>\n",
       "    </tr>\n",
       "    <tr>\n",
       "      <td>289</td>\n",
       "      <td>1000.0</td>\n",
       "      <td>10.36</td>\n",
       "      <td>36.0</td>\n",
       "      <td>0.00</td>\n",
       "      <td>1800.00</td>\n",
       "      <td>2.0</td>\n",
       "      <td>0.0</td>\n",
       "      <td>1.0</td>\n",
       "      <td>1.0</td>\n",
       "      <td>732.0</td>\n",
       "    </tr>\n",
       "  </tbody>\n",
       "</table>\n",
       "</div>"
      ],
      "text/plain": [
       "     Amount_Requested  Interest_Rate  Loan_Length  Debt_To_Income_Ratio  \\\n",
       "59             1000.0           8.59         36.0                 10.69   \n",
       "130            1400.0           9.76         36.0                 27.14   \n",
       "178            1200.0           7.62         36.0                  8.69   \n",
       "280            1200.0          15.80         36.0                 27.14   \n",
       "289            1000.0          10.36         36.0                  0.00   \n",
       "\n",
       "     Monthly_Income  Open_CREDIT_Lines  Revolving_CREDIT_Balance  \\\n",
       "59          4583.33               22.0                   17069.0   \n",
       "130         4683.33                6.0                    6466.0   \n",
       "178         3833.33               14.0                     350.0   \n",
       "280         2166.67                9.0                    9076.0   \n",
       "289         1800.00                2.0                       0.0   \n",
       "\n",
       "     Inquiries_in_the_Last_6_Months  Employment_Length  Fico_avg  \n",
       "59                              1.0                1.0     757.0  \n",
       "130                             0.0                2.0     732.0  \n",
       "178                             1.0                7.0     732.0  \n",
       "280                             1.0                3.0     667.0  \n",
       "289                             1.0                1.0     732.0  "
      ]
     },
     "execution_count": 146,
     "metadata": {},
     "output_type": "execute_result"
    }
   ],
   "source": [
    "#fetching values less than 1500\n",
    "data_num[data_num.Amount_Requested<1500].head()"
   ]
  },
  {
   "cell_type": "code",
   "execution_count": 147,
   "metadata": {},
   "outputs": [
    {
     "data": {
      "text/html": [
       "<div>\n",
       "<style scoped>\n",
       "    .dataframe tbody tr th:only-of-type {\n",
       "        vertical-align: middle;\n",
       "    }\n",
       "\n",
       "    .dataframe tbody tr th {\n",
       "        vertical-align: top;\n",
       "    }\n",
       "\n",
       "    .dataframe thead th {\n",
       "        text-align: right;\n",
       "    }\n",
       "</style>\n",
       "<table border=\"1\" class=\"dataframe\">\n",
       "  <thead>\n",
       "    <tr style=\"text-align: right;\">\n",
       "      <th></th>\n",
       "      <th>Amount_Requested</th>\n",
       "      <th>Interest_Rate</th>\n",
       "      <th>Loan_Length</th>\n",
       "      <th>Debt_To_Income_Ratio</th>\n",
       "      <th>Monthly_Income</th>\n",
       "      <th>Open_CREDIT_Lines</th>\n",
       "      <th>Revolving_CREDIT_Balance</th>\n",
       "      <th>Inquiries_in_the_Last_6_Months</th>\n",
       "      <th>Employment_Length</th>\n",
       "      <th>Fico_avg</th>\n",
       "    </tr>\n",
       "  </thead>\n",
       "  <tbody>\n",
       "  </tbody>\n",
       "</table>\n",
       "</div>"
      ],
      "text/plain": [
       "Empty DataFrame\n",
       "Columns: [Amount_Requested, Interest_Rate, Loan_Length, Debt_To_Income_Ratio, Monthly_Income, Open_CREDIT_Lines, Revolving_CREDIT_Balance, Inquiries_in_the_Last_6_Months, Employment_Length, Fico_avg]\n",
       "Index: []"
      ]
     },
     "execution_count": 147,
     "metadata": {},
     "output_type": "execute_result"
    }
   ],
   "source": [
    "#fetching values greater than 35000\n",
    "data_num[data_num.Amount_Requested>35000].head()"
   ]
  },
  {
   "cell_type": "code",
   "execution_count": 148,
   "metadata": {},
   "outputs": [
    {
     "name": "stderr",
     "output_type": "stream",
     "text": [
      "C:\\Users\\abgautam\\AppData\\Local\\Continuum\\anaconda3\\lib\\site-packages\\ipykernel_launcher.py:2: FutureWarning: clip_upper(threshold) is deprecated, use clip(upper=threshold) instead\n",
      "  \n",
      "C:\\Users\\abgautam\\AppData\\Local\\Continuum\\anaconda3\\lib\\site-packages\\ipykernel_launcher.py:2: SettingWithCopyWarning: \n",
      "A value is trying to be set on a copy of a slice from a DataFrame.\n",
      "Try using .loc[row_indexer,col_indexer] = value instead\n",
      "\n",
      "See the caveats in the documentation: http://pandas.pydata.org/pandas-docs/stable/user_guide/indexing.html#returning-a-view-versus-a-copy\n",
      "  \n",
      "C:\\Users\\abgautam\\AppData\\Local\\Continuum\\anaconda3\\lib\\site-packages\\ipykernel_launcher.py:3: FutureWarning: clip_lower(threshold) is deprecated, use clip(lower=threshold) instead\n",
      "  This is separate from the ipykernel package so we can avoid doing imports until\n",
      "C:\\Users\\abgautam\\AppData\\Local\\Continuum\\anaconda3\\lib\\site-packages\\ipykernel_launcher.py:3: SettingWithCopyWarning: \n",
      "A value is trying to be set on a copy of a slice from a DataFrame.\n",
      "Try using .loc[row_indexer,col_indexer] = value instead\n",
      "\n",
      "See the caveats in the documentation: http://pandas.pydata.org/pandas-docs/stable/user_guide/indexing.html#returning-a-view-versus-a-copy\n",
      "  This is separate from the ipykernel package so we can avoid doing imports until\n"
     ]
    }
   ],
   "source": [
    "#Handling outliers and assigning values LC and UC\n",
    "data_num['Amount_Requested'] = data_num.Amount_Requested.clip_upper(35000)\n",
    "data_num['Amount_Requested'] = data_num.Amount_Requested.clip_lower(1500)"
   ]
  },
  {
   "cell_type": "code",
   "execution_count": null,
   "metadata": {},
   "outputs": [],
   "source": []
  },
  {
   "cell_type": "markdown",
   "metadata": {},
   "source": [
    "### Checking Max and Min value for \"Amount_Requested\" after handling outliers"
   ]
  },
  {
   "cell_type": "code",
   "execution_count": 149,
   "metadata": {},
   "outputs": [
    {
     "data": {
      "text/plain": [
       "35000.0"
      ]
     },
     "execution_count": 149,
     "metadata": {},
     "output_type": "execute_result"
    }
   ],
   "source": [
    "data_num.Amount_Requested.max()"
   ]
  },
  {
   "cell_type": "code",
   "execution_count": 150,
   "metadata": {},
   "outputs": [
    {
     "data": {
      "text/plain": [
       "1500.0"
      ]
     },
     "execution_count": 150,
     "metadata": {},
     "output_type": "execute_result"
    }
   ],
   "source": [
    "data_num.Amount_Requested.min()"
   ]
  },
  {
   "cell_type": "markdown",
   "metadata": {},
   "source": [
    "### Function to handle Outliers and Missing values for all data set in one go"
   ]
  },
  {
   "cell_type": "code",
   "execution_count": 151,
   "metadata": {},
   "outputs": [],
   "source": [
    "def outlier_miss_treat (x):\n",
    "    x = x.clip_upper(x.quantile(0.99))\n",
    "    x = x.clip_lower(x.quantile(0.01))\n",
    "    x = x.fillna(x.median())\n",
    "    return x"
   ]
  },
  {
   "cell_type": "markdown",
   "metadata": {},
   "source": [
    "### Applying function on numerical data set"
   ]
  },
  {
   "cell_type": "code",
   "execution_count": 152,
   "metadata": {},
   "outputs": [
    {
     "name": "stderr",
     "output_type": "stream",
     "text": [
      "C:\\Users\\abgautam\\AppData\\Local\\Continuum\\anaconda3\\lib\\site-packages\\ipykernel_launcher.py:2: FutureWarning: clip_upper(threshold) is deprecated, use clip(upper=threshold) instead\n",
      "  \n",
      "C:\\Users\\abgautam\\AppData\\Local\\Continuum\\anaconda3\\lib\\site-packages\\ipykernel_launcher.py:3: FutureWarning: clip_lower(threshold) is deprecated, use clip(lower=threshold) instead\n",
      "  This is separate from the ipykernel package so we can avoid doing imports until\n"
     ]
    }
   ],
   "source": [
    "data_num=data_num.apply(outlier_miss_treat)"
   ]
  },
  {
   "cell_type": "code",
   "execution_count": 153,
   "metadata": {},
   "outputs": [
    {
     "name": "stdout",
     "output_type": "stream",
     "text": [
      "<class 'pandas.core.frame.DataFrame'>\n",
      "RangeIndex: 2500 entries, 0 to 2499\n",
      "Data columns (total 10 columns):\n",
      "Amount_Requested                  2500 non-null float64\n",
      "Interest_Rate                     2500 non-null float64\n",
      "Loan_Length                       2500 non-null float64\n",
      "Debt_To_Income_Ratio              2500 non-null float64\n",
      "Monthly_Income                    2500 non-null float64\n",
      "Open_CREDIT_Lines                 2500 non-null float64\n",
      "Revolving_CREDIT_Balance          2500 non-null float64\n",
      "Inquiries_in_the_Last_6_Months    2500 non-null float64\n",
      "Employment_Length                 2500 non-null float64\n",
      "Fico_avg                          2500 non-null float64\n",
      "dtypes: float64(10)\n",
      "memory usage: 195.4 KB\n"
     ]
    }
   ],
   "source": [
    "data_num.info()"
   ]
  },
  {
   "cell_type": "markdown",
   "metadata": {},
   "source": [
    "### Function to handle missing values in Categorical columns"
   ]
  },
  {
   "cell_type": "code",
   "execution_count": 154,
   "metadata": {},
   "outputs": [],
   "source": [
    "def cat_miss_treat(x):\n",
    "    x = x.fillna(x.mode())\n",
    "    return x"
   ]
  },
  {
   "cell_type": "markdown",
   "metadata": {},
   "source": [
    "### Applying function on Categorical data set"
   ]
  },
  {
   "cell_type": "code",
   "execution_count": 155,
   "metadata": {},
   "outputs": [],
   "source": [
    "data_cat=data_cat.apply(cat_miss_treat)"
   ]
  },
  {
   "cell_type": "code",
   "execution_count": 156,
   "metadata": {},
   "outputs": [
    {
     "data": {
      "text/html": [
       "<div>\n",
       "<style scoped>\n",
       "    .dataframe tbody tr th:only-of-type {\n",
       "        vertical-align: middle;\n",
       "    }\n",
       "\n",
       "    .dataframe tbody tr th {\n",
       "        vertical-align: top;\n",
       "    }\n",
       "\n",
       "    .dataframe thead th {\n",
       "        text-align: right;\n",
       "    }\n",
       "</style>\n",
       "<table border=\"1\" class=\"dataframe\">\n",
       "  <thead>\n",
       "    <tr style=\"text-align: right;\">\n",
       "      <th></th>\n",
       "      <th>Loan_Purpose</th>\n",
       "      <th>Home_Ownership</th>\n",
       "    </tr>\n",
       "  </thead>\n",
       "  <tbody>\n",
       "    <tr>\n",
       "      <td>0</td>\n",
       "      <td>debt_consolidation</td>\n",
       "      <td>MORTGAGE</td>\n",
       "    </tr>\n",
       "    <tr>\n",
       "      <td>1</td>\n",
       "      <td>debt_consolidation</td>\n",
       "      <td>MORTGAGE</td>\n",
       "    </tr>\n",
       "    <tr>\n",
       "      <td>2</td>\n",
       "      <td>debt_consolidation</td>\n",
       "      <td>MORTGAGE</td>\n",
       "    </tr>\n",
       "    <tr>\n",
       "      <td>3</td>\n",
       "      <td>debt_consolidation</td>\n",
       "      <td>MORTGAGE</td>\n",
       "    </tr>\n",
       "    <tr>\n",
       "      <td>4</td>\n",
       "      <td>credit_card</td>\n",
       "      <td>RENT</td>\n",
       "    </tr>\n",
       "  </tbody>\n",
       "</table>\n",
       "</div>"
      ],
      "text/plain": [
       "         Loan_Purpose Home_Ownership\n",
       "0  debt_consolidation       MORTGAGE\n",
       "1  debt_consolidation       MORTGAGE\n",
       "2  debt_consolidation       MORTGAGE\n",
       "3  debt_consolidation       MORTGAGE\n",
       "4         credit_card           RENT"
      ]
     },
     "execution_count": 156,
     "metadata": {},
     "output_type": "execute_result"
    }
   ],
   "source": [
    "data_cat.head()"
   ]
  },
  {
   "cell_type": "code",
   "execution_count": 157,
   "metadata": {},
   "outputs": [
    {
     "data": {
      "text/plain": [
       "14"
      ]
     },
     "execution_count": 157,
     "metadata": {},
     "output_type": "execute_result"
    }
   ],
   "source": [
    "data_cat.Loan_Purpose.nunique()"
   ]
  },
  {
   "cell_type": "code",
   "execution_count": 158,
   "metadata": {},
   "outputs": [
    {
     "data": {
      "text/plain": [
       "5"
      ]
     },
     "execution_count": 158,
     "metadata": {},
     "output_type": "execute_result"
    }
   ],
   "source": [
    "data_cat.Home_Ownership.nunique()"
   ]
  },
  {
   "cell_type": "markdown",
   "metadata": {},
   "source": [
    "### Creating Dummy variables for categorical variables and dropping first column"
   ]
  },
  {
   "cell_type": "code",
   "execution_count": 159,
   "metadata": {},
   "outputs": [],
   "source": [
    "cat_dummies = pd.get_dummies(data_cat, drop_first=True)"
   ]
  },
  {
   "cell_type": "code",
   "execution_count": 160,
   "metadata": {},
   "outputs": [
    {
     "name": "stdout",
     "output_type": "stream",
     "text": [
      "<class 'pandas.core.frame.DataFrame'>\n",
      "RangeIndex: 2500 entries, 0 to 2499\n",
      "Data columns (total 17 columns):\n",
      "Loan_Purpose_credit_card           2500 non-null uint8\n",
      "Loan_Purpose_debt_consolidation    2500 non-null uint8\n",
      "Loan_Purpose_educational           2500 non-null uint8\n",
      "Loan_Purpose_home_improvement      2500 non-null uint8\n",
      "Loan_Purpose_house                 2500 non-null uint8\n",
      "Loan_Purpose_major_purchase        2500 non-null uint8\n",
      "Loan_Purpose_medical               2500 non-null uint8\n",
      "Loan_Purpose_moving                2500 non-null uint8\n",
      "Loan_Purpose_other                 2500 non-null uint8\n",
      "Loan_Purpose_renewable_energy      2500 non-null uint8\n",
      "Loan_Purpose_small_business        2500 non-null uint8\n",
      "Loan_Purpose_vacation              2500 non-null uint8\n",
      "Loan_Purpose_wedding               2500 non-null uint8\n",
      "Home_Ownership_NONE                2500 non-null uint8\n",
      "Home_Ownership_OTHER               2500 non-null uint8\n",
      "Home_Ownership_OWN                 2500 non-null uint8\n",
      "Home_Ownership_RENT                2500 non-null uint8\n",
      "dtypes: uint8(17)\n",
      "memory usage: 41.6 KB\n"
     ]
    }
   ],
   "source": [
    "cat_dummies.info()"
   ]
  },
  {
   "cell_type": "markdown",
   "metadata": {},
   "source": [
    "#### Now we have clean data for numerical and categorical \n",
    "#### Concatenate Data"
   ]
  },
  {
   "cell_type": "code",
   "execution_count": 161,
   "metadata": {},
   "outputs": [],
   "source": [
    "loan_data = pd.concat([data_num , cat_dummies], axis=1)"
   ]
  },
  {
   "cell_type": "code",
   "execution_count": 162,
   "metadata": {},
   "outputs": [
    {
     "data": {
      "text/html": [
       "<div>\n",
       "<style scoped>\n",
       "    .dataframe tbody tr th:only-of-type {\n",
       "        vertical-align: middle;\n",
       "    }\n",
       "\n",
       "    .dataframe tbody tr th {\n",
       "        vertical-align: top;\n",
       "    }\n",
       "\n",
       "    .dataframe thead th {\n",
       "        text-align: right;\n",
       "    }\n",
       "</style>\n",
       "<table border=\"1\" class=\"dataframe\">\n",
       "  <thead>\n",
       "    <tr style=\"text-align: right;\">\n",
       "      <th></th>\n",
       "      <th>Amount_Requested</th>\n",
       "      <th>Interest_Rate</th>\n",
       "      <th>Loan_Length</th>\n",
       "      <th>Debt_To_Income_Ratio</th>\n",
       "      <th>Monthly_Income</th>\n",
       "      <th>Open_CREDIT_Lines</th>\n",
       "      <th>Revolving_CREDIT_Balance</th>\n",
       "      <th>Inquiries_in_the_Last_6_Months</th>\n",
       "      <th>Employment_Length</th>\n",
       "      <th>Fico_avg</th>\n",
       "      <th>...</th>\n",
       "      <th>Loan_Purpose_moving</th>\n",
       "      <th>Loan_Purpose_other</th>\n",
       "      <th>Loan_Purpose_renewable_energy</th>\n",
       "      <th>Loan_Purpose_small_business</th>\n",
       "      <th>Loan_Purpose_vacation</th>\n",
       "      <th>Loan_Purpose_wedding</th>\n",
       "      <th>Home_Ownership_NONE</th>\n",
       "      <th>Home_Ownership_OTHER</th>\n",
       "      <th>Home_Ownership_OWN</th>\n",
       "      <th>Home_Ownership_RENT</th>\n",
       "    </tr>\n",
       "  </thead>\n",
       "  <tbody>\n",
       "    <tr>\n",
       "      <td>0</td>\n",
       "      <td>20000.0</td>\n",
       "      <td>8.90</td>\n",
       "      <td>36.0</td>\n",
       "      <td>14.90</td>\n",
       "      <td>6541.67</td>\n",
       "      <td>14.0</td>\n",
       "      <td>14272.0</td>\n",
       "      <td>2.0</td>\n",
       "      <td>1.0</td>\n",
       "      <td>737.0</td>\n",
       "      <td>...</td>\n",
       "      <td>0</td>\n",
       "      <td>0</td>\n",
       "      <td>0</td>\n",
       "      <td>0</td>\n",
       "      <td>0</td>\n",
       "      <td>0</td>\n",
       "      <td>0</td>\n",
       "      <td>0</td>\n",
       "      <td>0</td>\n",
       "      <td>0</td>\n",
       "    </tr>\n",
       "    <tr>\n",
       "      <td>1</td>\n",
       "      <td>19200.0</td>\n",
       "      <td>12.12</td>\n",
       "      <td>36.0</td>\n",
       "      <td>28.36</td>\n",
       "      <td>4583.33</td>\n",
       "      <td>12.0</td>\n",
       "      <td>11140.0</td>\n",
       "      <td>1.0</td>\n",
       "      <td>2.0</td>\n",
       "      <td>717.0</td>\n",
       "      <td>...</td>\n",
       "      <td>0</td>\n",
       "      <td>0</td>\n",
       "      <td>0</td>\n",
       "      <td>0</td>\n",
       "      <td>0</td>\n",
       "      <td>0</td>\n",
       "      <td>0</td>\n",
       "      <td>0</td>\n",
       "      <td>0</td>\n",
       "      <td>0</td>\n",
       "    </tr>\n",
       "  </tbody>\n",
       "</table>\n",
       "<p>2 rows × 27 columns</p>\n",
       "</div>"
      ],
      "text/plain": [
       "   Amount_Requested  Interest_Rate  Loan_Length  Debt_To_Income_Ratio  \\\n",
       "0           20000.0           8.90         36.0                 14.90   \n",
       "1           19200.0          12.12         36.0                 28.36   \n",
       "\n",
       "   Monthly_Income  Open_CREDIT_Lines  Revolving_CREDIT_Balance  \\\n",
       "0         6541.67               14.0                   14272.0   \n",
       "1         4583.33               12.0                   11140.0   \n",
       "\n",
       "   Inquiries_in_the_Last_6_Months  Employment_Length  Fico_avg  ...  \\\n",
       "0                             2.0                1.0     737.0  ...   \n",
       "1                             1.0                2.0     717.0  ...   \n",
       "\n",
       "   Loan_Purpose_moving  Loan_Purpose_other  Loan_Purpose_renewable_energy  \\\n",
       "0                    0                   0                              0   \n",
       "1                    0                   0                              0   \n",
       "\n",
       "   Loan_Purpose_small_business  Loan_Purpose_vacation  Loan_Purpose_wedding  \\\n",
       "0                            0                      0                     0   \n",
       "1                            0                      0                     0   \n",
       "\n",
       "   Home_Ownership_NONE  Home_Ownership_OTHER  Home_Ownership_OWN  \\\n",
       "0                    0                     0                   0   \n",
       "1                    0                     0                   0   \n",
       "\n",
       "   Home_Ownership_RENT  \n",
       "0                    0  \n",
       "1                    0  \n",
       "\n",
       "[2 rows x 27 columns]"
      ]
     },
     "execution_count": 162,
     "metadata": {},
     "output_type": "execute_result"
    }
   ],
   "source": [
    "loan_data.head(2)"
   ]
  },
  {
   "cell_type": "code",
   "execution_count": 163,
   "metadata": {},
   "outputs": [
    {
     "name": "stdout",
     "output_type": "stream",
     "text": [
      "<class 'pandas.core.frame.DataFrame'>\n",
      "RangeIndex: 2500 entries, 0 to 2499\n",
      "Data columns (total 27 columns):\n",
      "Amount_Requested                   2500 non-null float64\n",
      "Interest_Rate                      2500 non-null float64\n",
      "Loan_Length                        2500 non-null float64\n",
      "Debt_To_Income_Ratio               2500 non-null float64\n",
      "Monthly_Income                     2500 non-null float64\n",
      "Open_CREDIT_Lines                  2500 non-null float64\n",
      "Revolving_CREDIT_Balance           2500 non-null float64\n",
      "Inquiries_in_the_Last_6_Months     2500 non-null float64\n",
      "Employment_Length                  2500 non-null float64\n",
      "Fico_avg                           2500 non-null float64\n",
      "Loan_Purpose_credit_card           2500 non-null uint8\n",
      "Loan_Purpose_debt_consolidation    2500 non-null uint8\n",
      "Loan_Purpose_educational           2500 non-null uint8\n",
      "Loan_Purpose_home_improvement      2500 non-null uint8\n",
      "Loan_Purpose_house                 2500 non-null uint8\n",
      "Loan_Purpose_major_purchase        2500 non-null uint8\n",
      "Loan_Purpose_medical               2500 non-null uint8\n",
      "Loan_Purpose_moving                2500 non-null uint8\n",
      "Loan_Purpose_other                 2500 non-null uint8\n",
      "Loan_Purpose_renewable_energy      2500 non-null uint8\n",
      "Loan_Purpose_small_business        2500 non-null uint8\n",
      "Loan_Purpose_vacation              2500 non-null uint8\n",
      "Loan_Purpose_wedding               2500 non-null uint8\n",
      "Home_Ownership_NONE                2500 non-null uint8\n",
      "Home_Ownership_OTHER               2500 non-null uint8\n",
      "Home_Ownership_OWN                 2500 non-null uint8\n",
      "Home_Ownership_RENT                2500 non-null uint8\n",
      "dtypes: float64(10), uint8(17)\n",
      "memory usage: 236.9 KB\n"
     ]
    }
   ],
   "source": [
    "loan_data.info()"
   ]
  },
  {
   "cell_type": "markdown",
   "metadata": {},
   "source": [
    "## Data Prepration Step -2\n",
    "### Assumption of Linear Regression"
   ]
  },
  {
   "cell_type": "code",
   "execution_count": 164,
   "metadata": {},
   "outputs": [
    {
     "data": {
      "text/plain": [
       "<matplotlib.axes._subplots.AxesSubplot at 0x1f965dea988>"
      ]
     },
     "execution_count": 164,
     "metadata": {},
     "output_type": "execute_result"
    },
    {
     "data": {
      "image/png": "[encoded data removed]",
      "text/plain": [
       "<Figure size 432x288 with 1 Axes>"
      ]
     },
     "metadata": {
      "needs_background": "light"
     },
     "output_type": "display_data"
    }
   ],
   "source": [
    "loan_data.Interest_Rate.hist()"
   ]
  },
  {
   "cell_type": "code",
   "execution_count": 165,
   "metadata": {},
   "outputs": [
    {
     "data": {
      "text/plain": [
       "<matplotlib.axes._subplots.AxesSubplot at 0x1f95acda688>"
      ]
     },
     "execution_count": 165,
     "metadata": {},
     "output_type": "execute_result"
    },
    {
     "data": {
      "image/png": "[encoded data removed]",
      "text/plain": [
       "<Figure size 432x288 with 1 Axes>"
      ]
     },
     "metadata": {
      "needs_background": "light"
     },
     "output_type": "display_data"
    }
   ],
   "source": [
    "loan_data.Interest_Rate.hist(bins=20)"
   ]
  },
  {
   "cell_type": "markdown",
   "metadata": {},
   "source": [
    "### Above graph is little skewed towards right and not normal.\n",
    "#### Will apply log function to convert to normal distribution"
   ]
  },
  {
   "cell_type": "code",
   "execution_count": 166,
   "metadata": {},
   "outputs": [
    {
     "data": {
      "text/plain": [
       "<matplotlib.axes._subplots.AxesSubplot at 0x1f966484848>"
      ]
     },
     "execution_count": 166,
     "metadata": {},
     "output_type": "execute_result"
    },
    {
     "data": {
      "image/png": "[encoded data removed]",
      "text/plain": [
       "<Figure size 432x288 with 1 Axes>"
      ]
     },
     "metadata": {
      "needs_background": "light"
     },
     "output_type": "display_data"
    }
   ],
   "source": [
    "np.log(loan_data.Interest_Rate).hist(bins=20)"
   ]
  },
  {
   "cell_type": "markdown",
   "metadata": {},
   "source": [
    "#### Adding new column which is log of Interest Rate"
   ]
  },
  {
   "cell_type": "code",
   "execution_count": 167,
   "metadata": {},
   "outputs": [],
   "source": [
    "loan_data['ln_Ineterest_Rate'] = np.log(loan_data.Interest_Rate)"
   ]
  },
  {
   "cell_type": "markdown",
   "metadata": {},
   "source": [
    "### Next step is to check if data has linear relationship or not\n",
    "#### Correlation helps in identifying this"
   ]
  },
  {
   "cell_type": "code",
   "execution_count": 168,
   "metadata": {},
   "outputs": [
    {
     "data": {
      "text/html": [
       "<div>\n",
       "<style scoped>\n",
       "    .dataframe tbody tr th:only-of-type {\n",
       "        vertical-align: middle;\n",
       "    }\n",
       "\n",
       "    .dataframe tbody tr th {\n",
       "        vertical-align: top;\n",
       "    }\n",
       "\n",
       "    .dataframe thead th {\n",
       "        text-align: right;\n",
       "    }\n",
       "</style>\n",
       "<table border=\"1\" class=\"dataframe\">\n",
       "  <thead>\n",
       "    <tr style=\"text-align: right;\">\n",
       "      <th></th>\n",
       "      <th>Amount_Requested</th>\n",
       "      <th>Interest_Rate</th>\n",
       "      <th>Loan_Length</th>\n",
       "      <th>Debt_To_Income_Ratio</th>\n",
       "      <th>Monthly_Income</th>\n",
       "      <th>Open_CREDIT_Lines</th>\n",
       "      <th>Revolving_CREDIT_Balance</th>\n",
       "      <th>Inquiries_in_the_Last_6_Months</th>\n",
       "      <th>Employment_Length</th>\n",
       "      <th>Fico_avg</th>\n",
       "      <th>...</th>\n",
       "      <th>Loan_Purpose_other</th>\n",
       "      <th>Loan_Purpose_renewable_energy</th>\n",
       "      <th>Loan_Purpose_small_business</th>\n",
       "      <th>Loan_Purpose_vacation</th>\n",
       "      <th>Loan_Purpose_wedding</th>\n",
       "      <th>Home_Ownership_NONE</th>\n",
       "      <th>Home_Ownership_OTHER</th>\n",
       "      <th>Home_Ownership_OWN</th>\n",
       "      <th>Home_Ownership_RENT</th>\n",
       "      <th>ln_Ineterest_Rate</th>\n",
       "    </tr>\n",
       "  </thead>\n",
       "  <tbody>\n",
       "    <tr>\n",
       "      <td>Amount_Requested</td>\n",
       "      <td>1.000000</td>\n",
       "      <td>0.330780</td>\n",
       "      <td>0.412678</td>\n",
       "      <td>0.082025</td>\n",
       "      <td>0.458647</td>\n",
       "      <td>0.194894</td>\n",
       "      <td>0.342755</td>\n",
       "      <td>-0.022045</td>\n",
       "      <td>0.165058</td>\n",
       "      <td>0.081684</td>\n",
       "      <td>...</td>\n",
       "      <td>-0.146333</td>\n",
       "      <td>-0.039844</td>\n",
       "      <td>0.017778</td>\n",
       "      <td>-0.060090</td>\n",
       "      <td>-0.024480</td>\n",
       "      <td>-0.019012</td>\n",
       "      <td>-0.015984</td>\n",
       "      <td>-0.037239</td>\n",
       "      <td>-0.133911</td>\n",
       "      <td>0.301991</td>\n",
       "    </tr>\n",
       "    <tr>\n",
       "      <td>Interest_Rate</td>\n",
       "      <td>0.330780</td>\n",
       "      <td>1.000000</td>\n",
       "      <td>0.423147</td>\n",
       "      <td>0.173002</td>\n",
       "      <td>0.036206</td>\n",
       "      <td>0.083050</td>\n",
       "      <td>0.083611</td>\n",
       "      <td>0.170408</td>\n",
       "      <td>0.052629</td>\n",
       "      <td>-0.712008</td>\n",
       "      <td>...</td>\n",
       "      <td>0.006913</td>\n",
       "      <td>-0.030727</td>\n",
       "      <td>-0.010026</td>\n",
       "      <td>-0.023690</td>\n",
       "      <td>-0.029494</td>\n",
       "      <td>-0.027161</td>\n",
       "      <td>0.032145</td>\n",
       "      <td>-0.010484</td>\n",
       "      <td>0.074992</td>\n",
       "      <td>0.982431</td>\n",
       "    </tr>\n",
       "    <tr>\n",
       "      <td>Loan_Length</td>\n",
       "      <td>0.412678</td>\n",
       "      <td>0.423147</td>\n",
       "      <td>1.000000</td>\n",
       "      <td>0.025450</td>\n",
       "      <td>0.104451</td>\n",
       "      <td>0.043536</td>\n",
       "      <td>0.080894</td>\n",
       "      <td>0.031553</td>\n",
       "      <td>0.074383</td>\n",
       "      <td>0.011664</td>\n",
       "      <td>...</td>\n",
       "      <td>-0.028657</td>\n",
       "      <td>-0.021211</td>\n",
       "      <td>0.031282</td>\n",
       "      <td>-0.006390</td>\n",
       "      <td>-0.027689</td>\n",
       "      <td>-0.010599</td>\n",
       "      <td>-0.002078</td>\n",
       "      <td>-0.031505</td>\n",
       "      <td>-0.064430</td>\n",
       "      <td>0.386342</td>\n",
       "    </tr>\n",
       "    <tr>\n",
       "      <td>Debt_To_Income_Ratio</td>\n",
       "      <td>0.082025</td>\n",
       "      <td>0.173002</td>\n",
       "      <td>0.025450</td>\n",
       "      <td>1.000000</td>\n",
       "      <td>-0.169497</td>\n",
       "      <td>0.370845</td>\n",
       "      <td>0.219636</td>\n",
       "      <td>0.012432</td>\n",
       "      <td>0.049184</td>\n",
       "      <td>-0.218758</td>\n",
       "      <td>...</td>\n",
       "      <td>-0.048553</td>\n",
       "      <td>-0.018880</td>\n",
       "      <td>-0.074376</td>\n",
       "      <td>-0.041487</td>\n",
       "      <td>-0.027796</td>\n",
       "      <td>-0.038466</td>\n",
       "      <td>-0.002901</td>\n",
       "      <td>0.034046</td>\n",
       "      <td>-0.011685</td>\n",
       "      <td>0.178772</td>\n",
       "    </tr>\n",
       "    <tr>\n",
       "      <td>Monthly_Income</td>\n",
       "      <td>0.458647</td>\n",
       "      <td>0.036206</td>\n",
       "      <td>0.104451</td>\n",
       "      <td>-0.169497</td>\n",
       "      <td>1.000000</td>\n",
       "      <td>0.225932</td>\n",
       "      <td>0.434749</td>\n",
       "      <td>0.038936</td>\n",
       "      <td>0.109415</td>\n",
       "      <td>0.116830</td>\n",
       "      <td>...</td>\n",
       "      <td>-0.040797</td>\n",
       "      <td>-0.040737</td>\n",
       "      <td>0.008284</td>\n",
       "      <td>0.018925</td>\n",
       "      <td>0.000324</td>\n",
       "      <td>-0.003947</td>\n",
       "      <td>-0.000557</td>\n",
       "      <td>-0.078723</td>\n",
       "      <td>-0.210431</td>\n",
       "      <td>0.014245</td>\n",
       "    </tr>\n",
       "    <tr>\n",
       "      <td>Open_CREDIT_Lines</td>\n",
       "      <td>0.194894</td>\n",
       "      <td>0.083050</td>\n",
       "      <td>0.043536</td>\n",
       "      <td>0.370845</td>\n",
       "      <td>0.225932</td>\n",
       "      <td>1.000000</td>\n",
       "      <td>0.314881</td>\n",
       "      <td>0.106086</td>\n",
       "      <td>0.067021</td>\n",
       "      <td>-0.091268</td>\n",
       "      <td>...</td>\n",
       "      <td>-0.082221</td>\n",
       "      <td>-0.041644</td>\n",
       "      <td>-0.050664</td>\n",
       "      <td>-0.000109</td>\n",
       "      <td>-0.022907</td>\n",
       "      <td>-0.004812</td>\n",
       "      <td>0.040375</td>\n",
       "      <td>-0.011306</td>\n",
       "      <td>-0.154724</td>\n",
       "      <td>0.068331</td>\n",
       "    </tr>\n",
       "    <tr>\n",
       "      <td>Revolving_CREDIT_Balance</td>\n",
       "      <td>0.342755</td>\n",
       "      <td>0.083611</td>\n",
       "      <td>0.080894</td>\n",
       "      <td>0.219636</td>\n",
       "      <td>0.434749</td>\n",
       "      <td>0.314881</td>\n",
       "      <td>1.000000</td>\n",
       "      <td>-0.018271</td>\n",
       "      <td>0.155428</td>\n",
       "      <td>-0.010875</td>\n",
       "      <td>...</td>\n",
       "      <td>-0.047978</td>\n",
       "      <td>-0.033563</td>\n",
       "      <td>-0.052768</td>\n",
       "      <td>-0.000644</td>\n",
       "      <td>-0.029017</td>\n",
       "      <td>-0.005174</td>\n",
       "      <td>0.045893</td>\n",
       "      <td>-0.032363</td>\n",
       "      <td>-0.199250</td>\n",
       "      <td>0.079789</td>\n",
       "    </tr>\n",
       "    <tr>\n",
       "      <td>Inquiries_in_the_Last_6_Months</td>\n",
       "      <td>-0.022045</td>\n",
       "      <td>0.170408</td>\n",
       "      <td>0.031553</td>\n",
       "      <td>0.012432</td>\n",
       "      <td>0.038936</td>\n",
       "      <td>0.106086</td>\n",
       "      <td>-0.018271</td>\n",
       "      <td>1.000000</td>\n",
       "      <td>-0.010297</td>\n",
       "      <td>-0.088956</td>\n",
       "      <td>...</td>\n",
       "      <td>0.026848</td>\n",
       "      <td>-0.013551</td>\n",
       "      <td>0.018896</td>\n",
       "      <td>-0.006198</td>\n",
       "      <td>-0.018576</td>\n",
       "      <td>-0.015533</td>\n",
       "      <td>0.020141</td>\n",
       "      <td>-0.022319</td>\n",
       "      <td>-0.082150</td>\n",
       "      <td>0.177427</td>\n",
       "    </tr>\n",
       "    <tr>\n",
       "      <td>Employment_Length</td>\n",
       "      <td>0.165058</td>\n",
       "      <td>0.052629</td>\n",
       "      <td>0.074383</td>\n",
       "      <td>0.049184</td>\n",
       "      <td>0.109415</td>\n",
       "      <td>0.067021</td>\n",
       "      <td>0.155428</td>\n",
       "      <td>-0.010297</td>\n",
       "      <td>1.000000</td>\n",
       "      <td>0.017157</td>\n",
       "      <td>...</td>\n",
       "      <td>-0.049849</td>\n",
       "      <td>-0.020398</td>\n",
       "      <td>-0.012547</td>\n",
       "      <td>-0.012949</td>\n",
       "      <td>-0.035808</td>\n",
       "      <td>-0.026426</td>\n",
       "      <td>-0.001014</td>\n",
       "      <td>-0.023651</td>\n",
       "      <td>-0.225850</td>\n",
       "      <td>0.036027</td>\n",
       "    </tr>\n",
       "    <tr>\n",
       "      <td>Fico_avg</td>\n",
       "      <td>0.081684</td>\n",
       "      <td>-0.712008</td>\n",
       "      <td>0.011664</td>\n",
       "      <td>-0.218758</td>\n",
       "      <td>0.116830</td>\n",
       "      <td>-0.091268</td>\n",
       "      <td>-0.010875</td>\n",
       "      <td>-0.088956</td>\n",
       "      <td>0.017157</td>\n",
       "      <td>1.000000</td>\n",
       "      <td>...</td>\n",
       "      <td>-0.001851</td>\n",
       "      <td>0.021991</td>\n",
       "      <td>0.067558</td>\n",
       "      <td>0.023438</td>\n",
       "      <td>-0.007492</td>\n",
       "      <td>0.054170</td>\n",
       "      <td>-0.042408</td>\n",
       "      <td>0.005398</td>\n",
       "      <td>-0.152437</td>\n",
       "      <td>-0.744196</td>\n",
       "    </tr>\n",
       "    <tr>\n",
       "      <td>Loan_Purpose_credit_card</td>\n",
       "      <td>-0.009285</td>\n",
       "      <td>-0.001415</td>\n",
       "      <td>-0.089369</td>\n",
       "      <td>0.093735</td>\n",
       "      <td>-0.041952</td>\n",
       "      <td>0.079770</td>\n",
       "      <td>0.106304</td>\n",
       "      <td>-0.045442</td>\n",
       "      <td>0.025418</td>\n",
       "      <td>-0.083920</td>\n",
       "      <td>...</td>\n",
       "      <td>-0.137407</td>\n",
       "      <td>-0.018603</td>\n",
       "      <td>-0.088239</td>\n",
       "      <td>-0.042771</td>\n",
       "      <td>-0.058500</td>\n",
       "      <td>-0.009296</td>\n",
       "      <td>0.026051</td>\n",
       "      <td>0.009568</td>\n",
       "      <td>0.021994</td>\n",
       "      <td>0.005054</td>\n",
       "    </tr>\n",
       "    <tr>\n",
       "      <td>Loan_Purpose_debt_consolidation</td>\n",
       "      <td>0.191563</td>\n",
       "      <td>0.130199</td>\n",
       "      <td>0.062923</td>\n",
       "      <td>0.126753</td>\n",
       "      <td>0.008230</td>\n",
       "      <td>0.088745</td>\n",
       "      <td>0.049599</td>\n",
       "      <td>-0.010891</td>\n",
       "      <td>0.061635</td>\n",
       "      <td>-0.113854</td>\n",
       "      <td>...</td>\n",
       "      <td>-0.309490</td>\n",
       "      <td>-0.041901</td>\n",
       "      <td>-0.198746</td>\n",
       "      <td>-0.096336</td>\n",
       "      <td>-0.131763</td>\n",
       "      <td>-0.020938</td>\n",
       "      <td>-0.011006</td>\n",
       "      <td>-0.051836</td>\n",
       "      <td>-0.001814</td>\n",
       "      <td>0.133565</td>\n",
       "    </tr>\n",
       "    <tr>\n",
       "      <td>Loan_Purpose_educational</td>\n",
       "      <td>-0.070466</td>\n",
       "      <td>-0.038466</td>\n",
       "      <td>-0.028646</td>\n",
       "      <td>-0.066669</td>\n",
       "      <td>-0.034206</td>\n",
       "      <td>-0.024607</td>\n",
       "      <td>-0.041593</td>\n",
       "      <td>0.057643</td>\n",
       "      <td>-0.032328</td>\n",
       "      <td>0.035225</td>\n",
       "      <td>...</td>\n",
       "      <td>-0.022973</td>\n",
       "      <td>-0.003110</td>\n",
       "      <td>-0.014752</td>\n",
       "      <td>-0.007151</td>\n",
       "      <td>-0.009780</td>\n",
       "      <td>-0.001554</td>\n",
       "      <td>-0.003478</td>\n",
       "      <td>0.034366</td>\n",
       "      <td>0.001289</td>\n",
       "      <td>-0.036673</td>\n",
       "    </tr>\n",
       "    <tr>\n",
       "      <td>Loan_Purpose_home_improvement</td>\n",
       "      <td>0.020501</td>\n",
       "      <td>-0.088661</td>\n",
       "      <td>0.051311</td>\n",
       "      <td>-0.098786</td>\n",
       "      <td>0.090714</td>\n",
       "      <td>-0.031755</td>\n",
       "      <td>-0.027629</td>\n",
       "      <td>0.045849</td>\n",
       "      <td>0.027920</td>\n",
       "      <td>0.145066</td>\n",
       "      <td>...</td>\n",
       "      <td>-0.075232</td>\n",
       "      <td>-0.010185</td>\n",
       "      <td>-0.048312</td>\n",
       "      <td>-0.023418</td>\n",
       "      <td>-0.032029</td>\n",
       "      <td>-0.005090</td>\n",
       "      <td>-0.011390</td>\n",
       "      <td>0.048373</td>\n",
       "      <td>-0.183684</td>\n",
       "      <td>-0.097748</td>\n",
       "    </tr>\n",
       "    <tr>\n",
       "      <td>Loan_Purpose_house</td>\n",
       "      <td>0.005537</td>\n",
       "      <td>0.008394</td>\n",
       "      <td>0.017539</td>\n",
       "      <td>-0.044215</td>\n",
       "      <td>0.012569</td>\n",
       "      <td>-0.032888</td>\n",
       "      <td>-0.019647</td>\n",
       "      <td>0.016804</td>\n",
       "      <td>0.020489</td>\n",
       "      <td>0.024777</td>\n",
       "      <td>...</td>\n",
       "      <td>-0.026553</td>\n",
       "      <td>-0.003595</td>\n",
       "      <td>-0.017052</td>\n",
       "      <td>-0.008265</td>\n",
       "      <td>-0.011305</td>\n",
       "      <td>-0.001796</td>\n",
       "      <td>-0.004020</td>\n",
       "      <td>0.006620</td>\n",
       "      <td>0.034532</td>\n",
       "      <td>0.003179</td>\n",
       "    </tr>\n",
       "    <tr>\n",
       "      <td>Loan_Purpose_major_purchase</td>\n",
       "      <td>-0.111110</td>\n",
       "      <td>-0.111582</td>\n",
       "      <td>-0.020326</td>\n",
       "      <td>-0.112140</td>\n",
       "      <td>0.027780</td>\n",
       "      <td>-0.068390</td>\n",
       "      <td>-0.068910</td>\n",
       "      <td>0.004402</td>\n",
       "      <td>-0.064237</td>\n",
       "      <td>0.116514</td>\n",
       "      <td>...</td>\n",
       "      <td>-0.060670</td>\n",
       "      <td>-0.008214</td>\n",
       "      <td>-0.038961</td>\n",
       "      <td>-0.018885</td>\n",
       "      <td>-0.025830</td>\n",
       "      <td>-0.004105</td>\n",
       "      <td>-0.009185</td>\n",
       "      <td>0.044331</td>\n",
       "      <td>-0.009371</td>\n",
       "      <td>-0.111812</td>\n",
       "    </tr>\n",
       "    <tr>\n",
       "      <td>Loan_Purpose_medical</td>\n",
       "      <td>-0.052239</td>\n",
       "      <td>-0.037276</td>\n",
       "      <td>-0.022874</td>\n",
       "      <td>-0.021717</td>\n",
       "      <td>-0.020080</td>\n",
       "      <td>-0.034066</td>\n",
       "      <td>-0.016880</td>\n",
       "      <td>0.007749</td>\n",
       "      <td>-0.010086</td>\n",
       "      <td>0.022476</td>\n",
       "      <td>...</td>\n",
       "      <td>-0.032587</td>\n",
       "      <td>-0.004412</td>\n",
       "      <td>-0.020926</td>\n",
       "      <td>-0.010143</td>\n",
       "      <td>-0.013874</td>\n",
       "      <td>-0.002205</td>\n",
       "      <td>0.077293</td>\n",
       "      <td>-0.018957</td>\n",
       "      <td>0.023947</td>\n",
       "      <td>-0.045235</td>\n",
       "    </tr>\n",
       "    <tr>\n",
       "      <td>Loan_Purpose_moving</td>\n",
       "      <td>-0.065338</td>\n",
       "      <td>0.012362</td>\n",
       "      <td>-0.012252</td>\n",
       "      <td>-0.010266</td>\n",
       "      <td>-0.008707</td>\n",
       "      <td>-0.049106</td>\n",
       "      <td>-0.020276</td>\n",
       "      <td>0.017326</td>\n",
       "      <td>-0.032879</td>\n",
       "      <td>-0.008763</td>\n",
       "      <td>...</td>\n",
       "      <td>-0.032033</td>\n",
       "      <td>-0.004337</td>\n",
       "      <td>-0.020570</td>\n",
       "      <td>-0.009971</td>\n",
       "      <td>-0.013638</td>\n",
       "      <td>-0.002167</td>\n",
       "      <td>-0.004850</td>\n",
       "      <td>-0.018176</td>\n",
       "      <td>0.080269</td>\n",
       "      <td>0.009556</td>\n",
       "    </tr>\n",
       "    <tr>\n",
       "      <td>Loan_Purpose_other</td>\n",
       "      <td>-0.146333</td>\n",
       "      <td>0.006913</td>\n",
       "      <td>-0.028657</td>\n",
       "      <td>-0.048553</td>\n",
       "      <td>-0.040797</td>\n",
       "      <td>-0.082221</td>\n",
       "      <td>-0.047978</td>\n",
       "      <td>0.026848</td>\n",
       "      <td>-0.049849</td>\n",
       "      <td>-0.001851</td>\n",
       "      <td>...</td>\n",
       "      <td>1.000000</td>\n",
       "      <td>-0.011837</td>\n",
       "      <td>-0.056145</td>\n",
       "      <td>-0.027214</td>\n",
       "      <td>-0.037222</td>\n",
       "      <td>0.067653</td>\n",
       "      <td>-0.013237</td>\n",
       "      <td>0.010411</td>\n",
       "      <td>0.049782</td>\n",
       "      <td>0.007845</td>\n",
       "    </tr>\n",
       "    <tr>\n",
       "      <td>Loan_Purpose_renewable_energy</td>\n",
       "      <td>-0.039844</td>\n",
       "      <td>-0.030727</td>\n",
       "      <td>-0.021211</td>\n",
       "      <td>-0.018880</td>\n",
       "      <td>-0.040737</td>\n",
       "      <td>-0.041644</td>\n",
       "      <td>-0.033563</td>\n",
       "      <td>-0.013551</td>\n",
       "      <td>-0.020398</td>\n",
       "      <td>0.021991</td>\n",
       "      <td>...</td>\n",
       "      <td>-0.011837</td>\n",
       "      <td>1.000000</td>\n",
       "      <td>-0.007601</td>\n",
       "      <td>-0.003685</td>\n",
       "      <td>-0.005039</td>\n",
       "      <td>-0.000801</td>\n",
       "      <td>-0.001792</td>\n",
       "      <td>-0.011805</td>\n",
       "      <td>0.023428</td>\n",
       "      <td>-0.031531</td>\n",
       "    </tr>\n",
       "    <tr>\n",
       "      <td>Loan_Purpose_small_business</td>\n",
       "      <td>0.017778</td>\n",
       "      <td>-0.010026</td>\n",
       "      <td>0.031282</td>\n",
       "      <td>-0.074376</td>\n",
       "      <td>0.008284</td>\n",
       "      <td>-0.050664</td>\n",
       "      <td>-0.052768</td>\n",
       "      <td>0.018896</td>\n",
       "      <td>-0.012547</td>\n",
       "      <td>0.067558</td>\n",
       "      <td>...</td>\n",
       "      <td>-0.056145</td>\n",
       "      <td>-0.007601</td>\n",
       "      <td>1.000000</td>\n",
       "      <td>-0.017476</td>\n",
       "      <td>-0.023903</td>\n",
       "      <td>-0.003798</td>\n",
       "      <td>-0.008500</td>\n",
       "      <td>-0.007723</td>\n",
       "      <td>0.004902</td>\n",
       "      <td>-0.011296</td>\n",
       "    </tr>\n",
       "    <tr>\n",
       "      <td>Loan_Purpose_vacation</td>\n",
       "      <td>-0.060090</td>\n",
       "      <td>-0.023690</td>\n",
       "      <td>-0.006390</td>\n",
       "      <td>-0.041487</td>\n",
       "      <td>0.018925</td>\n",
       "      <td>-0.000109</td>\n",
       "      <td>-0.000644</td>\n",
       "      <td>-0.006198</td>\n",
       "      <td>-0.012949</td>\n",
       "      <td>0.023438</td>\n",
       "      <td>...</td>\n",
       "      <td>-0.027214</td>\n",
       "      <td>-0.003685</td>\n",
       "      <td>-0.017476</td>\n",
       "      <td>1.000000</td>\n",
       "      <td>-0.011586</td>\n",
       "      <td>-0.001841</td>\n",
       "      <td>-0.004120</td>\n",
       "      <td>0.021325</td>\n",
       "      <td>0.012082</td>\n",
       "      <td>-0.025117</td>\n",
       "    </tr>\n",
       "    <tr>\n",
       "      <td>Loan_Purpose_wedding</td>\n",
       "      <td>-0.024480</td>\n",
       "      <td>-0.029494</td>\n",
       "      <td>-0.027689</td>\n",
       "      <td>-0.027796</td>\n",
       "      <td>0.000324</td>\n",
       "      <td>-0.022907</td>\n",
       "      <td>-0.029017</td>\n",
       "      <td>-0.018576</td>\n",
       "      <td>-0.035808</td>\n",
       "      <td>-0.007492</td>\n",
       "      <td>...</td>\n",
       "      <td>-0.037222</td>\n",
       "      <td>-0.005039</td>\n",
       "      <td>-0.023903</td>\n",
       "      <td>-0.011586</td>\n",
       "      <td>1.000000</td>\n",
       "      <td>-0.002518</td>\n",
       "      <td>-0.005635</td>\n",
       "      <td>-0.013326</td>\n",
       "      <td>0.033184</td>\n",
       "      <td>-0.026597</td>\n",
       "    </tr>\n",
       "    <tr>\n",
       "      <td>Home_Ownership_NONE</td>\n",
       "      <td>-0.019012</td>\n",
       "      <td>-0.027161</td>\n",
       "      <td>-0.010599</td>\n",
       "      <td>-0.038466</td>\n",
       "      <td>-0.003947</td>\n",
       "      <td>-0.004812</td>\n",
       "      <td>-0.005174</td>\n",
       "      <td>-0.015533</td>\n",
       "      <td>-0.026426</td>\n",
       "      <td>0.054170</td>\n",
       "      <td>...</td>\n",
       "      <td>0.067653</td>\n",
       "      <td>-0.000801</td>\n",
       "      <td>-0.003798</td>\n",
       "      <td>-0.001841</td>\n",
       "      <td>-0.002518</td>\n",
       "      <td>1.000000</td>\n",
       "      <td>-0.000896</td>\n",
       "      <td>-0.005899</td>\n",
       "      <td>-0.018403</td>\n",
       "      <td>-0.030304</td>\n",
       "    </tr>\n",
       "    <tr>\n",
       "      <td>Home_Ownership_OTHER</td>\n",
       "      <td>-0.015984</td>\n",
       "      <td>0.032145</td>\n",
       "      <td>-0.002078</td>\n",
       "      <td>-0.002901</td>\n",
       "      <td>-0.000557</td>\n",
       "      <td>0.040375</td>\n",
       "      <td>0.045893</td>\n",
       "      <td>0.020141</td>\n",
       "      <td>-0.001014</td>\n",
       "      <td>-0.042408</td>\n",
       "      <td>...</td>\n",
       "      <td>-0.013237</td>\n",
       "      <td>-0.001792</td>\n",
       "      <td>-0.008500</td>\n",
       "      <td>-0.004120</td>\n",
       "      <td>-0.005635</td>\n",
       "      <td>-0.000896</td>\n",
       "      <td>1.000000</td>\n",
       "      <td>-0.013201</td>\n",
       "      <td>-0.041184</td>\n",
       "      <td>0.032422</td>\n",
       "    </tr>\n",
       "    <tr>\n",
       "      <td>Home_Ownership_OWN</td>\n",
       "      <td>-0.037239</td>\n",
       "      <td>-0.010484</td>\n",
       "      <td>-0.031505</td>\n",
       "      <td>0.034046</td>\n",
       "      <td>-0.078723</td>\n",
       "      <td>-0.011306</td>\n",
       "      <td>-0.032363</td>\n",
       "      <td>-0.022319</td>\n",
       "      <td>-0.023651</td>\n",
       "      <td>0.005398</td>\n",
       "      <td>...</td>\n",
       "      <td>0.010411</td>\n",
       "      <td>-0.011805</td>\n",
       "      <td>-0.007723</td>\n",
       "      <td>0.021325</td>\n",
       "      <td>-0.013326</td>\n",
       "      <td>-0.005899</td>\n",
       "      <td>-0.013201</td>\n",
       "      <td>1.000000</td>\n",
       "      <td>-0.271290</td>\n",
       "      <td>-0.013740</td>\n",
       "    </tr>\n",
       "    <tr>\n",
       "      <td>Home_Ownership_RENT</td>\n",
       "      <td>-0.133911</td>\n",
       "      <td>0.074992</td>\n",
       "      <td>-0.064430</td>\n",
       "      <td>-0.011685</td>\n",
       "      <td>-0.210431</td>\n",
       "      <td>-0.154724</td>\n",
       "      <td>-0.199250</td>\n",
       "      <td>-0.082150</td>\n",
       "      <td>-0.225850</td>\n",
       "      <td>-0.152437</td>\n",
       "      <td>...</td>\n",
       "      <td>0.049782</td>\n",
       "      <td>0.023428</td>\n",
       "      <td>0.004902</td>\n",
       "      <td>0.012082</td>\n",
       "      <td>0.033184</td>\n",
       "      <td>-0.018403</td>\n",
       "      <td>-0.041184</td>\n",
       "      <td>-0.271290</td>\n",
       "      <td>1.000000</td>\n",
       "      <td>0.086009</td>\n",
       "    </tr>\n",
       "    <tr>\n",
       "      <td>ln_Ineterest_Rate</td>\n",
       "      <td>0.301991</td>\n",
       "      <td>0.982431</td>\n",
       "      <td>0.386342</td>\n",
       "      <td>0.178772</td>\n",
       "      <td>0.014245</td>\n",
       "      <td>0.068331</td>\n",
       "      <td>0.079789</td>\n",
       "      <td>0.177427</td>\n",
       "      <td>0.036027</td>\n",
       "      <td>-0.744196</td>\n",
       "      <td>...</td>\n",
       "      <td>0.007845</td>\n",
       "      <td>-0.031531</td>\n",
       "      <td>-0.011296</td>\n",
       "      <td>-0.025117</td>\n",
       "      <td>-0.026597</td>\n",
       "      <td>-0.030304</td>\n",
       "      <td>0.032422</td>\n",
       "      <td>-0.013740</td>\n",
       "      <td>0.086009</td>\n",
       "      <td>1.000000</td>\n",
       "    </tr>\n",
       "  </tbody>\n",
       "</table>\n",
       "<p>28 rows × 28 columns</p>\n",
       "</div>"
      ],
      "text/plain": [
       "                                 Amount_Requested  Interest_Rate  Loan_Length  \\\n",
       "Amount_Requested                         1.000000       0.330780     0.412678   \n",
       "Interest_Rate                            0.330780       1.000000     0.423147   \n",
       "Loan_Length                              0.412678       0.423147     1.000000   \n",
       "Debt_To_Income_Ratio                     0.082025       0.173002     0.025450   \n",
       "Monthly_Income                           0.458647       0.036206     0.104451   \n",
       "Open_CREDIT_Lines                        0.194894       0.083050     0.043536   \n",
       "Revolving_CREDIT_Balance                 0.342755       0.083611     0.080894   \n",
       "Inquiries_in_the_Last_6_Months          -0.022045       0.170408     0.031553   \n",
       "Employment_Length                        0.165058       0.052629     0.074383   \n",
       "Fico_avg                                 0.081684      -0.712008     0.011664   \n",
       "Loan_Purpose_credit_card                -0.009285      -0.001415    -0.089369   \n",
       "Loan_Purpose_debt_consolidation          0.191563       0.130199     0.062923   \n",
       "Loan_Purpose_educational                -0.070466      -0.038466    -0.028646   \n",
       "Loan_Purpose_home_improvement            0.020501      -0.088661     0.051311   \n",
       "Loan_Purpose_house                       0.005537       0.008394     0.017539   \n",
       "Loan_Purpose_major_purchase             -0.111110      -0.111582    -0.020326   \n",
       "Loan_Purpose_medical                    -0.052239      -0.037276    -0.022874   \n",
       "Loan_Purpose_moving                     -0.065338       0.012362    -0.012252   \n",
       "Loan_Purpose_other                      -0.146333       0.006913    -0.028657   \n",
       "Loan_Purpose_renewable_energy           -0.039844      -0.030727    -0.021211   \n",
       "Loan_Purpose_small_business              0.017778      -0.010026     0.031282   \n",
       "Loan_Purpose_vacation                   -0.060090      -0.023690    -0.006390   \n",
       "Loan_Purpose_wedding                    -0.024480      -0.029494    -0.027689   \n",
       "Home_Ownership_NONE                     -0.019012      -0.027161    -0.010599   \n",
       "Home_Ownership_OTHER                    -0.015984       0.032145    -0.002078   \n",
       "Home_Ownership_OWN                      -0.037239      -0.010484    -0.031505   \n",
       "Home_Ownership_RENT                     -0.133911       0.074992    -0.064430   \n",
       "ln_Ineterest_Rate                        0.301991       0.982431     0.386342   \n",
       "\n",
       "                                 Debt_To_Income_Ratio  Monthly_Income  \\\n",
       "Amount_Requested                             0.082025        0.458647   \n",
       "Interest_Rate                                0.173002        0.036206   \n",
       "Loan_Length                                  0.025450        0.104451   \n",
       "Debt_To_Income_Ratio                         1.000000       -0.169497   \n",
       "Monthly_Income                              -0.169497        1.000000   \n",
       "Open_CREDIT_Lines                            0.370845        0.225932   \n",
       "Revolving_CREDIT_Balance                     0.219636        0.434749   \n",
       "Inquiries_in_the_Last_6_Months               0.012432        0.038936   \n",
       "Employment_Length                            0.049184        0.109415   \n",
       "Fico_avg                                    -0.218758        0.116830   \n",
       "Loan_Purpose_credit_card                     0.093735       -0.041952   \n",
       "Loan_Purpose_debt_consolidation              0.126753        0.008230   \n",
       "Loan_Purpose_educational                    -0.066669       -0.034206   \n",
       "Loan_Purpose_home_improvement               -0.098786        0.090714   \n",
       "Loan_Purpose_house                          -0.044215        0.012569   \n",
       "Loan_Purpose_major_purchase                 -0.112140        0.027780   \n",
       "Loan_Purpose_medical                        -0.021717       -0.020080   \n",
       "Loan_Purpose_moving                         -0.010266       -0.008707   \n",
       "Loan_Purpose_other                          -0.048553       -0.040797   \n",
       "Loan_Purpose_renewable_energy               -0.018880       -0.040737   \n",
       "Loan_Purpose_small_business                 -0.074376        0.008284   \n",
       "Loan_Purpose_vacation                       -0.041487        0.018925   \n",
       "Loan_Purpose_wedding                        -0.027796        0.000324   \n",
       "Home_Ownership_NONE                         -0.038466       -0.003947   \n",
       "Home_Ownership_OTHER                        -0.002901       -0.000557   \n",
       "Home_Ownership_OWN                           0.034046       -0.078723   \n",
       "Home_Ownership_RENT                         -0.011685       -0.210431   \n",
       "ln_Ineterest_Rate                            0.178772        0.014245   \n",
       "\n",
       "                                 Open_CREDIT_Lines  Revolving_CREDIT_Balance  \\\n",
       "Amount_Requested                          0.194894                  0.342755   \n",
       "Interest_Rate                             0.083050                  0.083611   \n",
       "Loan_Length                               0.043536                  0.080894   \n",
       "Debt_To_Income_Ratio                      0.370845                  0.219636   \n",
       "Monthly_Income                            0.225932                  0.434749   \n",
       "Open_CREDIT_Lines                         1.000000                  0.314881   \n",
       "Revolving_CREDIT_Balance                  0.314881                  1.000000   \n",
       "Inquiries_in_the_Last_6_Months            0.106086                 -0.018271   \n",
       "Employment_Length                         0.067021                  0.155428   \n",
       "Fico_avg                                 -0.091268                 -0.010875   \n",
       "Loan_Purpose_credit_card                  0.079770                  0.106304   \n",
       "Loan_Purpose_debt_consolidation           0.088745                  0.049599   \n",
       "Loan_Purpose_educational                 -0.024607                 -0.041593   \n",
       "Loan_Purpose_home_improvement            -0.031755                 -0.027629   \n",
       "Loan_Purpose_house                       -0.032888                 -0.019647   \n",
       "Loan_Purpose_major_purchase              -0.068390                 -0.068910   \n",
       "Loan_Purpose_medical                     -0.034066                 -0.016880   \n",
       "Loan_Purpose_moving                      -0.049106                 -0.020276   \n",
       "Loan_Purpose_other                       -0.082221                 -0.047978   \n",
       "Loan_Purpose_renewable_energy            -0.041644                 -0.033563   \n",
       "Loan_Purpose_small_business              -0.050664                 -0.052768   \n",
       "Loan_Purpose_vacation                    -0.000109                 -0.000644   \n",
       "Loan_Purpose_wedding                     -0.022907                 -0.029017   \n",
       "Home_Ownership_NONE                      -0.004812                 -0.005174   \n",
       "Home_Ownership_OTHER                      0.040375                  0.045893   \n",
       "Home_Ownership_OWN                       -0.011306                 -0.032363   \n",
       "Home_Ownership_RENT                      -0.154724                 -0.199250   \n",
       "ln_Ineterest_Rate                         0.068331                  0.079789   \n",
       "\n",
       "                                 Inquiries_in_the_Last_6_Months  \\\n",
       "Amount_Requested                                      -0.022045   \n",
       "Interest_Rate                                          0.170408   \n",
       "Loan_Length                                            0.031553   \n",
       "Debt_To_Income_Ratio                                   0.012432   \n",
       "Monthly_Income                                         0.038936   \n",
       "Open_CREDIT_Lines                                      0.106086   \n",
       "Revolving_CREDIT_Balance                              -0.018271   \n",
       "Inquiries_in_the_Last_6_Months                         1.000000   \n",
       "Employment_Length                                     -0.010297   \n",
       "Fico_avg                                              -0.088956   \n",
       "Loan_Purpose_credit_card                              -0.045442   \n",
       "Loan_Purpose_debt_consolidation                       -0.010891   \n",
       "Loan_Purpose_educational                               0.057643   \n",
       "Loan_Purpose_home_improvement                          0.045849   \n",
       "Loan_Purpose_house                                     0.016804   \n",
       "Loan_Purpose_major_purchase                            0.004402   \n",
       "Loan_Purpose_medical                                   0.007749   \n",
       "Loan_Purpose_moving                                    0.017326   \n",
       "Loan_Purpose_other                                     0.026848   \n",
       "Loan_Purpose_renewable_energy                         -0.013551   \n",
       "Loan_Purpose_small_business                            0.018896   \n",
       "Loan_Purpose_vacation                                 -0.006198   \n",
       "Loan_Purpose_wedding                                  -0.018576   \n",
       "Home_Ownership_NONE                                   -0.015533   \n",
       "Home_Ownership_OTHER                                   0.020141   \n",
       "Home_Ownership_OWN                                    -0.022319   \n",
       "Home_Ownership_RENT                                   -0.082150   \n",
       "ln_Ineterest_Rate                                      0.177427   \n",
       "\n",
       "                                 Employment_Length  Fico_avg  ...  \\\n",
       "Amount_Requested                          0.165058  0.081684  ...   \n",
       "Interest_Rate                             0.052629 -0.712008  ...   \n",
       "Loan_Length                               0.074383  0.011664  ...   \n",
       "Debt_To_Income_Ratio                      0.049184 -0.218758  ...   \n",
       "Monthly_Income                            0.109415  0.116830  ...   \n",
       "Open_CREDIT_Lines                         0.067021 -0.091268  ...   \n",
       "Revolving_CREDIT_Balance                  0.155428 -0.010875  ...   \n",
       "Inquiries_in_the_Last_6_Months           -0.010297 -0.088956  ...   \n",
       "Employment_Length                         1.000000  0.017157  ...   \n",
       "Fico_avg                                  0.017157  1.000000  ...   \n",
       "Loan_Purpose_credit_card                  0.025418 -0.083920  ...   \n",
       "Loan_Purpose_debt_consolidation           0.061635 -0.113854  ...   \n",
       "Loan_Purpose_educational                 -0.032328  0.035225  ...   \n",
       "Loan_Purpose_home_improvement             0.027920  0.145066  ...   \n",
       "Loan_Purpose_house                        0.020489  0.024777  ...   \n",
       "Loan_Purpose_major_purchase              -0.064237  0.116514  ...   \n",
       "Loan_Purpose_medical                     -0.010086  0.022476  ...   \n",
       "Loan_Purpose_moving                      -0.032879 -0.008763  ...   \n",
       "Loan_Purpose_other                       -0.049849 -0.001851  ...   \n",
       "Loan_Purpose_renewable_energy            -0.020398  0.021991  ...   \n",
       "Loan_Purpose_small_business              -0.012547  0.067558  ...   \n",
       "Loan_Purpose_vacation                    -0.012949  0.023438  ...   \n",
       "Loan_Purpose_wedding                     -0.035808 -0.007492  ...   \n",
       "Home_Ownership_NONE                      -0.026426  0.054170  ...   \n",
       "Home_Ownership_OTHER                     -0.001014 -0.042408  ...   \n",
       "Home_Ownership_OWN                       -0.023651  0.005398  ...   \n",
       "Home_Ownership_RENT                      -0.225850 -0.152437  ...   \n",
       "ln_Ineterest_Rate                         0.036027 -0.744196  ...   \n",
       "\n",
       "                                 Loan_Purpose_other  \\\n",
       "Amount_Requested                          -0.146333   \n",
       "Interest_Rate                              0.006913   \n",
       "Loan_Length                               -0.028657   \n",
       "Debt_To_Income_Ratio                      -0.048553   \n",
       "Monthly_Income                            -0.040797   \n",
       "Open_CREDIT_Lines                         -0.082221   \n",
       "Revolving_CREDIT_Balance                  -0.047978   \n",
       "Inquiries_in_the_Last_6_Months             0.026848   \n",
       "Employment_Length                         -0.049849   \n",
       "Fico_avg                                  -0.001851   \n",
       "Loan_Purpose_credit_card                  -0.137407   \n",
       "Loan_Purpose_debt_consolidation           -0.309490   \n",
       "Loan_Purpose_educational                  -0.022973   \n",
       "Loan_Purpose_home_improvement             -0.075232   \n",
       "Loan_Purpose_house                        -0.026553   \n",
       "Loan_Purpose_major_purchase               -0.060670   \n",
       "Loan_Purpose_medical                      -0.032587   \n",
       "Loan_Purpose_moving                       -0.032033   \n",
       "Loan_Purpose_other                         1.000000   \n",
       "Loan_Purpose_renewable_energy             -0.011837   \n",
       "Loan_Purpose_small_business               -0.056145   \n",
       "Loan_Purpose_vacation                     -0.027214   \n",
       "Loan_Purpose_wedding                      -0.037222   \n",
       "Home_Ownership_NONE                        0.067653   \n",
       "Home_Ownership_OTHER                      -0.013237   \n",
       "Home_Ownership_OWN                         0.010411   \n",
       "Home_Ownership_RENT                        0.049782   \n",
       "ln_Ineterest_Rate                          0.007845   \n",
       "\n",
       "                                 Loan_Purpose_renewable_energy  \\\n",
       "Amount_Requested                                     -0.039844   \n",
       "Interest_Rate                                        -0.030727   \n",
       "Loan_Length                                          -0.021211   \n",
       "Debt_To_Income_Ratio                                 -0.018880   \n",
       "Monthly_Income                                       -0.040737   \n",
       "Open_CREDIT_Lines                                    -0.041644   \n",
       "Revolving_CREDIT_Balance                             -0.033563   \n",
       "Inquiries_in_the_Last_6_Months                       -0.013551   \n",
       "Employment_Length                                    -0.020398   \n",
       "Fico_avg                                              0.021991   \n",
       "Loan_Purpose_credit_card                             -0.018603   \n",
       "Loan_Purpose_debt_consolidation                      -0.041901   \n",
       "Loan_Purpose_educational                             -0.003110   \n",
       "Loan_Purpose_home_improvement                        -0.010185   \n",
       "Loan_Purpose_house                                   -0.003595   \n",
       "Loan_Purpose_major_purchase                          -0.008214   \n",
       "Loan_Purpose_medical                                 -0.004412   \n",
       "Loan_Purpose_moving                                  -0.004337   \n",
       "Loan_Purpose_other                                   -0.011837   \n",
       "Loan_Purpose_renewable_energy                         1.000000   \n",
       "Loan_Purpose_small_business                          -0.007601   \n",
       "Loan_Purpose_vacation                                -0.003685   \n",
       "Loan_Purpose_wedding                                 -0.005039   \n",
       "Home_Ownership_NONE                                  -0.000801   \n",
       "Home_Ownership_OTHER                                 -0.001792   \n",
       "Home_Ownership_OWN                                   -0.011805   \n",
       "Home_Ownership_RENT                                   0.023428   \n",
       "ln_Ineterest_Rate                                    -0.031531   \n",
       "\n",
       "                                 Loan_Purpose_small_business  \\\n",
       "Amount_Requested                                    0.017778   \n",
       "Interest_Rate                                      -0.010026   \n",
       "Loan_Length                                         0.031282   \n",
       "Debt_To_Income_Ratio                               -0.074376   \n",
       "Monthly_Income                                      0.008284   \n",
       "Open_CREDIT_Lines                                  -0.050664   \n",
       "Revolving_CREDIT_Balance                           -0.052768   \n",
       "Inquiries_in_the_Last_6_Months                      0.018896   \n",
       "Employment_Length                                  -0.012547   \n",
       "Fico_avg                                            0.067558   \n",
       "Loan_Purpose_credit_card                           -0.088239   \n",
       "Loan_Purpose_debt_consolidation                    -0.198746   \n",
       "Loan_Purpose_educational                           -0.014752   \n",
       "Loan_Purpose_home_improvement                      -0.048312   \n",
       "Loan_Purpose_house                                 -0.017052   \n",
       "Loan_Purpose_major_purchase                        -0.038961   \n",
       "Loan_Purpose_medical                               -0.020926   \n",
       "Loan_Purpose_moving                                -0.020570   \n",
       "Loan_Purpose_other                                 -0.056145   \n",
       "Loan_Purpose_renewable_energy                      -0.007601   \n",
       "Loan_Purpose_small_business                         1.000000   \n",
       "Loan_Purpose_vacation                              -0.017476   \n",
       "Loan_Purpose_wedding                               -0.023903   \n",
       "Home_Ownership_NONE                                -0.003798   \n",
       "Home_Ownership_OTHER                               -0.008500   \n",
       "Home_Ownership_OWN                                 -0.007723   \n",
       "Home_Ownership_RENT                                 0.004902   \n",
       "ln_Ineterest_Rate                                  -0.011296   \n",
       "\n",
       "                                 Loan_Purpose_vacation  Loan_Purpose_wedding  \\\n",
       "Amount_Requested                             -0.060090             -0.024480   \n",
       "Interest_Rate                                -0.023690             -0.029494   \n",
       "Loan_Length                                  -0.006390             -0.027689   \n",
       "Debt_To_Income_Ratio                         -0.041487             -0.027796   \n",
       "Monthly_Income                                0.018925              0.000324   \n",
       "Open_CREDIT_Lines                            -0.000109             -0.022907   \n",
       "Revolving_CREDIT_Balance                     -0.000644             -0.029017   \n",
       "Inquiries_in_the_Last_6_Months               -0.006198             -0.018576   \n",
       "Employment_Length                            -0.012949             -0.035808   \n",
       "Fico_avg                                      0.023438             -0.007492   \n",
       "Loan_Purpose_credit_card                     -0.042771             -0.058500   \n",
       "Loan_Purpose_debt_consolidation              -0.096336             -0.131763   \n",
       "Loan_Purpose_educational                     -0.007151             -0.009780   \n",
       "Loan_Purpose_home_improvement                -0.023418             -0.032029   \n",
       "Loan_Purpose_house                           -0.008265             -0.011305   \n",
       "Loan_Purpose_major_purchase                  -0.018885             -0.025830   \n",
       "Loan_Purpose_medical                         -0.010143             -0.013874   \n",
       "Loan_Purpose_moving                          -0.009971             -0.013638   \n",
       "Loan_Purpose_other                           -0.027214             -0.037222   \n",
       "Loan_Purpose_renewable_energy                -0.003685             -0.005039   \n",
       "Loan_Purpose_small_business                  -0.017476             -0.023903   \n",
       "Loan_Purpose_vacation                         1.000000             -0.011586   \n",
       "Loan_Purpose_wedding                         -0.011586              1.000000   \n",
       "Home_Ownership_NONE                          -0.001841             -0.002518   \n",
       "Home_Ownership_OTHER                         -0.004120             -0.005635   \n",
       "Home_Ownership_OWN                            0.021325             -0.013326   \n",
       "Home_Ownership_RENT                           0.012082              0.033184   \n",
       "ln_Ineterest_Rate                            -0.025117             -0.026597   \n",
       "\n",
       "                                 Home_Ownership_NONE  Home_Ownership_OTHER  \\\n",
       "Amount_Requested                           -0.019012             -0.015984   \n",
       "Interest_Rate                              -0.027161              0.032145   \n",
       "Loan_Length                                -0.010599             -0.002078   \n",
       "Debt_To_Income_Ratio                       -0.038466             -0.002901   \n",
       "Monthly_Income                             -0.003947             -0.000557   \n",
       "Open_CREDIT_Lines                          -0.004812              0.040375   \n",
       "Revolving_CREDIT_Balance                   -0.005174              0.045893   \n",
       "Inquiries_in_the_Last_6_Months             -0.015533              0.020141   \n",
       "Employment_Length                          -0.026426             -0.001014   \n",
       "Fico_avg                                    0.054170             -0.042408   \n",
       "Loan_Purpose_credit_card                   -0.009296              0.026051   \n",
       "Loan_Purpose_debt_consolidation            -0.020938             -0.011006   \n",
       "Loan_Purpose_educational                   -0.001554             -0.003478   \n",
       "Loan_Purpose_home_improvement              -0.005090             -0.011390   \n",
       "Loan_Purpose_house                         -0.001796             -0.004020   \n",
       "Loan_Purpose_major_purchase                -0.004105             -0.009185   \n",
       "Loan_Purpose_medical                       -0.002205              0.077293   \n",
       "Loan_Purpose_moving                        -0.002167             -0.004850   \n",
       "Loan_Purpose_other                          0.067653             -0.013237   \n",
       "Loan_Purpose_renewable_energy              -0.000801             -0.001792   \n",
       "Loan_Purpose_small_business                -0.003798             -0.008500   \n",
       "Loan_Purpose_vacation                      -0.001841             -0.004120   \n",
       "Loan_Purpose_wedding                       -0.002518             -0.005635   \n",
       "Home_Ownership_NONE                         1.000000             -0.000896   \n",
       "Home_Ownership_OTHER                       -0.000896              1.000000   \n",
       "Home_Ownership_OWN                         -0.005899             -0.013201   \n",
       "Home_Ownership_RENT                        -0.018403             -0.041184   \n",
       "ln_Ineterest_Rate                          -0.030304              0.032422   \n",
       "\n",
       "                                 Home_Ownership_OWN  Home_Ownership_RENT  \\\n",
       "Amount_Requested                          -0.037239            -0.133911   \n",
       "Interest_Rate                             -0.010484             0.074992   \n",
       "Loan_Length                               -0.031505            -0.064430   \n",
       "Debt_To_Income_Ratio                       0.034046            -0.011685   \n",
       "Monthly_Income                            -0.078723            -0.210431   \n",
       "Open_CREDIT_Lines                         -0.011306            -0.154724   \n",
       "Revolving_CREDIT_Balance                  -0.032363            -0.199250   \n",
       "Inquiries_in_the_Last_6_Months            -0.022319            -0.082150   \n",
       "Employment_Length                         -0.023651            -0.225850   \n",
       "Fico_avg                                   0.005398            -0.152437   \n",
       "Loan_Purpose_credit_card                   0.009568             0.021994   \n",
       "Loan_Purpose_debt_consolidation           -0.051836            -0.001814   \n",
       "Loan_Purpose_educational                   0.034366             0.001289   \n",
       "Loan_Purpose_home_improvement              0.048373            -0.183684   \n",
       "Loan_Purpose_house                         0.006620             0.034532   \n",
       "Loan_Purpose_major_purchase                0.044331            -0.009371   \n",
       "Loan_Purpose_medical                      -0.018957             0.023947   \n",
       "Loan_Purpose_moving                       -0.018176             0.080269   \n",
       "Loan_Purpose_other                         0.010411             0.049782   \n",
       "Loan_Purpose_renewable_energy             -0.011805             0.023428   \n",
       "Loan_Purpose_small_business               -0.007723             0.004902   \n",
       "Loan_Purpose_vacation                      0.021325             0.012082   \n",
       "Loan_Purpose_wedding                      -0.013326             0.033184   \n",
       "Home_Ownership_NONE                       -0.005899            -0.018403   \n",
       "Home_Ownership_OTHER                      -0.013201            -0.041184   \n",
       "Home_Ownership_OWN                         1.000000            -0.271290   \n",
       "Home_Ownership_RENT                       -0.271290             1.000000   \n",
       "ln_Ineterest_Rate                         -0.013740             0.086009   \n",
       "\n",
       "                                 ln_Ineterest_Rate  \n",
       "Amount_Requested                          0.301991  \n",
       "Interest_Rate                             0.982431  \n",
       "Loan_Length                               0.386342  \n",
       "Debt_To_Income_Ratio                      0.178772  \n",
       "Monthly_Income                            0.014245  \n",
       "Open_CREDIT_Lines                         0.068331  \n",
       "Revolving_CREDIT_Balance                  0.079789  \n",
       "Inquiries_in_the_Last_6_Months            0.177427  \n",
       "Employment_Length                         0.036027  \n",
       "Fico_avg                                 -0.744196  \n",
       "Loan_Purpose_credit_card                  0.005054  \n",
       "Loan_Purpose_debt_consolidation           0.133565  \n",
       "Loan_Purpose_educational                 -0.036673  \n",
       "Loan_Purpose_home_improvement            -0.097748  \n",
       "Loan_Purpose_house                        0.003179  \n",
       "Loan_Purpose_major_purchase              -0.111812  \n",
       "Loan_Purpose_medical                     -0.045235  \n",
       "Loan_Purpose_moving                       0.009556  \n",
       "Loan_Purpose_other                        0.007845  \n",
       "Loan_Purpose_renewable_energy            -0.031531  \n",
       "Loan_Purpose_small_business              -0.011296  \n",
       "Loan_Purpose_vacation                    -0.025117  \n",
       "Loan_Purpose_wedding                     -0.026597  \n",
       "Home_Ownership_NONE                      -0.030304  \n",
       "Home_Ownership_OTHER                      0.032422  \n",
       "Home_Ownership_OWN                       -0.013740  \n",
       "Home_Ownership_RENT                       0.086009  \n",
       "ln_Ineterest_Rate                         1.000000  \n",
       "\n",
       "[28 rows x 28 columns]"
      ]
     },
     "execution_count": 168,
     "metadata": {},
     "output_type": "execute_result"
    }
   ],
   "source": [
    "loan_data.corr()"
   ]
  },
  {
   "cell_type": "code",
   "execution_count": 169,
   "metadata": {},
   "outputs": [
    {
     "data": {
      "text/plain": [
       "Amount_Requested                   0.301991\n",
       "Interest_Rate                      0.982431\n",
       "Loan_Length                        0.386342\n",
       "Debt_To_Income_Ratio               0.178772\n",
       "Monthly_Income                     0.014245\n",
       "Open_CREDIT_Lines                  0.068331\n",
       "Revolving_CREDIT_Balance           0.079789\n",
       "Inquiries_in_the_Last_6_Months     0.177427\n",
       "Employment_Length                  0.036027\n",
       "Fico_avg                          -0.744196\n",
       "Loan_Purpose_credit_card           0.005054\n",
       "Loan_Purpose_debt_consolidation    0.133565\n",
       "Loan_Purpose_educational          -0.036673\n",
       "Loan_Purpose_home_improvement     -0.097748\n",
       "Loan_Purpose_house                 0.003179\n",
       "Loan_Purpose_major_purchase       -0.111812\n",
       "Loan_Purpose_medical              -0.045235\n",
       "Loan_Purpose_moving                0.009556\n",
       "Loan_Purpose_other                 0.007845\n",
       "Loan_Purpose_renewable_energy     -0.031531\n",
       "Loan_Purpose_small_business       -0.011296\n",
       "Loan_Purpose_vacation             -0.025117\n",
       "Loan_Purpose_wedding              -0.026597\n",
       "Home_Ownership_NONE               -0.030304\n",
       "Home_Ownership_OTHER               0.032422\n",
       "Home_Ownership_OWN                -0.013740\n",
       "Home_Ownership_RENT                0.086009\n",
       "ln_Ineterest_Rate                  1.000000\n",
       "dtype: float64"
      ]
     },
     "execution_count": 169,
     "metadata": {},
     "output_type": "execute_result"
    }
   ],
   "source": [
    "#Corrwith used to check relationship of particular column with other columns\n",
    "loan_data.corrwith(loan_data.ln_Ineterest_Rate)"
   ]
  },
  {
   "cell_type": "markdown",
   "metadata": {},
   "source": [
    "### In above table we have relationship data with ln_Interest_Rate\n",
    "### ln_Interest_Rate is derived from Interest_Rate, so we can drop ln_Interest_Rate & Interest_Rate\n",
    "### We can choose variables having relationship >0.1 or <-0.1 (Atleast they should have 10% co-relation)"
   ]
  },
  {
   "cell_type": "markdown",
   "metadata": {},
   "source": [
    "List of X variables having linear relationship with Y\n",
    "Amount_RequestedLoan_Length\n",
    "Debt_To_Income_Ratio\n",
    "Inquiries_in_the_Last_6_Months\n",
    "Fico_avg\n",
    "Loan_Purpose_debt_consolidation\n",
    "Loan_Purpose_major_purchase"
   ]
  },
  {
   "cell_type": "markdown",
   "metadata": {},
   "source": [
    "### Feature Selection"
   ]
  },
  {
   "cell_type": "code",
   "execution_count": 170,
   "metadata": {},
   "outputs": [],
   "source": [
    "from sklearn.feature_selection import rfe, SelectKBest, f_regression, f_oneway"
   ]
  },
  {
   "cell_type": "code",
   "execution_count": 171,
   "metadata": {},
   "outputs": [],
   "source": [
    "#loan_data.columns.difference - stores all columns names except given cloumn names\n",
    "#For eg - Stored all column names except Interest_Rate & ln_Interest_Rate\n",
    "features = loan_data.columns.difference(['Interest_Rate','ln_Ineterest_Rate'])\n",
    "X = loan_data[features]\n",
    "Y = loan_data['ln_Ineterest_Rate']"
   ]
  },
  {
   "cell_type": "markdown",
   "metadata": {},
   "source": [
    "### Calculating F regression"
   ]
  },
  {
   "cell_type": "code",
   "execution_count": 172,
   "metadata": {},
   "outputs": [],
   "source": [
    "F_values, p_values = f_regression(X,Y)"
   ]
  },
  {
   "cell_type": "code",
   "execution_count": 173,
   "metadata": {},
   "outputs": [
    {
     "data": {
      "text/plain": [
       "array([2.50674653e+02, 8.24699064e+01, 3.24654802e+00, 3.10072444e+03,\n",
       "       2.29603005e+00, 2.62865846e+00, 4.71656492e-01, 1.86167622e+01,\n",
       "       8.11937401e+01, 4.38267854e+02, 6.38051931e-02, 4.53726616e+01,\n",
       "       3.36416285e+00, 2.40975974e+01, 2.52433744e-02, 3.16249583e+01,\n",
       "       5.12191332e+00, 2.28115373e-01, 1.53763763e-01, 2.48603541e+00,\n",
       "       3.18810291e-01, 1.57692090e+00, 1.76830111e+00, 5.06966626e-01,\n",
       "       1.17181882e+01, 1.60049914e+01])"
      ]
     },
     "execution_count": 173,
     "metadata": {},
     "output_type": "execute_result"
    }
   ],
   "source": [
    "F_values"
   ]
  },
  {
   "cell_type": "code",
   "execution_count": 174,
   "metadata": {},
   "outputs": [
    {
     "data": {
      "text/plain": [
       "array([7.06795949e-54, 2.12246825e-19, 7.16945719e-02, 0.00000000e+00,\n",
       "       1.29831658e-01, 1.05076560e-01, 4.92289837e-01, 1.66025025e-05,\n",
       "       3.96614065e-19, 8.53692410e-90, 8.00600510e-01, 2.01456973e-11,\n",
       "       6.67483269e-02, 9.74776318e-07, 8.73774972e-01, 2.07811796e-08,\n",
       "       2.37110423e-02, 6.32966573e-01, 6.94997662e-01, 1.14987359e-01,\n",
       "       5.72374192e-01, 2.09322213e-01, 1.83713879e-01, 4.76521428e-01,\n",
       "       6.28892755e-04, 6.50121839e-05])"
      ]
     },
     "execution_count": 174,
     "metadata": {},
     "output_type": "execute_result"
    }
   ],
   "source": [
    "p_values"
   ]
  },
  {
   "cell_type": "code",
   "execution_count": 175,
   "metadata": {},
   "outputs": [],
   "source": [
    "f_reg_result = pd.concat([pd.Series(X.columns), pd.Series(F_values), pd.Series(p_values)], axis=1)"
   ]
  },
  {
   "cell_type": "code",
   "execution_count": 176,
   "metadata": {},
   "outputs": [],
   "source": [
    "#Giving Column Names:\n",
    "f_reg_result.columns = ['Feature', 'F_value', 'P_value']"
   ]
  },
  {
   "cell_type": "code",
   "execution_count": 177,
   "metadata": {},
   "outputs": [
    {
     "data": {
      "text/html": [
       "<div>\n",
       "<style scoped>\n",
       "    .dataframe tbody tr th:only-of-type {\n",
       "        vertical-align: middle;\n",
       "    }\n",
       "\n",
       "    .dataframe tbody tr th {\n",
       "        vertical-align: top;\n",
       "    }\n",
       "\n",
       "    .dataframe thead th {\n",
       "        text-align: right;\n",
       "    }\n",
       "</style>\n",
       "<table border=\"1\" class=\"dataframe\">\n",
       "  <thead>\n",
       "    <tr style=\"text-align: right;\">\n",
       "      <th></th>\n",
       "      <th>Feature</th>\n",
       "      <th>F_value</th>\n",
       "      <th>P_value</th>\n",
       "    </tr>\n",
       "  </thead>\n",
       "  <tbody>\n",
       "    <tr>\n",
       "      <td>0</td>\n",
       "      <td>Amount_Requested</td>\n",
       "      <td>250.674653</td>\n",
       "      <td>7.067959e-54</td>\n",
       "    </tr>\n",
       "    <tr>\n",
       "      <td>1</td>\n",
       "      <td>Debt_To_Income_Ratio</td>\n",
       "      <td>82.469906</td>\n",
       "      <td>2.122468e-19</td>\n",
       "    </tr>\n",
       "    <tr>\n",
       "      <td>2</td>\n",
       "      <td>Employment_Length</td>\n",
       "      <td>3.246548</td>\n",
       "      <td>7.169457e-02</td>\n",
       "    </tr>\n",
       "    <tr>\n",
       "      <td>3</td>\n",
       "      <td>Fico_avg</td>\n",
       "      <td>3100.724445</td>\n",
       "      <td>0.000000e+00</td>\n",
       "    </tr>\n",
       "    <tr>\n",
       "      <td>4</td>\n",
       "      <td>Home_Ownership_NONE</td>\n",
       "      <td>2.296030</td>\n",
       "      <td>1.298317e-01</td>\n",
       "    </tr>\n",
       "    <tr>\n",
       "      <td>5</td>\n",
       "      <td>Home_Ownership_OTHER</td>\n",
       "      <td>2.628658</td>\n",
       "      <td>1.050766e-01</td>\n",
       "    </tr>\n",
       "    <tr>\n",
       "      <td>6</td>\n",
       "      <td>Home_Ownership_OWN</td>\n",
       "      <td>0.471656</td>\n",
       "      <td>4.922898e-01</td>\n",
       "    </tr>\n",
       "    <tr>\n",
       "      <td>7</td>\n",
       "      <td>Home_Ownership_RENT</td>\n",
       "      <td>18.616762</td>\n",
       "      <td>1.660250e-05</td>\n",
       "    </tr>\n",
       "    <tr>\n",
       "      <td>8</td>\n",
       "      <td>Inquiries_in_the_Last_6_Months</td>\n",
       "      <td>81.193740</td>\n",
       "      <td>3.966141e-19</td>\n",
       "    </tr>\n",
       "    <tr>\n",
       "      <td>9</td>\n",
       "      <td>Loan_Length</td>\n",
       "      <td>438.267854</td>\n",
       "      <td>8.536924e-90</td>\n",
       "    </tr>\n",
       "    <tr>\n",
       "      <td>10</td>\n",
       "      <td>Loan_Purpose_credit_card</td>\n",
       "      <td>0.063805</td>\n",
       "      <td>8.006005e-01</td>\n",
       "    </tr>\n",
       "    <tr>\n",
       "      <td>11</td>\n",
       "      <td>Loan_Purpose_debt_consolidation</td>\n",
       "      <td>45.372662</td>\n",
       "      <td>2.014570e-11</td>\n",
       "    </tr>\n",
       "    <tr>\n",
       "      <td>12</td>\n",
       "      <td>Loan_Purpose_educational</td>\n",
       "      <td>3.364163</td>\n",
       "      <td>6.674833e-02</td>\n",
       "    </tr>\n",
       "    <tr>\n",
       "      <td>13</td>\n",
       "      <td>Loan_Purpose_home_improvement</td>\n",
       "      <td>24.097597</td>\n",
       "      <td>9.747763e-07</td>\n",
       "    </tr>\n",
       "    <tr>\n",
       "      <td>14</td>\n",
       "      <td>Loan_Purpose_house</td>\n",
       "      <td>0.025243</td>\n",
       "      <td>8.737750e-01</td>\n",
       "    </tr>\n",
       "    <tr>\n",
       "      <td>15</td>\n",
       "      <td>Loan_Purpose_major_purchase</td>\n",
       "      <td>31.624958</td>\n",
       "      <td>2.078118e-08</td>\n",
       "    </tr>\n",
       "    <tr>\n",
       "      <td>16</td>\n",
       "      <td>Loan_Purpose_medical</td>\n",
       "      <td>5.121913</td>\n",
       "      <td>2.371104e-02</td>\n",
       "    </tr>\n",
       "    <tr>\n",
       "      <td>17</td>\n",
       "      <td>Loan_Purpose_moving</td>\n",
       "      <td>0.228115</td>\n",
       "      <td>6.329666e-01</td>\n",
       "    </tr>\n",
       "    <tr>\n",
       "      <td>18</td>\n",
       "      <td>Loan_Purpose_other</td>\n",
       "      <td>0.153764</td>\n",
       "      <td>6.949977e-01</td>\n",
       "    </tr>\n",
       "    <tr>\n",
       "      <td>19</td>\n",
       "      <td>Loan_Purpose_renewable_energy</td>\n",
       "      <td>2.486035</td>\n",
       "      <td>1.149874e-01</td>\n",
       "    </tr>\n",
       "    <tr>\n",
       "      <td>20</td>\n",
       "      <td>Loan_Purpose_small_business</td>\n",
       "      <td>0.318810</td>\n",
       "      <td>5.723742e-01</td>\n",
       "    </tr>\n",
       "    <tr>\n",
       "      <td>21</td>\n",
       "      <td>Loan_Purpose_vacation</td>\n",
       "      <td>1.576921</td>\n",
       "      <td>2.093222e-01</td>\n",
       "    </tr>\n",
       "    <tr>\n",
       "      <td>22</td>\n",
       "      <td>Loan_Purpose_wedding</td>\n",
       "      <td>1.768301</td>\n",
       "      <td>1.837139e-01</td>\n",
       "    </tr>\n",
       "    <tr>\n",
       "      <td>23</td>\n",
       "      <td>Monthly_Income</td>\n",
       "      <td>0.506967</td>\n",
       "      <td>4.765214e-01</td>\n",
       "    </tr>\n",
       "    <tr>\n",
       "      <td>24</td>\n",
       "      <td>Open_CREDIT_Lines</td>\n",
       "      <td>11.718188</td>\n",
       "      <td>6.288928e-04</td>\n",
       "    </tr>\n",
       "    <tr>\n",
       "      <td>25</td>\n",
       "      <td>Revolving_CREDIT_Balance</td>\n",
       "      <td>16.004991</td>\n",
       "      <td>6.501218e-05</td>\n",
       "    </tr>\n",
       "  </tbody>\n",
       "</table>\n",
       "</div>"
      ],
      "text/plain": [
       "                            Feature      F_value       P_value\n",
       "0                  Amount_Requested   250.674653  7.067959e-54\n",
       "1              Debt_To_Income_Ratio    82.469906  2.122468e-19\n",
       "2                 Employment_Length     3.246548  7.169457e-02\n",
       "3                          Fico_avg  3100.724445  0.000000e+00\n",
       "4               Home_Ownership_NONE     2.296030  1.298317e-01\n",
       "5              Home_Ownership_OTHER     2.628658  1.050766e-01\n",
       "6                Home_Ownership_OWN     0.471656  4.922898e-01\n",
       "7               Home_Ownership_RENT    18.616762  1.660250e-05\n",
       "8    Inquiries_in_the_Last_6_Months    81.193740  3.966141e-19\n",
       "9                       Loan_Length   438.267854  8.536924e-90\n",
       "10         Loan_Purpose_credit_card     0.063805  8.006005e-01\n",
       "11  Loan_Purpose_debt_consolidation    45.372662  2.014570e-11\n",
       "12         Loan_Purpose_educational     3.364163  6.674833e-02\n",
       "13    Loan_Purpose_home_improvement    24.097597  9.747763e-07\n",
       "14               Loan_Purpose_house     0.025243  8.737750e-01\n",
       "15      Loan_Purpose_major_purchase    31.624958  2.078118e-08\n",
       "16             Loan_Purpose_medical     5.121913  2.371104e-02\n",
       "17              Loan_Purpose_moving     0.228115  6.329666e-01\n",
       "18               Loan_Purpose_other     0.153764  6.949977e-01\n",
       "19    Loan_Purpose_renewable_energy     2.486035  1.149874e-01\n",
       "20      Loan_Purpose_small_business     0.318810  5.723742e-01\n",
       "21            Loan_Purpose_vacation     1.576921  2.093222e-01\n",
       "22             Loan_Purpose_wedding     1.768301  1.837139e-01\n",
       "23                   Monthly_Income     0.506967  4.765214e-01\n",
       "24                Open_CREDIT_Lines    11.718188  6.288928e-04\n",
       "25         Revolving_CREDIT_Balance    16.004991  6.501218e-05"
      ]
     },
     "execution_count": 177,
     "metadata": {},
     "output_type": "execute_result"
    }
   ],
   "source": [
    "f_reg_result"
   ]
  },
  {
   "cell_type": "code",
   "execution_count": 178,
   "metadata": {},
   "outputs": [],
   "source": [
    "#Sort according to F values\n",
    "#If F value is High, it is good\n",
    "#If P value is low, It is good\n",
    "f_reg_result.sort_values('F_value', ascending=False, inplace=True)"
   ]
  },
  {
   "cell_type": "code",
   "execution_count": 179,
   "metadata": {},
   "outputs": [
    {
     "data": {
      "text/html": [
       "<div>\n",
       "<style scoped>\n",
       "    .dataframe tbody tr th:only-of-type {\n",
       "        vertical-align: middle;\n",
       "    }\n",
       "\n",
       "    .dataframe tbody tr th {\n",
       "        vertical-align: top;\n",
       "    }\n",
       "\n",
       "    .dataframe thead th {\n",
       "        text-align: right;\n",
       "    }\n",
       "</style>\n",
       "<table border=\"1\" class=\"dataframe\">\n",
       "  <thead>\n",
       "    <tr style=\"text-align: right;\">\n",
       "      <th></th>\n",
       "      <th>Feature</th>\n",
       "      <th>F_value</th>\n",
       "      <th>P_value</th>\n",
       "    </tr>\n",
       "  </thead>\n",
       "  <tbody>\n",
       "    <tr>\n",
       "      <td>3</td>\n",
       "      <td>Fico_avg</td>\n",
       "      <td>3100.724445</td>\n",
       "      <td>0.000000e+00</td>\n",
       "    </tr>\n",
       "    <tr>\n",
       "      <td>9</td>\n",
       "      <td>Loan_Length</td>\n",
       "      <td>438.267854</td>\n",
       "      <td>8.536924e-90</td>\n",
       "    </tr>\n",
       "    <tr>\n",
       "      <td>0</td>\n",
       "      <td>Amount_Requested</td>\n",
       "      <td>250.674653</td>\n",
       "      <td>7.067959e-54</td>\n",
       "    </tr>\n",
       "    <tr>\n",
       "      <td>1</td>\n",
       "      <td>Debt_To_Income_Ratio</td>\n",
       "      <td>82.469906</td>\n",
       "      <td>2.122468e-19</td>\n",
       "    </tr>\n",
       "    <tr>\n",
       "      <td>8</td>\n",
       "      <td>Inquiries_in_the_Last_6_Months</td>\n",
       "      <td>81.193740</td>\n",
       "      <td>3.966141e-19</td>\n",
       "    </tr>\n",
       "    <tr>\n",
       "      <td>11</td>\n",
       "      <td>Loan_Purpose_debt_consolidation</td>\n",
       "      <td>45.372662</td>\n",
       "      <td>2.014570e-11</td>\n",
       "    </tr>\n",
       "    <tr>\n",
       "      <td>15</td>\n",
       "      <td>Loan_Purpose_major_purchase</td>\n",
       "      <td>31.624958</td>\n",
       "      <td>2.078118e-08</td>\n",
       "    </tr>\n",
       "    <tr>\n",
       "      <td>13</td>\n",
       "      <td>Loan_Purpose_home_improvement</td>\n",
       "      <td>24.097597</td>\n",
       "      <td>9.747763e-07</td>\n",
       "    </tr>\n",
       "    <tr>\n",
       "      <td>7</td>\n",
       "      <td>Home_Ownership_RENT</td>\n",
       "      <td>18.616762</td>\n",
       "      <td>1.660250e-05</td>\n",
       "    </tr>\n",
       "    <tr>\n",
       "      <td>25</td>\n",
       "      <td>Revolving_CREDIT_Balance</td>\n",
       "      <td>16.004991</td>\n",
       "      <td>6.501218e-05</td>\n",
       "    </tr>\n",
       "    <tr>\n",
       "      <td>24</td>\n",
       "      <td>Open_CREDIT_Lines</td>\n",
       "      <td>11.718188</td>\n",
       "      <td>6.288928e-04</td>\n",
       "    </tr>\n",
       "    <tr>\n",
       "      <td>16</td>\n",
       "      <td>Loan_Purpose_medical</td>\n",
       "      <td>5.121913</td>\n",
       "      <td>2.371104e-02</td>\n",
       "    </tr>\n",
       "    <tr>\n",
       "      <td>12</td>\n",
       "      <td>Loan_Purpose_educational</td>\n",
       "      <td>3.364163</td>\n",
       "      <td>6.674833e-02</td>\n",
       "    </tr>\n",
       "    <tr>\n",
       "      <td>2</td>\n",
       "      <td>Employment_Length</td>\n",
       "      <td>3.246548</td>\n",
       "      <td>7.169457e-02</td>\n",
       "    </tr>\n",
       "    <tr>\n",
       "      <td>5</td>\n",
       "      <td>Home_Ownership_OTHER</td>\n",
       "      <td>2.628658</td>\n",
       "      <td>1.050766e-01</td>\n",
       "    </tr>\n",
       "    <tr>\n",
       "      <td>19</td>\n",
       "      <td>Loan_Purpose_renewable_energy</td>\n",
       "      <td>2.486035</td>\n",
       "      <td>1.149874e-01</td>\n",
       "    </tr>\n",
       "    <tr>\n",
       "      <td>4</td>\n",
       "      <td>Home_Ownership_NONE</td>\n",
       "      <td>2.296030</td>\n",
       "      <td>1.298317e-01</td>\n",
       "    </tr>\n",
       "    <tr>\n",
       "      <td>22</td>\n",
       "      <td>Loan_Purpose_wedding</td>\n",
       "      <td>1.768301</td>\n",
       "      <td>1.837139e-01</td>\n",
       "    </tr>\n",
       "    <tr>\n",
       "      <td>21</td>\n",
       "      <td>Loan_Purpose_vacation</td>\n",
       "      <td>1.576921</td>\n",
       "      <td>2.093222e-01</td>\n",
       "    </tr>\n",
       "    <tr>\n",
       "      <td>23</td>\n",
       "      <td>Monthly_Income</td>\n",
       "      <td>0.506967</td>\n",
       "      <td>4.765214e-01</td>\n",
       "    </tr>\n",
       "    <tr>\n",
       "      <td>6</td>\n",
       "      <td>Home_Ownership_OWN</td>\n",
       "      <td>0.471656</td>\n",
       "      <td>4.922898e-01</td>\n",
       "    </tr>\n",
       "    <tr>\n",
       "      <td>20</td>\n",
       "      <td>Loan_Purpose_small_business</td>\n",
       "      <td>0.318810</td>\n",
       "      <td>5.723742e-01</td>\n",
       "    </tr>\n",
       "    <tr>\n",
       "      <td>17</td>\n",
       "      <td>Loan_Purpose_moving</td>\n",
       "      <td>0.228115</td>\n",
       "      <td>6.329666e-01</td>\n",
       "    </tr>\n",
       "    <tr>\n",
       "      <td>18</td>\n",
       "      <td>Loan_Purpose_other</td>\n",
       "      <td>0.153764</td>\n",
       "      <td>6.949977e-01</td>\n",
       "    </tr>\n",
       "    <tr>\n",
       "      <td>10</td>\n",
       "      <td>Loan_Purpose_credit_card</td>\n",
       "      <td>0.063805</td>\n",
       "      <td>8.006005e-01</td>\n",
       "    </tr>\n",
       "    <tr>\n",
       "      <td>14</td>\n",
       "      <td>Loan_Purpose_house</td>\n",
       "      <td>0.025243</td>\n",
       "      <td>8.737750e-01</td>\n",
       "    </tr>\n",
       "  </tbody>\n",
       "</table>\n",
       "</div>"
      ],
      "text/plain": [
       "                            Feature      F_value       P_value\n",
       "3                          Fico_avg  3100.724445  0.000000e+00\n",
       "9                       Loan_Length   438.267854  8.536924e-90\n",
       "0                  Amount_Requested   250.674653  7.067959e-54\n",
       "1              Debt_To_Income_Ratio    82.469906  2.122468e-19\n",
       "8    Inquiries_in_the_Last_6_Months    81.193740  3.966141e-19\n",
       "11  Loan_Purpose_debt_consolidation    45.372662  2.014570e-11\n",
       "15      Loan_Purpose_major_purchase    31.624958  2.078118e-08\n",
       "13    Loan_Purpose_home_improvement    24.097597  9.747763e-07\n",
       "7               Home_Ownership_RENT    18.616762  1.660250e-05\n",
       "25         Revolving_CREDIT_Balance    16.004991  6.501218e-05\n",
       "24                Open_CREDIT_Lines    11.718188  6.288928e-04\n",
       "16             Loan_Purpose_medical     5.121913  2.371104e-02\n",
       "12         Loan_Purpose_educational     3.364163  6.674833e-02\n",
       "2                 Employment_Length     3.246548  7.169457e-02\n",
       "5              Home_Ownership_OTHER     2.628658  1.050766e-01\n",
       "19    Loan_Purpose_renewable_energy     2.486035  1.149874e-01\n",
       "4               Home_Ownership_NONE     2.296030  1.298317e-01\n",
       "22             Loan_Purpose_wedding     1.768301  1.837139e-01\n",
       "21            Loan_Purpose_vacation     1.576921  2.093222e-01\n",
       "23                   Monthly_Income     0.506967  4.765214e-01\n",
       "6                Home_Ownership_OWN     0.471656  4.922898e-01\n",
       "20      Loan_Purpose_small_business     0.318810  5.723742e-01\n",
       "17              Loan_Purpose_moving     0.228115  6.329666e-01\n",
       "18               Loan_Purpose_other     0.153764  6.949977e-01\n",
       "10         Loan_Purpose_credit_card     0.063805  8.006005e-01\n",
       "14               Loan_Purpose_house     0.025243  8.737750e-01"
      ]
     },
     "execution_count": 179,
     "metadata": {},
     "output_type": "execute_result"
    }
   ],
   "source": [
    "f_reg_result"
   ]
  },
  {
   "cell_type": "code",
   "execution_count": 180,
   "metadata": {},
   "outputs": [],
   "source": [
    "#Write to csv file\n",
    "f_reg_result.to_csv('f_reg_result.csv')"
   ]
  },
  {
   "cell_type": "markdown",
   "metadata": {},
   "source": [
    "### Will seclect variables having strong impact on Y based on P value \n",
    "#### we can select variables having P value less than 0.05 or 0.1\n",
    "##### Can see P values in CSV file"
   ]
  },
  {
   "cell_type": "markdown",
   "metadata": {},
   "source": [
    "List of variables selected are\n",
    "Fico_avg\n",
    "Loan_Length\n",
    "Amount_Requested\n",
    "Debt_To_Income_Ratio\n",
    "Inquiries_in_the_Last_6_Months\n",
    "Loan_Purpose_debt_consolidation\n",
    "Loan_Purpose_major_purchase\n",
    "Loan_Purpose_home_improvement\n",
    "Home_Ownership_RENT\n",
    "Revolving_CREDIT_Balance\n",
    "Open_CREDIT_Lines"
   ]
  },
  {
   "cell_type": "code",
   "execution_count": 181,
   "metadata": {},
   "outputs": [],
   "source": [
    "#Recursive Feature Elimination\n",
    "#we can give number in n_features_to_select based on how many vairables we need out of total variables\n",
    "from sklearn.linear_model import LinearRegression\n",
    "RFE_model = RFE(LinearRegression(), n_features_to_select=10)"
   ]
  },
  {
   "cell_type": "code",
   "execution_count": 182,
   "metadata": {},
   "outputs": [
    {
     "data": {
      "text/plain": [
       "RFE(estimator=LinearRegression(copy_X=True, fit_intercept=True, n_jobs=None,\n",
       "                               normalize=False),\n",
       "    n_features_to_select=10, step=1, verbose=0)"
      ]
     },
     "execution_count": 182,
     "metadata": {},
     "output_type": "execute_result"
    }
   ],
   "source": [
    "#Apply RFE model on X & Y\n",
    "RFE_model.fit(X, Y)"
   ]
  },
  {
   "cell_type": "code",
   "execution_count": 183,
   "metadata": {},
   "outputs": [
    {
     "data": {
      "text/plain": [
       "array([False, False, False, False,  True,  True, False, False, False,\n",
       "       False,  True,  True, False, False,  True, False, False,  True,\n",
       "        True, False,  True,  True,  True, False, False, False])"
      ]
     },
     "execution_count": 183,
     "metadata": {},
     "output_type": "execute_result"
    }
   ],
   "source": [
    "#It will give which variabe to consider (True) and which one to not consider (False)\n",
    "RFE_model.get_support()"
   ]
  },
  {
   "cell_type": "code",
   "execution_count": 184,
   "metadata": {},
   "outputs": [
    {
     "data": {
      "text/plain": [
       "Index(['Home_Ownership_NONE', 'Home_Ownership_OTHER',\n",
       "       'Loan_Purpose_credit_card', 'Loan_Purpose_debt_consolidation',\n",
       "       'Loan_Purpose_house', 'Loan_Purpose_moving', 'Loan_Purpose_other',\n",
       "       'Loan_Purpose_small_business', 'Loan_Purpose_vacation',\n",
       "       'Loan_Purpose_wedding'],\n",
       "      dtype='object')"
      ]
     },
     "execution_count": 184,
     "metadata": {},
     "output_type": "execute_result"
    }
   ],
   "source": [
    "#List of columns which are being considered\n",
    "X.columns[list(RFE_model.get_support())]"
   ]
  },
  {
   "cell_type": "code",
   "execution_count": 185,
   "metadata": {},
   "outputs": [],
   "source": [
    "RFE_considered_columns = X.columns[list(RFE_model.get_support())]"
   ]
  },
  {
   "cell_type": "code",
   "execution_count": 186,
   "metadata": {},
   "outputs": [
    {
     "name": "stdout",
     "output_type": "stream",
     "text": [
      "0                Home_Ownership_NONE\n",
      "1               Home_Ownership_OTHER\n",
      "2           Loan_Purpose_credit_card\n",
      "3    Loan_Purpose_debt_consolidation\n",
      "4                 Loan_Purpose_house\n",
      "5                Loan_Purpose_moving\n",
      "6                 Loan_Purpose_other\n",
      "7        Loan_Purpose_small_business\n",
      "8              Loan_Purpose_vacation\n",
      "9               Loan_Purpose_wedding\n",
      "dtype: object\n"
     ]
    }
   ],
   "source": [
    "print(pd.Series(RFE_considered_columns))"
   ]
  },
  {
   "cell_type": "code",
   "execution_count": 187,
   "metadata": {},
   "outputs": [],
   "source": [
    "import scipy.stats as stats"
   ]
  },
  {
   "cell_type": "code",
   "execution_count": 188,
   "metadata": {},
   "outputs": [],
   "source": [
    "#Select KBest\n",
    "selectkbest = SelectKBest(f_oneway, k=10)"
   ]
  },
  {
   "cell_type": "code",
   "execution_count": 189,
   "metadata": {},
   "outputs": [
    {
     "data": {
      "text/plain": [
       "SelectKBest(k=10, score_func=<function f_oneway at 0x000001F95D9D9B88>)"
      ]
     },
     "execution_count": 189,
     "metadata": {},
     "output_type": "execute_result"
    }
   ],
   "source": [
    "selectkbest.fit(X,Y)"
   ]
  },
  {
   "cell_type": "code",
   "execution_count": 190,
   "metadata": {},
   "outputs": [
    {
     "data": {
      "text/plain": [
       "array([False, False, False,  True,  True,  True, False, False, False,\n",
       "       False, False, False,  True, False,  True, False,  True,  True,\n",
       "       False,  True, False,  True,  True, False, False, False])"
      ]
     },
     "execution_count": 190,
     "metadata": {},
     "output_type": "execute_result"
    }
   ],
   "source": [
    "selectkbest.get_support()"
   ]
  },
  {
   "cell_type": "code",
   "execution_count": 191,
   "metadata": {},
   "outputs": [
    {
     "data": {
      "text/plain": [
       "Index(['Fico_avg', 'Home_Ownership_NONE', 'Home_Ownership_OTHER',\n",
       "       'Loan_Purpose_educational', 'Loan_Purpose_house',\n",
       "       'Loan_Purpose_medical', 'Loan_Purpose_moving',\n",
       "       'Loan_Purpose_renewable_energy', 'Loan_Purpose_vacation',\n",
       "       'Loan_Purpose_wedding'],\n",
       "      dtype='object')"
      ]
     },
     "execution_count": 191,
     "metadata": {},
     "output_type": "execute_result"
    }
   ],
   "source": [
    "#List of columns which are being considered\n",
    "X.columns[list(selectkbest.get_support())]"
   ]
  },
  {
   "cell_type": "code",
   "execution_count": 192,
   "metadata": {},
   "outputs": [],
   "source": [
    "selectkbest_considered_columns = X.columns[list(selectkbest.get_support())]"
   ]
  },
  {
   "cell_type": "code",
   "execution_count": 193,
   "metadata": {},
   "outputs": [
    {
     "name": "stdout",
     "output_type": "stream",
     "text": [
      "0                         Fico_avg\n",
      "1              Home_Ownership_NONE\n",
      "2             Home_Ownership_OTHER\n",
      "3         Loan_Purpose_educational\n",
      "4               Loan_Purpose_house\n",
      "5             Loan_Purpose_medical\n",
      "6              Loan_Purpose_moving\n",
      "7    Loan_Purpose_renewable_energy\n",
      "8            Loan_Purpose_vacation\n",
      "9             Loan_Purpose_wedding\n",
      "dtype: object\n"
     ]
    }
   ],
   "source": [
    "print(pd.Series(selectkbest_considered_columns))"
   ]
  },
  {
   "cell_type": "markdown",
   "metadata": {},
   "source": [
    "### List of all variables from co-relation, f_regression, RFE & SelectKMethod (removed duplicates)"
   ]
  },
  {
   "cell_type": "code",
   "execution_count": 194,
   "metadata": {},
   "outputs": [],
   "source": [
    "X_new = X[['Amount_Requested','Loan_Length','Debt_To_Income_Ratio','Fico_avg','Home_Ownership_NONE','Home_Ownership_OTHER','Home_Ownership_RENT','Inquiries_in_the_Last_6_Months','Loan_Purpose_credit_card','Loan_Purpose_debt_consolidation','Loan_Purpose_educational','Loan_Purpose_home_improvement','Loan_Purpose_house','Loan_Purpose_major_purchase','Loan_Purpose_medical','Loan_Purpose_moving','Loan_Purpose_other','Loan_Purpose_renewable_energy','Loan_Purpose_small_business','Loan_Purpose_vacation','Loan_Purpose_wedding','Open_CREDIT_Lines','Revolving_CREDIT_Balance']]"
   ]
  },
  {
   "cell_type": "code",
   "execution_count": 195,
   "metadata": {},
   "outputs": [
    {
     "data": {
      "text/plain": [
       "23"
      ]
     },
     "execution_count": 195,
     "metadata": {},
     "output_type": "execute_result"
    }
   ],
   "source": [
    "len(X_new.columns)"
   ]
  },
  {
   "cell_type": "markdown",
   "metadata": {},
   "source": [
    "### Reducing further list of variables using VIF (By removing multicollinierity)"
   ]
  },
  {
   "cell_type": "code",
   "execution_count": 196,
   "metadata": {},
   "outputs": [],
   "source": [
    "from statsmodels.stats.outliers_influence import variance_inflation_factor\n",
    "from patsy import dmatrices"
   ]
  },
  {
   "cell_type": "code",
   "execution_count": 197,
   "metadata": {},
   "outputs": [],
   "source": [
    "VIF = [variance_inflation_factor(X_new.values, i) for i in range (X_new.shape[1])]"
   ]
  },
  {
   "cell_type": "markdown",
   "metadata": {},
   "source": [
    "### Checking VIF values"
   ]
  },
  {
   "cell_type": "code",
   "execution_count": 198,
   "metadata": {},
   "outputs": [
    {
     "data": {
      "text/html": [
       "<div>\n",
       "<style scoped>\n",
       "    .dataframe tbody tr th:only-of-type {\n",
       "        vertical-align: middle;\n",
       "    }\n",
       "\n",
       "    .dataframe tbody tr th {\n",
       "        vertical-align: top;\n",
       "    }\n",
       "\n",
       "    .dataframe thead th {\n",
       "        text-align: right;\n",
       "    }\n",
       "</style>\n",
       "<table border=\"1\" class=\"dataframe\">\n",
       "  <thead>\n",
       "    <tr style=\"text-align: right;\">\n",
       "      <th></th>\n",
       "      <th>Column_Names</th>\n",
       "      <th>VIF_value</th>\n",
       "    </tr>\n",
       "  </thead>\n",
       "  <tbody>\n",
       "    <tr>\n",
       "      <td>3</td>\n",
       "      <td>Fico_avg</td>\n",
       "      <td>61.443158</td>\n",
       "    </tr>\n",
       "    <tr>\n",
       "      <td>9</td>\n",
       "      <td>Loan_Purpose_debt_consolidation</td>\n",
       "      <td>24.104769</td>\n",
       "    </tr>\n",
       "    <tr>\n",
       "      <td>1</td>\n",
       "      <td>Loan_Length</td>\n",
       "      <td>21.514714</td>\n",
       "    </tr>\n",
       "    <tr>\n",
       "      <td>8</td>\n",
       "      <td>Loan_Purpose_credit_card</td>\n",
       "      <td>8.822896</td>\n",
       "    </tr>\n",
       "    <tr>\n",
       "      <td>21</td>\n",
       "      <td>Open_CREDIT_Lines</td>\n",
       "      <td>8.085029</td>\n",
       "    </tr>\n",
       "    <tr>\n",
       "      <td>2</td>\n",
       "      <td>Debt_To_Income_Ratio</td>\n",
       "      <td>6.357232</td>\n",
       "    </tr>\n",
       "    <tr>\n",
       "      <td>0</td>\n",
       "      <td>Amount_Requested</td>\n",
       "      <td>5.179325</td>\n",
       "    </tr>\n",
       "    <tr>\n",
       "      <td>16</td>\n",
       "      <td>Loan_Purpose_other</td>\n",
       "      <td>4.536942</td>\n",
       "    </tr>\n",
       "    <tr>\n",
       "      <td>11</td>\n",
       "      <td>Loan_Purpose_home_improvement</td>\n",
       "      <td>3.818293</td>\n",
       "    </tr>\n",
       "    <tr>\n",
       "      <td>13</td>\n",
       "      <td>Loan_Purpose_major_purchase</td>\n",
       "      <td>2.846424</td>\n",
       "    </tr>\n",
       "    <tr>\n",
       "      <td>22</td>\n",
       "      <td>Revolving_CREDIT_Balance</td>\n",
       "      <td>2.588215</td>\n",
       "    </tr>\n",
       "    <tr>\n",
       "      <td>18</td>\n",
       "      <td>Loan_Purpose_small_business</td>\n",
       "      <td>2.577256</td>\n",
       "    </tr>\n",
       "    <tr>\n",
       "      <td>6</td>\n",
       "      <td>Home_Ownership_RENT</td>\n",
       "      <td>2.026901</td>\n",
       "    </tr>\n",
       "    <tr>\n",
       "      <td>20</td>\n",
       "      <td>Loan_Purpose_wedding</td>\n",
       "      <td>1.679774</td>\n",
       "    </tr>\n",
       "    <tr>\n",
       "      <td>7</td>\n",
       "      <td>Inquiries_in_the_Last_6_Months</td>\n",
       "      <td>1.659004</td>\n",
       "    </tr>\n",
       "    <tr>\n",
       "      <td>14</td>\n",
       "      <td>Loan_Purpose_medical</td>\n",
       "      <td>1.545960</td>\n",
       "    </tr>\n",
       "    <tr>\n",
       "      <td>15</td>\n",
       "      <td>Loan_Purpose_moving</td>\n",
       "      <td>1.520267</td>\n",
       "    </tr>\n",
       "    <tr>\n",
       "      <td>19</td>\n",
       "      <td>Loan_Purpose_vacation</td>\n",
       "      <td>1.377730</td>\n",
       "    </tr>\n",
       "    <tr>\n",
       "      <td>12</td>\n",
       "      <td>Loan_Purpose_house</td>\n",
       "      <td>1.363560</td>\n",
       "    </tr>\n",
       "    <tr>\n",
       "      <td>10</td>\n",
       "      <td>Loan_Purpose_educational</td>\n",
       "      <td>1.280456</td>\n",
       "    </tr>\n",
       "    <tr>\n",
       "      <td>17</td>\n",
       "      <td>Loan_Purpose_renewable_energy</td>\n",
       "      <td>1.074690</td>\n",
       "    </tr>\n",
       "    <tr>\n",
       "      <td>5</td>\n",
       "      <td>Home_Ownership_OTHER</td>\n",
       "      <td>1.015724</td>\n",
       "    </tr>\n",
       "    <tr>\n",
       "      <td>4</td>\n",
       "      <td>Home_Ownership_NONE</td>\n",
       "      <td>1.008237</td>\n",
       "    </tr>\n",
       "  </tbody>\n",
       "</table>\n",
       "</div>"
      ],
      "text/plain": [
       "                       Column_Names  VIF_value\n",
       "3                          Fico_avg  61.443158\n",
       "9   Loan_Purpose_debt_consolidation  24.104769\n",
       "1                       Loan_Length  21.514714\n",
       "8          Loan_Purpose_credit_card   8.822896\n",
       "21                Open_CREDIT_Lines   8.085029\n",
       "2              Debt_To_Income_Ratio   6.357232\n",
       "0                  Amount_Requested   5.179325\n",
       "16               Loan_Purpose_other   4.536942\n",
       "11    Loan_Purpose_home_improvement   3.818293\n",
       "13      Loan_Purpose_major_purchase   2.846424\n",
       "22         Revolving_CREDIT_Balance   2.588215\n",
       "18      Loan_Purpose_small_business   2.577256\n",
       "6               Home_Ownership_RENT   2.026901\n",
       "20             Loan_Purpose_wedding   1.679774\n",
       "7    Inquiries_in_the_Last_6_Months   1.659004\n",
       "14             Loan_Purpose_medical   1.545960\n",
       "15              Loan_Purpose_moving   1.520267\n",
       "19            Loan_Purpose_vacation   1.377730\n",
       "12               Loan_Purpose_house   1.363560\n",
       "10         Loan_Purpose_educational   1.280456\n",
       "17    Loan_Purpose_renewable_energy   1.074690\n",
       "5              Home_Ownership_OTHER   1.015724\n",
       "4               Home_Ownership_NONE   1.008237"
      ]
     },
     "execution_count": 198,
     "metadata": {},
     "output_type": "execute_result"
    }
   ],
   "source": [
    "VIF_results = pd.concat([pd.Series(X_new.columns), pd.Series(VIF)], axis=1)\n",
    "VIF_results.columns = ['Column_Names', 'VIF_value']\n",
    "VIF_results.sort_values('VIF_value', ascending = False, inplace = True)\n",
    "VIF_results"
   ]
  },
  {
   "cell_type": "markdown",
   "metadata": {},
   "source": [
    "### Will remove variables with highest VIF value and check again and repeat this process untill all variables have VIF less than 5\n",
    "#### But if some variables are important but their VIF value is high like Fico_avg is important and high value, so we will try to remove other columns having VIF values high and are not very impotant one by one untill we get VIF value for all variables close to 5 or less than 5"
   ]
  },
  {
   "cell_type": "code",
   "execution_count": 199,
   "metadata": {},
   "outputs": [],
   "source": [
    "#Will remove vairable with highest VIF value and check result again\n",
    "X_new=X_new[X_new.columns.difference(['Loan_Purpose_debt_consolidation','Loan_Length','Open_CREDIT_Lines','Debt_To_Income_Ratio','Employment_Length','Revolving_CREDIT_Balance','Home_Ownership_RENT'])]"
   ]
  },
  {
   "cell_type": "code",
   "execution_count": 200,
   "metadata": {},
   "outputs": [],
   "source": [
    "VIF = [variance_inflation_factor(X_new.values, i) for i in range (X_new.shape[1])]"
   ]
  },
  {
   "cell_type": "code",
   "execution_count": 201,
   "metadata": {},
   "outputs": [
    {
     "data": {
      "text/html": [
       "<div>\n",
       "<style scoped>\n",
       "    .dataframe tbody tr th:only-of-type {\n",
       "        vertical-align: middle;\n",
       "    }\n",
       "\n",
       "    .dataframe tbody tr th {\n",
       "        vertical-align: top;\n",
       "    }\n",
       "\n",
       "    .dataframe thead th {\n",
       "        text-align: right;\n",
       "    }\n",
       "</style>\n",
       "<table border=\"1\" class=\"dataframe\">\n",
       "  <thead>\n",
       "    <tr style=\"text-align: right;\">\n",
       "      <th></th>\n",
       "      <th>Column_Names</th>\n",
       "      <th>VIF_value</th>\n",
       "    </tr>\n",
       "  </thead>\n",
       "  <tbody>\n",
       "    <tr>\n",
       "      <td>1</td>\n",
       "      <td>Fico_avg</td>\n",
       "      <td>5.775424</td>\n",
       "    </tr>\n",
       "    <tr>\n",
       "      <td>0</td>\n",
       "      <td>Amount_Requested</td>\n",
       "      <td>3.816253</td>\n",
       "    </tr>\n",
       "    <tr>\n",
       "      <td>4</td>\n",
       "      <td>Inquiries_in_the_Last_6_Months</td>\n",
       "      <td>1.605244</td>\n",
       "    </tr>\n",
       "    <tr>\n",
       "      <td>5</td>\n",
       "      <td>Loan_Purpose_credit_card</td>\n",
       "      <td>1.329892</td>\n",
       "    </tr>\n",
       "    <tr>\n",
       "      <td>12</td>\n",
       "      <td>Loan_Purpose_other</td>\n",
       "      <td>1.192121</td>\n",
       "    </tr>\n",
       "    <tr>\n",
       "      <td>7</td>\n",
       "      <td>Loan_Purpose_home_improvement</td>\n",
       "      <td>1.122241</td>\n",
       "    </tr>\n",
       "    <tr>\n",
       "      <td>9</td>\n",
       "      <td>Loan_Purpose_major_purchase</td>\n",
       "      <td>1.103967</td>\n",
       "    </tr>\n",
       "    <tr>\n",
       "      <td>14</td>\n",
       "      <td>Loan_Purpose_small_business</td>\n",
       "      <td>1.067533</td>\n",
       "    </tr>\n",
       "    <tr>\n",
       "      <td>10</td>\n",
       "      <td>Loan_Purpose_medical</td>\n",
       "      <td>1.034368</td>\n",
       "    </tr>\n",
       "    <tr>\n",
       "      <td>16</td>\n",
       "      <td>Loan_Purpose_wedding</td>\n",
       "      <td>1.031045</td>\n",
       "    </tr>\n",
       "    <tr>\n",
       "      <td>11</td>\n",
       "      <td>Loan_Purpose_moving</td>\n",
       "      <td>1.028977</td>\n",
       "    </tr>\n",
       "    <tr>\n",
       "      <td>6</td>\n",
       "      <td>Loan_Purpose_educational</td>\n",
       "      <td>1.022973</td>\n",
       "    </tr>\n",
       "    <tr>\n",
       "      <td>15</td>\n",
       "      <td>Loan_Purpose_vacation</td>\n",
       "      <td>1.022369</td>\n",
       "    </tr>\n",
       "    <tr>\n",
       "      <td>8</td>\n",
       "      <td>Loan_Purpose_house</td>\n",
       "      <td>1.015689</td>\n",
       "    </tr>\n",
       "    <tr>\n",
       "      <td>3</td>\n",
       "      <td>Home_Ownership_OTHER</td>\n",
       "      <td>1.009692</td>\n",
       "    </tr>\n",
       "    <tr>\n",
       "      <td>13</td>\n",
       "      <td>Loan_Purpose_renewable_energy</td>\n",
       "      <td>1.005827</td>\n",
       "    </tr>\n",
       "    <tr>\n",
       "      <td>2</td>\n",
       "      <td>Home_Ownership_NONE</td>\n",
       "      <td>1.005602</td>\n",
       "    </tr>\n",
       "  </tbody>\n",
       "</table>\n",
       "</div>"
      ],
      "text/plain": [
       "                      Column_Names  VIF_value\n",
       "1                         Fico_avg   5.775424\n",
       "0                 Amount_Requested   3.816253\n",
       "4   Inquiries_in_the_Last_6_Months   1.605244\n",
       "5         Loan_Purpose_credit_card   1.329892\n",
       "12              Loan_Purpose_other   1.192121\n",
       "7    Loan_Purpose_home_improvement   1.122241\n",
       "9      Loan_Purpose_major_purchase   1.103967\n",
       "14     Loan_Purpose_small_business   1.067533\n",
       "10            Loan_Purpose_medical   1.034368\n",
       "16            Loan_Purpose_wedding   1.031045\n",
       "11             Loan_Purpose_moving   1.028977\n",
       "6         Loan_Purpose_educational   1.022973\n",
       "15           Loan_Purpose_vacation   1.022369\n",
       "8               Loan_Purpose_house   1.015689\n",
       "3             Home_Ownership_OTHER   1.009692\n",
       "13   Loan_Purpose_renewable_energy   1.005827\n",
       "2              Home_Ownership_NONE   1.005602"
      ]
     },
     "execution_count": 201,
     "metadata": {},
     "output_type": "execute_result"
    }
   ],
   "source": [
    "VIF_results = pd.concat([pd.Series(X_new.columns), pd.Series(VIF)], axis=1)\n",
    "VIF_results.columns = ['Column_Names', 'VIF_value']\n",
    "VIF_results.sort_values('VIF_value', ascending = False, inplace = True)\n",
    "VIF_results"
   ]
  },
  {
   "cell_type": "code",
   "execution_count": 202,
   "metadata": {},
   "outputs": [
    {
     "data": {
      "text/plain": [
       "Column_Names    17\n",
       "VIF_value       17\n",
       "dtype: int64"
      ]
     },
     "execution_count": 202,
     "metadata": {},
     "output_type": "execute_result"
    }
   ],
   "source": [
    "VIF_results.count()"
   ]
  },
  {
   "cell_type": "code",
   "execution_count": 203,
   "metadata": {},
   "outputs": [
    {
     "data": {
      "text/plain": [
       "Index(['Amount_Requested', 'Fico_avg', 'Home_Ownership_NONE',\n",
       "       'Home_Ownership_OTHER', 'Inquiries_in_the_Last_6_Months',\n",
       "       'Loan_Purpose_credit_card', 'Loan_Purpose_educational',\n",
       "       'Loan_Purpose_home_improvement', 'Loan_Purpose_house',\n",
       "       'Loan_Purpose_major_purchase', 'Loan_Purpose_medical',\n",
       "       'Loan_Purpose_moving', 'Loan_Purpose_other',\n",
       "       'Loan_Purpose_renewable_energy', 'Loan_Purpose_small_business',\n",
       "       'Loan_Purpose_vacation', 'Loan_Purpose_wedding'],\n",
       "      dtype='object')"
      ]
     },
     "execution_count": 203,
     "metadata": {},
     "output_type": "execute_result"
    }
   ],
   "source": [
    "X_new.columns"
   ]
  },
  {
   "cell_type": "code",
   "execution_count": 204,
   "metadata": {},
   "outputs": [
    {
     "name": "stdout",
     "output_type": "stream",
     "text": [
      "<class 'pandas.core.frame.DataFrame'>\n",
      "RangeIndex: 2500 entries, 0 to 2499\n",
      "Data columns (total 17 columns):\n",
      "Amount_Requested                  2500 non-null float64\n",
      "Fico_avg                          2500 non-null float64\n",
      "Home_Ownership_NONE               2500 non-null uint8\n",
      "Home_Ownership_OTHER              2500 non-null uint8\n",
      "Inquiries_in_the_Last_6_Months    2500 non-null float64\n",
      "Loan_Purpose_credit_card          2500 non-null uint8\n",
      "Loan_Purpose_educational          2500 non-null uint8\n",
      "Loan_Purpose_home_improvement     2500 non-null uint8\n",
      "Loan_Purpose_house                2500 non-null uint8\n",
      "Loan_Purpose_major_purchase       2500 non-null uint8\n",
      "Loan_Purpose_medical              2500 non-null uint8\n",
      "Loan_Purpose_moving               2500 non-null uint8\n",
      "Loan_Purpose_other                2500 non-null uint8\n",
      "Loan_Purpose_renewable_energy     2500 non-null uint8\n",
      "Loan_Purpose_small_business       2500 non-null uint8\n",
      "Loan_Purpose_vacation             2500 non-null uint8\n",
      "Loan_Purpose_wedding              2500 non-null uint8\n",
      "dtypes: float64(3), uint8(14)\n",
      "memory usage: 92.9 KB\n"
     ]
    }
   ],
   "source": [
    "X_new.info()"
   ]
  },
  {
   "cell_type": "markdown",
   "metadata": {},
   "source": [
    "### Above list is final list after variable reduction and having mainly 5 columns because \"Home_Ownership & Loan_Purpose\" are same column"
   ]
  },
  {
   "cell_type": "markdown",
   "metadata": {},
   "source": [
    "## Split data into train and test"
   ]
  },
  {
   "cell_type": "code",
   "execution_count": 205,
   "metadata": {},
   "outputs": [],
   "source": [
    "from sklearn.model_selection import train_test_split"
   ]
  },
  {
   "cell_type": "code",
   "execution_count": 206,
   "metadata": {},
   "outputs": [],
   "source": [
    "data_new2 = pd.concat([X_new, Y], axis=1)"
   ]
  },
  {
   "cell_type": "code",
   "execution_count": 207,
   "metadata": {},
   "outputs": [
    {
     "data": {
      "text/html": [
       "<div>\n",
       "<style scoped>\n",
       "    .dataframe tbody tr th:only-of-type {\n",
       "        vertical-align: middle;\n",
       "    }\n",
       "\n",
       "    .dataframe tbody tr th {\n",
       "        vertical-align: top;\n",
       "    }\n",
       "\n",
       "    .dataframe thead th {\n",
       "        text-align: right;\n",
       "    }\n",
       "</style>\n",
       "<table border=\"1\" class=\"dataframe\">\n",
       "  <thead>\n",
       "    <tr style=\"text-align: right;\">\n",
       "      <th></th>\n",
       "      <th>Amount_Requested</th>\n",
       "      <th>Fico_avg</th>\n",
       "      <th>Home_Ownership_NONE</th>\n",
       "      <th>Home_Ownership_OTHER</th>\n",
       "      <th>Inquiries_in_the_Last_6_Months</th>\n",
       "      <th>Loan_Purpose_credit_card</th>\n",
       "      <th>Loan_Purpose_educational</th>\n",
       "      <th>Loan_Purpose_home_improvement</th>\n",
       "      <th>Loan_Purpose_house</th>\n",
       "      <th>Loan_Purpose_major_purchase</th>\n",
       "      <th>Loan_Purpose_medical</th>\n",
       "      <th>Loan_Purpose_moving</th>\n",
       "      <th>Loan_Purpose_other</th>\n",
       "      <th>Loan_Purpose_renewable_energy</th>\n",
       "      <th>Loan_Purpose_small_business</th>\n",
       "      <th>Loan_Purpose_vacation</th>\n",
       "      <th>Loan_Purpose_wedding</th>\n",
       "      <th>ln_Ineterest_Rate</th>\n",
       "    </tr>\n",
       "  </thead>\n",
       "  <tbody>\n",
       "    <tr>\n",
       "      <td>0</td>\n",
       "      <td>20000.0</td>\n",
       "      <td>737.0</td>\n",
       "      <td>0</td>\n",
       "      <td>0</td>\n",
       "      <td>2.0</td>\n",
       "      <td>0</td>\n",
       "      <td>0</td>\n",
       "      <td>0</td>\n",
       "      <td>0</td>\n",
       "      <td>0</td>\n",
       "      <td>0</td>\n",
       "      <td>0</td>\n",
       "      <td>0</td>\n",
       "      <td>0</td>\n",
       "      <td>0</td>\n",
       "      <td>0</td>\n",
       "      <td>0</td>\n",
       "      <td>2.186051</td>\n",
       "    </tr>\n",
       "    <tr>\n",
       "      <td>1</td>\n",
       "      <td>19200.0</td>\n",
       "      <td>717.0</td>\n",
       "      <td>0</td>\n",
       "      <td>0</td>\n",
       "      <td>1.0</td>\n",
       "      <td>0</td>\n",
       "      <td>0</td>\n",
       "      <td>0</td>\n",
       "      <td>0</td>\n",
       "      <td>0</td>\n",
       "      <td>0</td>\n",
       "      <td>0</td>\n",
       "      <td>0</td>\n",
       "      <td>0</td>\n",
       "      <td>0</td>\n",
       "      <td>0</td>\n",
       "      <td>0</td>\n",
       "      <td>2.494857</td>\n",
       "    </tr>\n",
       "  </tbody>\n",
       "</table>\n",
       "</div>"
      ],
      "text/plain": [
       "   Amount_Requested  Fico_avg  Home_Ownership_NONE  Home_Ownership_OTHER  \\\n",
       "0           20000.0     737.0                    0                     0   \n",
       "1           19200.0     717.0                    0                     0   \n",
       "\n",
       "   Inquiries_in_the_Last_6_Months  Loan_Purpose_credit_card  \\\n",
       "0                             2.0                         0   \n",
       "1                             1.0                         0   \n",
       "\n",
       "   Loan_Purpose_educational  Loan_Purpose_home_improvement  \\\n",
       "0                         0                              0   \n",
       "1                         0                              0   \n",
       "\n",
       "   Loan_Purpose_house  Loan_Purpose_major_purchase  Loan_Purpose_medical  \\\n",
       "0                   0                            0                     0   \n",
       "1                   0                            0                     0   \n",
       "\n",
       "   Loan_Purpose_moving  Loan_Purpose_other  Loan_Purpose_renewable_energy  \\\n",
       "0                    0                   0                              0   \n",
       "1                    0                   0                              0   \n",
       "\n",
       "   Loan_Purpose_small_business  Loan_Purpose_vacation  Loan_Purpose_wedding  \\\n",
       "0                            0                      0                     0   \n",
       "1                            0                      0                     0   \n",
       "\n",
       "   ln_Ineterest_Rate  \n",
       "0           2.186051  \n",
       "1           2.494857  "
      ]
     },
     "execution_count": 207,
     "metadata": {},
     "output_type": "execute_result"
    }
   ],
   "source": [
    "data_new2.head(2)"
   ]
  },
  {
   "cell_type": "code",
   "execution_count": 208,
   "metadata": {},
   "outputs": [],
   "source": [
    "#test_size here means test data will be 30% and train data will be 70%\n",
    "train, test = train_test_split(data_new2, test_size = 0.3, random_state = 123)"
   ]
  },
  {
   "cell_type": "markdown",
   "metadata": {},
   "source": [
    "## Model Building"
   ]
  },
  {
   "cell_type": "code",
   "execution_count": 209,
   "metadata": {},
   "outputs": [],
   "source": [
    "import statsmodels.formula.api as smf"
   ]
  },
  {
   "cell_type": "code",
   "execution_count": 210,
   "metadata": {},
   "outputs": [
    {
     "data": {
      "text/plain": [
       "Index(['Amount_Requested', 'Fico_avg', 'Home_Ownership_NONE',\n",
       "       'Home_Ownership_OTHER', 'Inquiries_in_the_Last_6_Months',\n",
       "       'Loan_Purpose_credit_card', 'Loan_Purpose_educational',\n",
       "       'Loan_Purpose_home_improvement', 'Loan_Purpose_house',\n",
       "       'Loan_Purpose_major_purchase', 'Loan_Purpose_medical',\n",
       "       'Loan_Purpose_moving', 'Loan_Purpose_other',\n",
       "       'Loan_Purpose_renewable_energy', 'Loan_Purpose_small_business',\n",
       "       'Loan_Purpose_vacation', 'Loan_Purpose_wedding', 'ln_Ineterest_Rate'],\n",
       "      dtype='object')"
      ]
     },
     "execution_count": 210,
     "metadata": {},
     "output_type": "execute_result"
    }
   ],
   "source": [
    "#List of columns\n",
    "train.columns"
   ]
  },
  {
   "cell_type": "markdown",
   "metadata": {},
   "source": [
    "### Concatenate list of columns with '+' symbol because we need list of X variables like this in function\n",
    "### Removing Y variable (ln_Interest_Rate) because we dont need it to be concatenated with X variables"
   ]
  },
  {
   "cell_type": "markdown",
   "metadata": {},
   "source": [
    "### Function for defining linear model\n",
    "#### Model Formula :"
   ]
  },
  {
   "cell_type": "markdown",
   "metadata": {},
   "source": [
    "model = smf.ols(formula = 'y~x1+x2+x3', data=train)\n",
    "model = model.fit()"
   ]
  },
  {
   "cell_type": "code",
   "execution_count": 211,
   "metadata": {},
   "outputs": [
    {
     "data": {
      "text/plain": [
       "'Amount_Requested+Fico_avg+Home_Ownership_NONE+Home_Ownership_OTHER+Inquiries_in_the_Last_6_Months+Loan_Purpose_credit_card+Loan_Purpose_educational+Loan_Purpose_home_improvement+Loan_Purpose_house+Loan_Purpose_major_purchase+Loan_Purpose_medical+Loan_Purpose_moving+Loan_Purpose_other+Loan_Purpose_renewable_energy+Loan_Purpose_small_business+Loan_Purpose_vacation+Loan_Purpose_wedding'"
      ]
     },
     "execution_count": 211,
     "metadata": {},
     "output_type": "execute_result"
    }
   ],
   "source": [
    "'+'.join(train.columns.difference(['ln_Ineterest_Rate']))"
   ]
  },
  {
   "cell_type": "code",
   "execution_count": 212,
   "metadata": {},
   "outputs": [],
   "source": [
    "formula = 'ln_Ineterest_Rate' + '~' + '+'.join(train.columns.difference(['ln_Ineterest_Rate']))"
   ]
  },
  {
   "cell_type": "code",
   "execution_count": 213,
   "metadata": {},
   "outputs": [
    {
     "data": {
      "text/plain": [
       "'ln_Ineterest_Rate~Amount_Requested+Fico_avg+Home_Ownership_NONE+Home_Ownership_OTHER+Inquiries_in_the_Last_6_Months+Loan_Purpose_credit_card+Loan_Purpose_educational+Loan_Purpose_home_improvement+Loan_Purpose_house+Loan_Purpose_major_purchase+Loan_Purpose_medical+Loan_Purpose_moving+Loan_Purpose_other+Loan_Purpose_renewable_energy+Loan_Purpose_small_business+Loan_Purpose_vacation+Loan_Purpose_wedding'"
      ]
     },
     "execution_count": 213,
     "metadata": {},
     "output_type": "execute_result"
    }
   ],
   "source": [
    "formula"
   ]
  },
  {
   "cell_type": "code",
   "execution_count": 214,
   "metadata": {},
   "outputs": [
    {
     "name": "stdout",
     "output_type": "stream",
     "text": [
      "                            OLS Regression Results                            \n",
      "==============================================================================\n",
      "Dep. Variable:      ln_Ineterest_Rate   R-squared:                       0.719\n",
      "Model:                            OLS   Adj. R-squared:                  0.716\n",
      "Method:                 Least Squares   F-statistic:                     260.1\n",
      "Date:                Fri, 22 Nov 2019   Prob (F-statistic):               0.00\n",
      "Time:                        14:43:45   Log-Likelihood:                 516.95\n",
      "No. Observations:                1750   AIC:                            -997.9\n",
      "Df Residuals:                    1732   BIC:                            -899.5\n",
      "Df Model:                          17                                         \n",
      "Covariance Type:            nonrobust                                         \n",
      "==================================================================================================\n",
      "                                     coef    std err          t      P>|t|      [0.025      0.975]\n",
      "--------------------------------------------------------------------------------------------------\n",
      "Intercept                          7.6017      0.091     83.427      0.000       7.423       7.780\n",
      "Amount_Requested                1.685e-05    5.7e-07     29.565      0.000    1.57e-05     1.8e-05\n",
      "Fico_avg                          -0.0075      0.000    -58.330      0.000      -0.008      -0.007\n",
      "Home_Ownership_NONE                0.2855      0.182      1.568      0.117      -0.072       0.643\n",
      "Home_Ownership_OTHER              -0.0972      0.130     -0.748      0.454      -0.352       0.158\n",
      "Inquiries_in_the_Last_6_Months     0.0349      0.004      8.842      0.000       0.027       0.043\n",
      "Loan_Purpose_credit_card          -0.0472      0.012     -4.013      0.000      -0.070      -0.024\n",
      "Loan_Purpose_educational           0.0197      0.053      0.371      0.711      -0.084       0.124\n",
      "Loan_Purpose_home_improvement     -0.0135      0.019     -0.710      0.478      -0.051       0.024\n",
      "Loan_Purpose_house                 0.0853      0.049      1.746      0.081      -0.011       0.181\n",
      "Loan_Purpose_major_purchase        0.0495      0.023      2.158      0.031       0.005       0.094\n",
      "Loan_Purpose_medical               0.0132      0.043      0.309      0.757      -0.070       0.097\n",
      "Loan_Purpose_moving                0.0791      0.043      1.828      0.068      -0.006       0.164\n",
      "Loan_Purpose_other                 0.0715      0.017      4.303      0.000       0.039       0.104\n",
      "Loan_Purpose_renewable_energy     -0.1029      0.128     -0.803      0.422      -0.354       0.149\n",
      "Loan_Purpose_small_business        0.0502      0.024      2.123      0.034       0.004       0.097\n",
      "Loan_Purpose_vacation              0.0107      0.051      0.211      0.833      -0.089       0.110\n",
      "Loan_Purpose_wedding              -0.0629      0.036     -1.746      0.081      -0.134       0.008\n",
      "==============================================================================\n",
      "Omnibus:                       25.761   Durbin-Watson:                   1.976\n",
      "Prob(Omnibus):                  0.000   Jarque-Bera (JB):               44.966\n",
      "Skew:                           0.057   Prob(JB):                     1.72e-10\n",
      "Kurtosis:                       3.777   Cond. No.                     6.20e+05\n",
      "==============================================================================\n",
      "\n",
      "Warnings:\n",
      "[1] Standard Errors assume that the covariance matrix of the errors is correctly specified.\n",
      "[2] The condition number is large, 6.2e+05. This might indicate that there are\n",
      "strong multicollinearity or other numerical problems.\n"
     ]
    }
   ],
   "source": [
    "model = smf.ols(formula, data=train)\n",
    "model = model.fit()\n",
    "model_summary = model.summary()\n",
    "print(model_summary)"
   ]
  },
  {
   "cell_type": "markdown",
   "metadata": {},
   "source": [
    "### Will drop Insignificant variables where P value is >0.05"
   ]
  },
  {
   "cell_type": "code",
   "execution_count": 215,
   "metadata": {},
   "outputs": [],
   "source": [
    "formula = 'ln_Ineterest_Rate' + '~' + '+'.join(train.columns.difference(['ln_Ineterest_Rate','Loan_Purpose_vacation','Loan_Purpose_renewable_energy','Loan_Purpose_medical','Loan_Purpose_educational','Home_Ownership_OTHER','Home_Ownership_NONE','Home_Ownership_OWN','Loan_Purpose_home_improvement','Loan_Purpose_house','Loan_Purpose_moving','Loan_Purpose_wedding']))"
   ]
  },
  {
   "cell_type": "code",
   "execution_count": 216,
   "metadata": {},
   "outputs": [
    {
     "name": "stdout",
     "output_type": "stream",
     "text": [
      "                            OLS Regression Results                            \n",
      "==============================================================================\n",
      "Dep. Variable:      ln_Ineterest_Rate   R-squared:                       0.716\n",
      "Model:                            OLS   Adj. R-squared:                  0.715\n",
      "Method:                 Least Squares   F-statistic:                     628.1\n",
      "Date:                Fri, 22 Nov 2019   Prob (F-statistic):               0.00\n",
      "Time:                        14:43:45   Log-Likelihood:                 509.85\n",
      "No. Observations:                1750   AIC:                            -1004.\n",
      "Df Residuals:                    1742   BIC:                            -960.0\n",
      "Df Model:                           7                                         \n",
      "Covariance Type:            nonrobust                                         \n",
      "==================================================================================================\n",
      "                                     coef    std err          t      P>|t|      [0.025      0.975]\n",
      "--------------------------------------------------------------------------------------------------\n",
      "Intercept                          7.5871      0.090     84.526      0.000       7.411       7.763\n",
      "Amount_Requested                1.678e-05   5.63e-07     29.820      0.000    1.57e-05    1.79e-05\n",
      "Fico_avg                          -0.0075      0.000    -59.327      0.000      -0.008      -0.007\n",
      "Inquiries_in_the_Last_6_Months     0.0352      0.004      8.978      0.000       0.027       0.043\n",
      "Loan_Purpose_credit_card          -0.0470      0.012     -4.074      0.000      -0.070      -0.024\n",
      "Loan_Purpose_major_purchase        0.0488      0.023      2.150      0.032       0.004       0.093\n",
      "Loan_Purpose_other                 0.0733      0.016      4.489      0.000       0.041       0.105\n",
      "Loan_Purpose_small_business        0.0501      0.023      2.133      0.033       0.004       0.096\n",
      "==============================================================================\n",
      "Omnibus:                       25.688   Durbin-Watson:                   1.977\n",
      "Prob(Omnibus):                  0.000   Jarque-Bera (JB):               44.630\n",
      "Skew:                           0.060   Prob(JB):                     2.04e-10\n",
      "Kurtosis:                       3.773   Cond. No.                     3.05e+05\n",
      "==============================================================================\n",
      "\n",
      "Warnings:\n",
      "[1] Standard Errors assume that the covariance matrix of the errors is correctly specified.\n",
      "[2] The condition number is large, 3.05e+05. This might indicate that there are\n",
      "strong multicollinearity or other numerical problems.\n"
     ]
    }
   ],
   "source": [
    "model = smf.ols(formula, data=train)\n",
    "model = model.fit()\n",
    "model_summary = model.summary()\n",
    "print(model_summary)"
   ]
  },
  {
   "cell_type": "markdown",
   "metadata": {},
   "source": [
    "### In Above summary if t value is high then that is the most important variable :"
   ]
  },
  {
   "cell_type": "markdown",
   "metadata": {},
   "source": [
    "Formula based on Model is :\n",
    "ln_Interest_Rate = Amount_Requested*1.678e-05 + Fico_avg*-0.0075 + Inquiries_in_the_Last_6_Months*0.0352 +\n",
    "Loan_Purpose_credit_card*-0.0470 + Loan_Purpose_major_purchase*0.0488 + Loan_Purpose_other*0.0733 +\n",
    "Loan_Purpose_small_business*.0501 + 7.5871\n",
    "\n",
    "Interest_Rate = exp(ln_Inetrest_Rate)"
   ]
  },
  {
   "cell_type": "markdown",
   "metadata": {},
   "source": [
    "So order of important variables are :\n",
    "1)Fico_avg\n",
    "2)Amount_Requested\n",
    "3)Inquiries_in_the_Last_6_Months  \n",
    "4)Loan_Purpose_other\n",
    "5)Loan_Purpose_credit_card\n",
    "6)Loan_Purpose_major_purchase \n",
    "7)Loan_Purpose_small_business \n"
   ]
  },
  {
   "cell_type": "markdown",
   "metadata": {},
   "source": [
    "## Model Validation:"
   ]
  },
  {
   "cell_type": "code",
   "execution_count": 217,
   "metadata": {},
   "outputs": [],
   "source": [
    "#We are taking np.exp because our Y variable is log of Interest_Rate\n",
    "train_pred = np.exp(model.predict(train))\n",
    "test_pred = np.exp(model.predict(test))"
   ]
  },
  {
   "cell_type": "code",
   "execution_count": 218,
   "metadata": {},
   "outputs": [],
   "source": [
    "#We are taking np.exp because our Y variable is log of Interest_Rate\n",
    "train_y = np.exp(train.ln_Ineterest_Rate)\n",
    "test_y = np.exp(test.ln_Ineterest_Rate)"
   ]
  },
  {
   "cell_type": "markdown",
   "metadata": {},
   "source": [
    "### Metrics for train data:"
   ]
  },
  {
   "cell_type": "code",
   "execution_count": 219,
   "metadata": {},
   "outputs": [
    {
     "name": "stdout",
     "output_type": "stream",
     "text": [
      "0.14204579567898237\n",
      "2.2331050785043547\n",
      "0.6197858483278996\n",
      "0.8438900770459166\n"
     ]
    }
   ],
   "source": [
    "#Mean absolute percentage error - MAPE\n",
    "MAPE_train = np.mean(np.abs(train_y-train_pred)/train_y)\n",
    "print(MAPE_train)\n",
    "#Square root of mean square error\n",
    "RMSE_train = np.sqrt(np.mean(np.square(train_y-train_pred)))\n",
    "print(RMSE_train)\n",
    "#Root mean square percentage error\n",
    "RMSP_train = np.sqrt(np.mean(np.square(train_y-train_pred)/train_y))\n",
    "print(RMSP_train)\n",
    "#Correlation Metrics\n",
    "corr_train = np.corrcoef(train_y, train_pred)[1][0]\n",
    "print(corr_train)"
   ]
  },
  {
   "cell_type": "markdown",
   "metadata": {},
   "source": [
    "### Metrics for test data:"
   ]
  },
  {
   "cell_type": "code",
   "execution_count": 220,
   "metadata": {},
   "outputs": [
    {
     "name": "stdout",
     "output_type": "stream",
     "text": [
      "0.14750240590455327\n",
      "2.3197080856150794\n",
      "0.643743589291323\n",
      "0.8321835739129096\n"
     ]
    }
   ],
   "source": [
    "#Mean absolute percentage error - MAPE\n",
    "MAPE_test = np.mean(np.abs(test_y-test_pred)/test_y)\n",
    "print(MAPE_test)\n",
    "#Square root of mean square error\n",
    "RMSE_test = np.sqrt(np.mean(np.square(test_y - test_pred)))\n",
    "print(RMSE_test)\n",
    "#Root mean square percentage error\n",
    "RMSP_test = np.sqrt(np.mean(np.square(test_y - test_pred)/test_y))\n",
    "print(RMSP_test)\n",
    "#Correlation Metrics\n",
    "corr_test = np.corrcoef(test_y, test_pred)[1][0]\n",
    "print(corr_test)"
   ]
  },
  {
   "cell_type": "markdown",
   "metadata": {},
   "source": [
    "### Metrics data is coming similar for train and test data\n",
    "#### Means model is working fine"
   ]
  },
  {
   "cell_type": "markdown",
   "metadata": {},
   "source": [
    "#### Saving Model as object\n",
    "#### Suppose in future, if I get new data and I want to use this model then we can make use of it"
   ]
  },
  {
   "cell_type": "code",
   "execution_count": 221,
   "metadata": {},
   "outputs": [],
   "source": [
    "import pickle\n",
    "#now you can save it to a file\n",
    "with open('loan_reg_model','wb') as f:\n",
    "    pickle.dump(model, f)"
   ]
  },
  {
   "cell_type": "markdown",
   "metadata": {},
   "source": [
    "### Check assumptions of Linear Regression using errors (Bias, Residuals)"
   ]
  },
  {
   "cell_type": "code",
   "execution_count": 222,
   "metadata": {},
   "outputs": [
    {
     "data": {
      "text/plain": [
       "1351   -0.035980\n",
       "903     0.305513\n",
       "2049    0.005955\n",
       "798     0.337126\n",
       "1360   -0.030809\n",
       "dtype: float64"
      ]
     },
     "execution_count": 222,
     "metadata": {},
     "output_type": "execute_result"
    }
   ],
   "source": [
    "model.resid.head()"
   ]
  },
  {
   "cell_type": "markdown",
   "metadata": {},
   "source": [
    "### To check if residuals are following normal distribution or not"
   ]
  },
  {
   "cell_type": "code",
   "execution_count": 223,
   "metadata": {},
   "outputs": [
    {
     "data": {
      "text/plain": [
       "<matplotlib.axes._subplots.AxesSubplot at 0x1f96608f6c8>"
      ]
     },
     "execution_count": 223,
     "metadata": {},
     "output_type": "execute_result"
    },
    {
     "data": {
      "image/png": "[encoded data removed]",
      "text/plain": [
       "<Figure size 432x288 with 1 Axes>"
      ]
     },
     "metadata": {
      "needs_background": "light"
     },
     "output_type": "display_data"
    }
   ],
   "source": [
    "model.resid.hist(bins=100)"
   ]
  },
  {
   "cell_type": "markdown",
   "metadata": {},
   "source": [
    "### Check assumptions of Linear Regression using Co-relations\n",
    "#### y = actual & pred = prediction\n",
    "#### Co-relation should be high"
   ]
  },
  {
   "cell_type": "code",
   "execution_count": 224,
   "metadata": {},
   "outputs": [
    {
     "data": {
      "text/plain": [
       "array([[1.        , 0.84389008],\n",
       "       [0.84389008, 1.        ]])"
      ]
     },
     "execution_count": 224,
     "metadata": {},
     "output_type": "execute_result"
    }
   ],
   "source": [
    "np.corrcoef(train_y, train_pred)"
   ]
  },
  {
   "cell_type": "markdown",
   "metadata": {},
   "source": [
    "##### In above metrics, Co-relation between actual and prediction is high"
   ]
  },
  {
   "cell_type": "markdown",
   "metadata": {},
   "source": [
    "### y = actual & resid = residual (Error)\n",
    "#### co-relation should be low"
   ]
  },
  {
   "cell_type": "code",
   "execution_count": 225,
   "metadata": {},
   "outputs": [
    {
     "data": {
      "text/plain": [
       "array([[1.        , 0.52629863],\n",
       "       [0.52629863, 1.        ]])"
      ]
     },
     "execution_count": 225,
     "metadata": {},
     "output_type": "execute_result"
    }
   ],
   "source": [
    "np.corrcoef(train_y, model.resid)"
   ]
  },
  {
   "cell_type": "markdown",
   "metadata": {},
   "source": [
    "##### in above metrics, co-relation is not low which implicates model is not perfect."
   ]
  },
  {
   "cell_type": "markdown",
   "metadata": {},
   "source": [
    "#### Co-relation tells if high value predicted as high and low value predicted as low value or not but does not tell what value is precited.\n",
    "#### So we go wtih decile analysis as well for actaul and predicted value and check if they are coming similar or not."
   ]
  },
  {
   "cell_type": "markdown",
   "metadata": {},
   "source": [
    "### Model validation using decile analysis"
   ]
  },
  {
   "cell_type": "markdown",
   "metadata": {},
   "source": [
    "#### Check assumptions of Linear Regression using Decile Analysis"
   ]
  },
  {
   "cell_type": "code",
   "execution_count": 226,
   "metadata": {},
   "outputs": [],
   "source": [
    "train_new = pd.concat([train_y, train_pred], axis=1)\n",
    "train_new.columns = ['actual','pred']\n",
    "test_new = pd.concat([test_y, test_pred], axis=1)\n",
    "test_new.columns = ['actual','pred']"
   ]
  },
  {
   "cell_type": "code",
   "execution_count": 227,
   "metadata": {},
   "outputs": [
    {
     "data": {
      "text/html": [
       "<div>\n",
       "<style scoped>\n",
       "    .dataframe tbody tr th:only-of-type {\n",
       "        vertical-align: middle;\n",
       "    }\n",
       "\n",
       "    .dataframe tbody tr th {\n",
       "        vertical-align: top;\n",
       "    }\n",
       "\n",
       "    .dataframe thead th {\n",
       "        text-align: right;\n",
       "    }\n",
       "</style>\n",
       "<table border=\"1\" class=\"dataframe\">\n",
       "  <thead>\n",
       "    <tr style=\"text-align: right;\">\n",
       "      <th></th>\n",
       "      <th>actual</th>\n",
       "      <th>pred</th>\n",
       "    </tr>\n",
       "  </thead>\n",
       "  <tbody>\n",
       "    <tr>\n",
       "      <td>1351</td>\n",
       "      <td>10.74</td>\n",
       "      <td>11.133456</td>\n",
       "    </tr>\n",
       "    <tr>\n",
       "      <td>903</td>\n",
       "      <td>9.32</td>\n",
       "      <td>6.866469</td>\n",
       "    </tr>\n",
       "    <tr>\n",
       "      <td>2049</td>\n",
       "      <td>14.65</td>\n",
       "      <td>14.563022</td>\n",
       "    </tr>\n",
       "    <tr>\n",
       "      <td>798</td>\n",
       "      <td>12.18</td>\n",
       "      <td>8.694310</td>\n",
       "    </tr>\n",
       "    <tr>\n",
       "      <td>1360</td>\n",
       "      <td>14.09</td>\n",
       "      <td>14.530848</td>\n",
       "    </tr>\n",
       "  </tbody>\n",
       "</table>\n",
       "</div>"
      ],
      "text/plain": [
       "      actual       pred\n",
       "1351   10.74  11.133456\n",
       "903     9.32   6.866469\n",
       "2049   14.65  14.563022\n",
       "798    12.18   8.694310\n",
       "1360   14.09  14.530848"
      ]
     },
     "execution_count": 227,
     "metadata": {},
     "output_type": "execute_result"
    }
   ],
   "source": [
    "train_new.head()"
   ]
  },
  {
   "cell_type": "code",
   "execution_count": 228,
   "metadata": {},
   "outputs": [],
   "source": [
    "train_new['Deciles'] = pd.qcut(train_new.pred, 10, labels=False)"
   ]
  },
  {
   "cell_type": "code",
   "execution_count": 229,
   "metadata": {},
   "outputs": [
    {
     "data": {
      "text/html": [
       "<div>\n",
       "<style scoped>\n",
       "    .dataframe tbody tr th:only-of-type {\n",
       "        vertical-align: middle;\n",
       "    }\n",
       "\n",
       "    .dataframe tbody tr th {\n",
       "        vertical-align: top;\n",
       "    }\n",
       "\n",
       "    .dataframe thead th {\n",
       "        text-align: right;\n",
       "    }\n",
       "</style>\n",
       "<table border=\"1\" class=\"dataframe\">\n",
       "  <thead>\n",
       "    <tr style=\"text-align: right;\">\n",
       "      <th></th>\n",
       "      <th>actual</th>\n",
       "      <th>pred</th>\n",
       "      <th>Deciles</th>\n",
       "    </tr>\n",
       "  </thead>\n",
       "  <tbody>\n",
       "    <tr>\n",
       "      <td>1351</td>\n",
       "      <td>10.74</td>\n",
       "      <td>11.133456</td>\n",
       "      <td>3</td>\n",
       "    </tr>\n",
       "    <tr>\n",
       "      <td>903</td>\n",
       "      <td>9.32</td>\n",
       "      <td>6.866469</td>\n",
       "      <td>0</td>\n",
       "    </tr>\n",
       "    <tr>\n",
       "      <td>2049</td>\n",
       "      <td>14.65</td>\n",
       "      <td>14.563022</td>\n",
       "      <td>6</td>\n",
       "    </tr>\n",
       "    <tr>\n",
       "      <td>798</td>\n",
       "      <td>12.18</td>\n",
       "      <td>8.694310</td>\n",
       "      <td>1</td>\n",
       "    </tr>\n",
       "    <tr>\n",
       "      <td>1360</td>\n",
       "      <td>14.09</td>\n",
       "      <td>14.530848</td>\n",
       "      <td>6</td>\n",
       "    </tr>\n",
       "  </tbody>\n",
       "</table>\n",
       "</div>"
      ],
      "text/plain": [
       "      actual       pred  Deciles\n",
       "1351   10.74  11.133456        3\n",
       "903     9.32   6.866469        0\n",
       "2049   14.65  14.563022        6\n",
       "798    12.18   8.694310        1\n",
       "1360   14.09  14.530848        6"
      ]
     },
     "execution_count": 229,
     "metadata": {},
     "output_type": "execute_result"
    }
   ],
   "source": [
    "train_new.head()"
   ]
  },
  {
   "cell_type": "code",
   "execution_count": 230,
   "metadata": {},
   "outputs": [
    {
     "data": {
      "text/html": [
       "<div>\n",
       "<style scoped>\n",
       "    .dataframe tbody tr th:only-of-type {\n",
       "        vertical-align: middle;\n",
       "    }\n",
       "\n",
       "    .dataframe tbody tr th {\n",
       "        vertical-align: top;\n",
       "    }\n",
       "\n",
       "    .dataframe thead th {\n",
       "        text-align: right;\n",
       "    }\n",
       "</style>\n",
       "<table border=\"1\" class=\"dataframe\">\n",
       "  <thead>\n",
       "    <tr style=\"text-align: right;\">\n",
       "      <th></th>\n",
       "      <th>actual</th>\n",
       "      <th>pred</th>\n",
       "    </tr>\n",
       "    <tr>\n",
       "      <th>Deciles</th>\n",
       "      <th></th>\n",
       "      <th></th>\n",
       "    </tr>\n",
       "  </thead>\n",
       "  <tbody>\n",
       "    <tr>\n",
       "      <td>0</td>\n",
       "      <td>7.462366</td>\n",
       "      <td>6.992179</td>\n",
       "    </tr>\n",
       "    <tr>\n",
       "      <td>1</td>\n",
       "      <td>8.744263</td>\n",
       "      <td>8.990606</td>\n",
       "    </tr>\n",
       "    <tr>\n",
       "      <td>2</td>\n",
       "      <td>9.777600</td>\n",
       "      <td>10.347575</td>\n",
       "    </tr>\n",
       "    <tr>\n",
       "      <td>3</td>\n",
       "      <td>11.548857</td>\n",
       "      <td>11.416473</td>\n",
       "    </tr>\n",
       "    <tr>\n",
       "      <td>4</td>\n",
       "      <td>12.783771</td>\n",
       "      <td>12.407240</td>\n",
       "    </tr>\n",
       "    <tr>\n",
       "      <td>5</td>\n",
       "      <td>13.546229</td>\n",
       "      <td>13.340801</td>\n",
       "    </tr>\n",
       "    <tr>\n",
       "      <td>6</td>\n",
       "      <td>14.679714</td>\n",
       "      <td>14.263581</td>\n",
       "    </tr>\n",
       "    <tr>\n",
       "      <td>7</td>\n",
       "      <td>15.795257</td>\n",
       "      <td>15.183595</td>\n",
       "    </tr>\n",
       "    <tr>\n",
       "      <td>8</td>\n",
       "      <td>16.789943</td>\n",
       "      <td>16.214508</td>\n",
       "    </tr>\n",
       "    <tr>\n",
       "      <td>9</td>\n",
       "      <td>19.053592</td>\n",
       "      <td>19.019192</td>\n",
       "    </tr>\n",
       "  </tbody>\n",
       "</table>\n",
       "</div>"
      ],
      "text/plain": [
       "            actual       pred\n",
       "Deciles                      \n",
       "0         7.462366   6.992179\n",
       "1         8.744263   8.990606\n",
       "2         9.777600  10.347575\n",
       "3        11.548857  11.416473\n",
       "4        12.783771  12.407240\n",
       "5        13.546229  13.340801\n",
       "6        14.679714  14.263581\n",
       "7        15.795257  15.183595\n",
       "8        16.789943  16.214508\n",
       "9        19.053592  19.019192"
      ]
     },
     "execution_count": 230,
     "metadata": {},
     "output_type": "execute_result"
    }
   ],
   "source": [
    "#Actual & Predicted should be similar \n",
    "train_new.groupby('Deciles').mean()"
   ]
  },
  {
   "cell_type": "code",
   "execution_count": 231,
   "metadata": {},
   "outputs": [],
   "source": [
    "test_new['Deciles']=pd.qcut(test_new.pred, 10, labels=False)"
   ]
  },
  {
   "cell_type": "code",
   "execution_count": 232,
   "metadata": {},
   "outputs": [
    {
     "data": {
      "text/html": [
       "<div>\n",
       "<style scoped>\n",
       "    .dataframe tbody tr th:only-of-type {\n",
       "        vertical-align: middle;\n",
       "    }\n",
       "\n",
       "    .dataframe tbody tr th {\n",
       "        vertical-align: top;\n",
       "    }\n",
       "\n",
       "    .dataframe thead th {\n",
       "        text-align: right;\n",
       "    }\n",
       "</style>\n",
       "<table border=\"1\" class=\"dataframe\">\n",
       "  <thead>\n",
       "    <tr style=\"text-align: right;\">\n",
       "      <th></th>\n",
       "      <th>actual</th>\n",
       "      <th>pred</th>\n",
       "    </tr>\n",
       "    <tr>\n",
       "      <th>Deciles</th>\n",
       "      <th></th>\n",
       "      <th></th>\n",
       "    </tr>\n",
       "  </thead>\n",
       "  <tbody>\n",
       "    <tr>\n",
       "      <td>0</td>\n",
       "      <td>7.777067</td>\n",
       "      <td>7.055170</td>\n",
       "    </tr>\n",
       "    <tr>\n",
       "      <td>1</td>\n",
       "      <td>8.889867</td>\n",
       "      <td>9.317640</td>\n",
       "    </tr>\n",
       "    <tr>\n",
       "      <td>2</td>\n",
       "      <td>10.324000</td>\n",
       "      <td>10.546000</td>\n",
       "    </tr>\n",
       "    <tr>\n",
       "      <td>3</td>\n",
       "      <td>11.500933</td>\n",
       "      <td>11.597560</td>\n",
       "    </tr>\n",
       "    <tr>\n",
       "      <td>4</td>\n",
       "      <td>12.765333</td>\n",
       "      <td>12.513082</td>\n",
       "    </tr>\n",
       "    <tr>\n",
       "      <td>5</td>\n",
       "      <td>13.921818</td>\n",
       "      <td>13.347130</td>\n",
       "    </tr>\n",
       "    <tr>\n",
       "      <td>6</td>\n",
       "      <td>14.727123</td>\n",
       "      <td>14.157044</td>\n",
       "    </tr>\n",
       "    <tr>\n",
       "      <td>7</td>\n",
       "      <td>15.559733</td>\n",
       "      <td>15.015880</td>\n",
       "    </tr>\n",
       "    <tr>\n",
       "      <td>8</td>\n",
       "      <td>16.738800</td>\n",
       "      <td>16.293275</td>\n",
       "    </tr>\n",
       "    <tr>\n",
       "      <td>9</td>\n",
       "      <td>19.405852</td>\n",
       "      <td>18.938078</td>\n",
       "    </tr>\n",
       "  </tbody>\n",
       "</table>\n",
       "</div>"
      ],
      "text/plain": [
       "            actual       pred\n",
       "Deciles                      \n",
       "0         7.777067   7.055170\n",
       "1         8.889867   9.317640\n",
       "2        10.324000  10.546000\n",
       "3        11.500933  11.597560\n",
       "4        12.765333  12.513082\n",
       "5        13.921818  13.347130\n",
       "6        14.727123  14.157044\n",
       "7        15.559733  15.015880\n",
       "8        16.738800  16.293275\n",
       "9        19.405852  18.938078"
      ]
     },
     "execution_count": 232,
     "metadata": {},
     "output_type": "execute_result"
    }
   ],
   "source": [
    "#Actual & Predicted should be similar \n",
    "test_new.groupby('Deciles').mean()"
   ]
  },
  {
   "cell_type": "code",
   "execution_count": null,
   "metadata": {},
   "outputs": [],
   "source": []
  }
 ],
 "metadata": {
  "kernelspec": {
   "display_name": "Python 3",
   "language": "python",
   "name": "python3"
  },
  "language_info": {
   "codemirror_mode": {
    "name": "ipython",
    "version": 3
   },
   "file_extension": ".py",
   "mimetype": "text/x-python",
   "name": "python",
   "nbconvert_exporter": "python",
   "pygments_lexer": "ipython3",
   "version": "3.7.4"
  }
 },
 "nbformat": 4,
 "nbformat_minor": 2
}
